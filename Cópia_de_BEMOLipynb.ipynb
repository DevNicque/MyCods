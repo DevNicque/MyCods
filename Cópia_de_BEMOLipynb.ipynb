{
  "nbformat": 4,
  "nbformat_minor": 0,
  "metadata": {
    "colab": {
      "name": "Cópia de BEMOLipynb",
      "provenance": [],
      "collapsed_sections": [],
      "include_colab_link": true
    },
    "kernelspec": {
      "display_name": "Python 3",
      "name": "python3"
    }
  },
  "cells": [
    {
      "cell_type": "markdown",
      "metadata": {
        "id": "view-in-github",
        "colab_type": "text"
      },
      "source": [
        "<a href=\"https://colab.research.google.com/github/DevNicque/MyCods/blob/master/C%C3%B3pia_de_BEMOLipynb.ipynb\" target=\"_parent\"><img src=\"https://colab.research.google.com/assets/colab-badge.svg\" alt=\"Open In Colab\"/></a>"
      ]
    },
    {
      "cell_type": "code",
      "metadata": {
        "colab": {
          "base_uri": "https://localhost:8080/"
        },
        "id": "sGCKwTQlc87b",
        "outputId": "836efb04-846f-4e4f-be11-c9cd0a561387"
      },
      "source": [
        "!pip install unidecode"
      ],
      "execution_count": 10,
      "outputs": [
        {
          "output_type": "stream",
          "text": [
            "Collecting unidecode\n",
            "\u001b[?25l  Downloading https://files.pythonhosted.org/packages/74/65/91eab655041e9e92f948cb7302e54962035762ce7b518272ed9d6b269e93/Unidecode-1.1.2-py2.py3-none-any.whl (239kB)\n",
            "\r\u001b[K     |█▍                              | 10kB 15.8MB/s eta 0:00:01\r\u001b[K     |██▊                             | 20kB 22.2MB/s eta 0:00:01\r\u001b[K     |████                            | 30kB 11.4MB/s eta 0:00:01\r\u001b[K     |█████▌                          | 40kB 9.4MB/s eta 0:00:01\r\u001b[K     |██████▉                         | 51kB 4.4MB/s eta 0:00:01\r\u001b[K     |████████▏                       | 61kB 4.8MB/s eta 0:00:01\r\u001b[K     |█████████▋                      | 71kB 5.4MB/s eta 0:00:01\r\u001b[K     |███████████                     | 81kB 5.5MB/s eta 0:00:01\r\u001b[K     |████████████▎                   | 92kB 5.7MB/s eta 0:00:01\r\u001b[K     |█████████████▊                  | 102kB 6.0MB/s eta 0:00:01\r\u001b[K     |███████████████                 | 112kB 6.0MB/s eta 0:00:01\r\u001b[K     |████████████████▍               | 122kB 6.0MB/s eta 0:00:01\r\u001b[K     |█████████████████▊              | 133kB 6.0MB/s eta 0:00:01\r\u001b[K     |███████████████████▏            | 143kB 6.0MB/s eta 0:00:01\r\u001b[K     |████████████████████▌           | 153kB 6.0MB/s eta 0:00:01\r\u001b[K     |█████████████████████▉          | 163kB 6.0MB/s eta 0:00:01\r\u001b[K     |███████████████████████▎        | 174kB 6.0MB/s eta 0:00:01\r\u001b[K     |████████████████████████▋       | 184kB 6.0MB/s eta 0:00:01\r\u001b[K     |██████████████████████████      | 194kB 6.0MB/s eta 0:00:01\r\u001b[K     |███████████████████████████▍    | 204kB 6.0MB/s eta 0:00:01\r\u001b[K     |████████████████████████████▊   | 215kB 6.0MB/s eta 0:00:01\r\u001b[K     |██████████████████████████████  | 225kB 6.0MB/s eta 0:00:01\r\u001b[K     |███████████████████████████████▍| 235kB 6.0MB/s eta 0:00:01\r\u001b[K     |████████████████████████████████| 245kB 6.0MB/s \n",
            "\u001b[?25hInstalling collected packages: unidecode\n",
            "Successfully installed unidecode-1.1.2\n"
          ],
          "name": "stdout"
        }
      ]
    },
    {
      "cell_type": "code",
      "metadata": {
        "id": "ymnHIS1s8tws"
      },
      "source": [
        "import pandas as pd\r\n",
        "from unidecode import unidecode\r\n",
        "import matplotlib.pyplot as plt\r\n",
        "from datetime import date, datetime\r\n"
      ],
      "execution_count": 31,
      "outputs": []
    },
    {
      "cell_type": "code",
      "metadata": {
        "id": "TE99q-v683cu"
      },
      "source": [
        "xlsx = pd.ExcelFile('Desafio - Relatório - Ass de Projetos.xlsx')\r\n",
        "DadosQ1 = pd.read_excel(xlsx, 'Dados - Questão 1')\r\n",
        "DadosQ2 = pd.read_excel(xlsx, 'Dados - Questão 2')"
      ],
      "execution_count": 3,
      "outputs": []
    },
    {
      "cell_type": "code",
      "metadata": {
        "id": "vtXZyePcs-vI",
        "colab": {
          "base_uri": "https://localhost:8080/",
          "height": 198
        },
        "outputId": "b4c0ad91-22c2-485b-cd5c-18977d5776f1"
      },
      "source": [
        "DadosQ1.head()"
      ],
      "execution_count": 4,
      "outputs": [
        {
          "output_type": "execute_result",
          "data": {
            "text/html": [
              "<div>\n",
              "<style scoped>\n",
              "    .dataframe tbody tr th:only-of-type {\n",
              "        vertical-align: middle;\n",
              "    }\n",
              "\n",
              "    .dataframe tbody tr th {\n",
              "        vertical-align: top;\n",
              "    }\n",
              "\n",
              "    .dataframe thead th {\n",
              "        text-align: right;\n",
              "    }\n",
              "</style>\n",
              "<table border=\"1\" class=\"dataframe\">\n",
              "  <thead>\n",
              "    <tr style=\"text-align: right;\">\n",
              "      <th></th>\n",
              "      <th>num_compra</th>\n",
              "      <th>usuario</th>\n",
              "      <th>nome</th>\n",
              "      <th>dados</th>\n",
              "      <th>Filial</th>\n",
              "      <th>data_compra</th>\n",
              "      <th>valor_compra</th>\n",
              "      <th>Imposto</th>\n",
              "      <th>Informado sobre imposto?</th>\n",
              "    </tr>\n",
              "  </thead>\n",
              "  <tbody>\n",
              "    <tr>\n",
              "      <th>0</th>\n",
              "      <td>24937847</td>\n",
              "      <td>295</td>\n",
              "      <td>Daniel</td>\n",
              "      <td>12</td>\n",
              "      <td>Loja Armando Mendes</td>\n",
              "      <td>2019-01-06 11:53:01</td>\n",
              "      <td>129.120</td>\n",
              "      <td>2.603920</td>\n",
              "      <td>Sim</td>\n",
              "    </tr>\n",
              "    <tr>\n",
              "      <th>1</th>\n",
              "      <td>23600787</td>\n",
              "      <td>295</td>\n",
              "      <td>Daniel</td>\n",
              "      <td>12</td>\n",
              "      <td>Loja Manoa</td>\n",
              "      <td>2019-06-01 17:27:11</td>\n",
              "      <td>95.964</td>\n",
              "      <td>1.935274</td>\n",
              "      <td>Sim</td>\n",
              "    </tr>\n",
              "    <tr>\n",
              "      <th>2</th>\n",
              "      <td>24298956</td>\n",
              "      <td>295</td>\n",
              "      <td>Daniel</td>\n",
              "      <td>12</td>\n",
              "      <td>Loja Manoa</td>\n",
              "      <td>2019-06-22 16:40:21</td>\n",
              "      <td>506.052</td>\n",
              "      <td>10.205382</td>\n",
              "      <td>Sim</td>\n",
              "    </tr>\n",
              "    <tr>\n",
              "      <th>3</th>\n",
              "      <td>23802765</td>\n",
              "      <td>331</td>\n",
              "      <td>Alex</td>\n",
              "      <td>12</td>\n",
              "      <td>Loja Manoa</td>\n",
              "      <td>2019-06-11 20:10:43</td>\n",
              "      <td>586.200</td>\n",
              "      <td>11.821700</td>\n",
              "      <td>Sim</td>\n",
              "    </tr>\n",
              "    <tr>\n",
              "      <th>4</th>\n",
              "      <td>22559356</td>\n",
              "      <td>331</td>\n",
              "      <td>Alex</td>\n",
              "      <td>12</td>\n",
              "      <td>Loja Manoa</td>\n",
              "      <td>2019-05-14 19:26:41</td>\n",
              "      <td>57.864</td>\n",
              "      <td>1.166924</td>\n",
              "      <td>Sim</td>\n",
              "    </tr>\n",
              "  </tbody>\n",
              "</table>\n",
              "</div>"
            ],
            "text/plain": [
              "   num_compra  usuario  ...    Imposto  Informado sobre imposto?\n",
              "0    24937847      295  ...   2.603920                       Sim\n",
              "1    23600787      295  ...   1.935274                       Sim\n",
              "2    24298956      295  ...  10.205382                       Sim\n",
              "3    23802765      331  ...  11.821700                       Sim\n",
              "4    22559356      331  ...   1.166924                       Sim\n",
              "\n",
              "[5 rows x 9 columns]"
            ]
          },
          "metadata": {
            "tags": []
          },
          "execution_count": 4
        }
      ]
    },
    {
      "cell_type": "code",
      "metadata": {
        "id": "MMrVx6ZHs-in",
        "colab": {
          "base_uri": "https://localhost:8080/",
          "height": 198
        },
        "outputId": "d991fa1d-4d18-4708-d138-a9fd471c73dd"
      },
      "source": [
        "colunasSelecionadasDadosQ1 = ['num_compra','usuario', 'nome', 'Filial','valor_compra','data_compra']\r\n",
        "SelecionadosDadosQ1 = DadosQ1.filter(items=colunasSelecionadasDadosQ1)\r\n",
        "\r\n",
        "SelecionadosDadosQ1['usuario'] = SelecionadosDadosQ1['usuario'].astype(str)\r\n",
        "SelecionadosDadosQ1['nome'] = SelecionadosDadosQ1['nome'].astype(str)\r\n",
        "\r\n",
        "for index, row in SelecionadosDadosQ1.iterrows():\r\n",
        "    SelecionadosDadosQ1.at[index,'vendedor'] =  row['usuario'] + ' - ' +  row['nome']\r\n",
        "\r\n",
        "\r\n",
        "SelecionadosDadosQ1.head()"
      ],
      "execution_count": 113,
      "outputs": [
        {
          "output_type": "execute_result",
          "data": {
            "text/html": [
              "<div>\n",
              "<style scoped>\n",
              "    .dataframe tbody tr th:only-of-type {\n",
              "        vertical-align: middle;\n",
              "    }\n",
              "\n",
              "    .dataframe tbody tr th {\n",
              "        vertical-align: top;\n",
              "    }\n",
              "\n",
              "    .dataframe thead th {\n",
              "        text-align: right;\n",
              "    }\n",
              "</style>\n",
              "<table border=\"1\" class=\"dataframe\">\n",
              "  <thead>\n",
              "    <tr style=\"text-align: right;\">\n",
              "      <th></th>\n",
              "      <th>num_compra</th>\n",
              "      <th>usuario</th>\n",
              "      <th>nome</th>\n",
              "      <th>Filial</th>\n",
              "      <th>valor_compra</th>\n",
              "      <th>data_compra</th>\n",
              "      <th>vendedor</th>\n",
              "    </tr>\n",
              "  </thead>\n",
              "  <tbody>\n",
              "    <tr>\n",
              "      <th>0</th>\n",
              "      <td>24937847</td>\n",
              "      <td>295</td>\n",
              "      <td>Daniel</td>\n",
              "      <td>Loja Armando Mendes</td>\n",
              "      <td>129.120</td>\n",
              "      <td>2019-01-06 11:53:01</td>\n",
              "      <td>295 - Daniel</td>\n",
              "    </tr>\n",
              "    <tr>\n",
              "      <th>1</th>\n",
              "      <td>23600787</td>\n",
              "      <td>295</td>\n",
              "      <td>Daniel</td>\n",
              "      <td>Loja Manoa</td>\n",
              "      <td>95.964</td>\n",
              "      <td>2019-06-01 17:27:11</td>\n",
              "      <td>295 - Daniel</td>\n",
              "    </tr>\n",
              "    <tr>\n",
              "      <th>2</th>\n",
              "      <td>24298956</td>\n",
              "      <td>295</td>\n",
              "      <td>Daniel</td>\n",
              "      <td>Loja Manoa</td>\n",
              "      <td>506.052</td>\n",
              "      <td>2019-06-22 16:40:21</td>\n",
              "      <td>295 - Daniel</td>\n",
              "    </tr>\n",
              "    <tr>\n",
              "      <th>3</th>\n",
              "      <td>23802765</td>\n",
              "      <td>331</td>\n",
              "      <td>Alex</td>\n",
              "      <td>Loja Manoa</td>\n",
              "      <td>586.200</td>\n",
              "      <td>2019-06-11 20:10:43</td>\n",
              "      <td>331 - Alex</td>\n",
              "    </tr>\n",
              "    <tr>\n",
              "      <th>4</th>\n",
              "      <td>22559356</td>\n",
              "      <td>331</td>\n",
              "      <td>Alex</td>\n",
              "      <td>Loja Manoa</td>\n",
              "      <td>57.864</td>\n",
              "      <td>2019-05-14 19:26:41</td>\n",
              "      <td>331 - Alex</td>\n",
              "    </tr>\n",
              "  </tbody>\n",
              "</table>\n",
              "</div>"
            ],
            "text/plain": [
              "   num_compra usuario    nome  ... valor_compra         data_compra      vendedor\n",
              "0    24937847     295  Daniel  ...      129.120 2019-01-06 11:53:01  295 - Daniel\n",
              "1    23600787     295  Daniel  ...       95.964 2019-06-01 17:27:11  295 - Daniel\n",
              "2    24298956     295  Daniel  ...      506.052 2019-06-22 16:40:21  295 - Daniel\n",
              "3    23802765     331    Alex  ...      586.200 2019-06-11 20:10:43    331 - Alex\n",
              "4    22559356     331    Alex  ...       57.864 2019-05-14 19:26:41    331 - Alex\n",
              "\n",
              "[5 rows x 7 columns]"
            ]
          },
          "metadata": {
            "tags": []
          },
          "execution_count": 113
        }
      ]
    },
    {
      "cell_type": "markdown",
      "metadata": {
        "id": "U86L5YS2YjIO"
      },
      "source": [
        "Análise de Quantidade de vendas por usuários (unidades)\r\n"
      ]
    },
    {
      "cell_type": "code",
      "metadata": {
        "colab": {
          "base_uri": "https://localhost:8080/",
          "height": 198
        },
        "id": "tgVp6Y79u83x",
        "outputId": "fa615b38-500a-4c98-ac92-86b236bc6697"
      },
      "source": [
        "df1 = SelecionadosDadosQ1.groupby(['Filial',\"vendedor\"]).size().reset_index(name=\"count\").sort_values(by=[\"Filial\",'count'], ascending=False)\r\n",
        "\r\n",
        "df1.head()"
      ],
      "execution_count": 106,
      "outputs": [
        {
          "output_type": "execute_result",
          "data": {
            "text/html": [
              "<div>\n",
              "<style scoped>\n",
              "    .dataframe tbody tr th:only-of-type {\n",
              "        vertical-align: middle;\n",
              "    }\n",
              "\n",
              "    .dataframe tbody tr th {\n",
              "        vertical-align: top;\n",
              "    }\n",
              "\n",
              "    .dataframe thead th {\n",
              "        text-align: right;\n",
              "    }\n",
              "</style>\n",
              "<table border=\"1\" class=\"dataframe\">\n",
              "  <thead>\n",
              "    <tr style=\"text-align: right;\">\n",
              "      <th></th>\n",
              "      <th>Filial</th>\n",
              "      <th>vendedor</th>\n",
              "      <th>count</th>\n",
              "    </tr>\n",
              "  </thead>\n",
              "  <tbody>\n",
              "    <tr>\n",
              "      <th>1688</th>\n",
              "      <td>Loja Manoa</td>\n",
              "      <td>465620 - Alessandra</td>\n",
              "      <td>93</td>\n",
              "    </tr>\n",
              "    <tr>\n",
              "      <th>2164</th>\n",
              "      <td>Loja Manoa</td>\n",
              "      <td>703346 - leandro</td>\n",
              "      <td>59</td>\n",
              "    </tr>\n",
              "    <tr>\n",
              "      <th>1370</th>\n",
              "      <td>Loja Manoa</td>\n",
              "      <td>125079 - Adamastor</td>\n",
              "      <td>49</td>\n",
              "    </tr>\n",
              "    <tr>\n",
              "      <th>2281</th>\n",
              "      <td>Loja Manoa</td>\n",
              "      <td>796822 - Thiago</td>\n",
              "      <td>46</td>\n",
              "    </tr>\n",
              "    <tr>\n",
              "      <th>1371</th>\n",
              "      <td>Loja Manoa</td>\n",
              "      <td>12567 - Ruben</td>\n",
              "      <td>45</td>\n",
              "    </tr>\n",
              "  </tbody>\n",
              "</table>\n",
              "</div>"
            ],
            "text/plain": [
              "          Filial             vendedor  count\n",
              "1688  Loja Manoa  465620 - Alessandra     93\n",
              "2164  Loja Manoa     703346 - leandro     59\n",
              "1370  Loja Manoa   125079 - Adamastor     49\n",
              "2281  Loja Manoa      796822 - Thiago     46\n",
              "1371  Loja Manoa        12567 - Ruben     45"
            ]
          },
          "metadata": {
            "tags": []
          },
          "execution_count": 106
        }
      ]
    },
    {
      "cell_type": "code",
      "metadata": {
        "colab": {
          "base_uri": "https://localhost:8080/"
        },
        "id": "FCNXi1ZO4Bc9",
        "outputId": "eacefa86-cc74-4381-f19f-8e61bd329977"
      },
      "source": [
        "count = 0\r\n",
        "\r\n",
        "data_dict = {'Filial': [language['Filial'][0]], 'Vendedor':[language['vendedor'][0]], 'Tot_Vendas':[language['count'][0]]}\r\n",
        "\r\n",
        "for a,b,c in zip(language['Filial'],language['vendedor'],language['count']) :\r\n",
        "    if count == 0:\r\n",
        "      aux = a\r\n",
        "      count +=1\r\n",
        "    if not a == aux:\r\n",
        "      aux = a\r\n",
        "      data_dict['Filial'].append(a)\r\n",
        "      data_dict['Vendedor'].append(b)\r\n",
        "      data_dict['Tot_Vendas'].append(c)\r\n",
        "    \r\n",
        "\r\n",
        "data_dict"
      ],
      "execution_count": 121,
      "outputs": [
        {
          "output_type": "execute_result",
          "data": {
            "text/plain": [
              "{'Filial': ['Loja Armando Mendes', 'Loja Cachoerinha', 'Loja Armando Mendes'],\n",
              " 'Tot_Vendas': [1, 54, 78],\n",
              " 'Vendedor': ['10055 - Marco', '842680 - Giselle', '466205 - Marina']}"
            ]
          },
          "metadata": {
            "tags": []
          },
          "execution_count": 121
        }
      ]
    },
    {
      "cell_type": "code",
      "metadata": {
        "colab": {
          "base_uri": "https://localhost:8080/"
        },
        "id": "WZHntWYdt5wZ",
        "outputId": "c1489b15-2f36-4859-ee01-c087efb860af"
      },
      "source": [
        "count = 0\r\n",
        "aux = language['Filial'][0]\r\n",
        "\r\n",
        "data_dict = {'Filial': [language['Filial'][0]], 'Vendedor':[language['vendedor'][0]], 'Tot_Vendas':[language['count'][0]]}\r\n",
        "\r\n",
        "for index, row in language.iterrows():\r\n",
        "  if not row['Filial'] == aux:\r\n",
        "      aux = row['Filial']\r\n",
        "      data_dict['Filial'].append(row['Filial'])\r\n",
        "      data_dict['Vendedor'].append(row['vendedor'])\r\n",
        "      data_dict['Tot_Vendas'].append(row['count'])\r\n",
        "\r\n",
        "data_dict\r\n"
      ],
      "execution_count": 101,
      "outputs": [
        {
          "output_type": "execute_result",
          "data": {
            "text/plain": [
              "{'Filial': ['Loja Armando Mendes',\n",
              "  'Loja Manoa',\n",
              "  'Loja Cachoerinha',\n",
              "  'Loja Armando Mendes'],\n",
              " 'Tot_Vendas': [1, 93, 54, 78],\n",
              " 'Vendedor': ['10055 - Marco',\n",
              "  '465620 - Alessandra',\n",
              "  '842680 - Giselle',\n",
              "  '466205 - Marina']}"
            ]
          },
          "metadata": {
            "tags": []
          },
          "execution_count": 101
        }
      ]
    },
    {
      "cell_type": "code",
      "metadata": {
        "colab": {
          "base_uri": "https://localhost:8080/",
          "height": 674
        },
        "id": "cLrGC3X8evcl",
        "outputId": "cd55fd45-e0d0-49e6-ac6e-169dd236346c"
      },
      "source": [
        "#Construção do Gráfico\r\n",
        "fig = plt.figure(figsize=(8,6))\r\n",
        "ax = fig.add_axes([0,0,1,1])\r\n",
        "a[0:29].plot(kind='bar', color ='orange', orientation='horizontal', align='edge',width = 0.9, ax=ax)\r\n",
        "plt.xlabel('Filial')\r\n",
        "plt.legend(loc = 'upper right')\r\n",
        "plt.title('Análise vendedor x filial')\r\n",
        "plt.show()"
      ],
      "execution_count": 65,
      "outputs": [
        {
          "output_type": "display_data",
          "data": {
            "image/png": "[encoded data removed]",
            "text/plain": [
              "<Figure size 576x432 with 1 Axes>"
            ]
          },
          "metadata": {
            "tags": [],
            "needs_background": "light"
          }
        }
      ]
    },
    {
      "cell_type": "markdown",
      "metadata": {
        "id": "vz6vFGPUYyf9"
      },
      "source": [
        "Análise de Vendas por Filial (unidades)"
      ]
    },
    {
      "cell_type": "code",
      "metadata": {
        "id": "Ma_4VzmHs-HG"
      },
      "source": [
        "SelecionadosDadosQ1['Filial'].value_counts()"
      ],
      "execution_count": null,
      "outputs": []
    },
    {
      "cell_type": "code",
      "metadata": {
        "id": "2Jq7B0KeTFpJ"
      },
      "source": [
        ""
      ],
      "execution_count": null,
      "outputs": []
    },
    {
      "cell_type": "code",
      "metadata": {
        "id": "FNEzoyEYzNfa",
        "colab": {
          "base_uri": "https://localhost:8080/"
        },
        "outputId": "9c303b7b-3846-4c34-93d1-01093bb946bf"
      },
      "source": [
        "coluna_filial.describe()"
      ],
      "execution_count": null,
      "outputs": [
        {
          "output_type": "execute_result",
          "data": {
            "text/plain": [
              "count                12000\n",
              "unique                   3\n",
              "top       Loja Cachoerinha\n",
              "freq                  4659\n",
              "Name: Filial, dtype: object"
            ]
          },
          "metadata": {
            "tags": []
          },
          "execution_count": 56
        }
      ]
    },
    {
      "cell_type": "markdown",
      "metadata": {
        "id": "sR_rC-VTY_nE"
      },
      "source": [
        "////////"
      ]
    },
    {
      "cell_type": "code",
      "metadata": {
        "id": "b-uZcG74zNdV"
      },
      "source": [
        "microdadosQ1 = DadosQ1.filter(items=colunasSelecionadasQ1)"
      ],
      "execution_count": null,
      "outputs": []
    },
    {
      "cell_type": "code",
      "metadata": {
        "id": "VR11L5yWzNY3",
        "colab": {
          "base_uri": "https://localhost:8080/",
          "height": 202
        },
        "outputId": "41b37263-c208-4cd0-8006-d2199100dab0"
      },
      "source": [
        "microdadosQ1.head()"
      ],
      "execution_count": null,
      "outputs": [
        {
          "output_type": "execute_result",
          "data": {
            "text/html": [
              "<div>\n",
              "<style scoped>\n",
              "    .dataframe tbody tr th:only-of-type {\n",
              "        vertical-align: middle;\n",
              "    }\n",
              "\n",
              "    .dataframe tbody tr th {\n",
              "        vertical-align: top;\n",
              "    }\n",
              "\n",
              "    .dataframe thead th {\n",
              "        text-align: right;\n",
              "    }\n",
              "</style>\n",
              "<table border=\"1\" class=\"dataframe\">\n",
              "  <thead>\n",
              "    <tr style=\"text-align: right;\">\n",
              "      <th></th>\n",
              "      <th>Filial</th>\n",
              "      <th>valor_compra</th>\n",
              "      <th>usuario</th>\n",
              "      <th>nome</th>\n",
              "    </tr>\n",
              "  </thead>\n",
              "  <tbody>\n",
              "    <tr>\n",
              "      <th>0</th>\n",
              "      <td>Loja Manoa</td>\n",
              "      <td>95.964</td>\n",
              "      <td>295</td>\n",
              "      <td>Daniel</td>\n",
              "    </tr>\n",
              "    <tr>\n",
              "      <th>1</th>\n",
              "      <td>Loja Manoa</td>\n",
              "      <td>506.052</td>\n",
              "      <td>295</td>\n",
              "      <td>Daniel</td>\n",
              "    </tr>\n",
              "    <tr>\n",
              "      <th>2</th>\n",
              "      <td>Loja Armando Mendes</td>\n",
              "      <td>129.120</td>\n",
              "      <td>295</td>\n",
              "      <td>Daniel</td>\n",
              "    </tr>\n",
              "    <tr>\n",
              "      <th>3</th>\n",
              "      <td>Loja Manoa</td>\n",
              "      <td>542.148</td>\n",
              "      <td>331</td>\n",
              "      <td>Alex</td>\n",
              "    </tr>\n",
              "    <tr>\n",
              "      <th>4</th>\n",
              "      <td>Loja Manoa</td>\n",
              "      <td>114.324</td>\n",
              "      <td>331</td>\n",
              "      <td>Alex</td>\n",
              "    </tr>\n",
              "  </tbody>\n",
              "</table>\n",
              "</div>"
            ],
            "text/plain": [
              "                Filial  valor_compra  usuario    nome\n",
              "0           Loja Manoa        95.964      295  Daniel\n",
              "1           Loja Manoa       506.052      295  Daniel\n",
              "2  Loja Armando Mendes       129.120      295  Daniel\n",
              "3           Loja Manoa       542.148      331    Alex\n",
              "4           Loja Manoa       114.324      331    Alex"
            ]
          },
          "metadata": {
            "tags": []
          },
          "execution_count": 65
        }
      ]
    },
    {
      "cell_type": "code",
      "metadata": {
        "id": "mWSKmLspzNWT"
      },
      "source": [
        "grupoDadosQ1 = microdadosQ1.groupby(['usuario', 'nome', 'Filial']).sum(['valor_compra'])"
      ],
      "execution_count": null,
      "outputs": []
    },
    {
      "cell_type": "code",
      "metadata": {
        "id": "JAbNIxXRzNTY",
        "colab": {
          "base_uri": "https://localhost:8080/",
          "height": 233
        },
        "outputId": "6eebe1a7-11cb-46d6-e5e5-0fb007b1ffd7"
      },
      "source": [
        "grupoDadosQ1.head()"
      ],
      "execution_count": null,
      "outputs": [
        {
          "output_type": "execute_result",
          "data": {
            "text/html": [
              "<div>\n",
              "<style scoped>\n",
              "    .dataframe tbody tr th:only-of-type {\n",
              "        vertical-align: middle;\n",
              "    }\n",
              "\n",
              "    .dataframe tbody tr th {\n",
              "        vertical-align: top;\n",
              "    }\n",
              "\n",
              "    .dataframe thead th {\n",
              "        text-align: right;\n",
              "    }\n",
              "</style>\n",
              "<table border=\"1\" class=\"dataframe\">\n",
              "  <thead>\n",
              "    <tr style=\"text-align: right;\">\n",
              "      <th></th>\n",
              "      <th></th>\n",
              "      <th></th>\n",
              "      <th>valor_compra</th>\n",
              "    </tr>\n",
              "    <tr>\n",
              "      <th>usuario</th>\n",
              "      <th>nome</th>\n",
              "      <th>Filial</th>\n",
              "      <th></th>\n",
              "    </tr>\n",
              "  </thead>\n",
              "  <tbody>\n",
              "    <tr>\n",
              "      <th rowspan=\"2\" valign=\"top\">295</th>\n",
              "      <th rowspan=\"2\" valign=\"top\">Daniel</th>\n",
              "      <th>Loja Armando Mendes</th>\n",
              "      <td>129.120</td>\n",
              "    </tr>\n",
              "    <tr>\n",
              "      <th>Loja Manoa</th>\n",
              "      <td>602.016</td>\n",
              "    </tr>\n",
              "    <tr>\n",
              "      <th>331</th>\n",
              "      <th>Alex</th>\n",
              "      <th>Loja Manoa</th>\n",
              "      <td>2333.148</td>\n",
              "    </tr>\n",
              "    <tr>\n",
              "      <th>370</th>\n",
              "      <th>Pedro</th>\n",
              "      <th>Loja Manoa</th>\n",
              "      <td>1446.348</td>\n",
              "    </tr>\n",
              "    <tr>\n",
              "      <th>460</th>\n",
              "      <th>Maria Cristina</th>\n",
              "      <th>Loja Manoa</th>\n",
              "      <td>185.736</td>\n",
              "    </tr>\n",
              "  </tbody>\n",
              "</table>\n",
              "</div>"
            ],
            "text/plain": [
              "                                            valor_compra\n",
              "usuario nome           Filial                           \n",
              "295     Daniel         Loja Armando Mendes       129.120\n",
              "                       Loja Manoa                602.016\n",
              "331     Alex           Loja Manoa               2333.148\n",
              "370     Pedro          Loja Manoa               1446.348\n",
              "460     Maria Cristina Loja Manoa                185.736"
            ]
          },
          "metadata": {
            "tags": []
          },
          "execution_count": 60
        }
      ]
    },
    {
      "cell_type": "code",
      "metadata": {
        "colab": {
          "base_uri": "https://localhost:8080/",
          "height": 363
        },
        "id": "GtNnQv7UT3Y9",
        "outputId": "67b20620-8685-45f1-aaaa-d3f460b39d9d"
      },
      "source": [
        "grupoDadosQ1.insert(loc=4, column = 'quantidade', value=cont_usuario)\r\n",
        "grupoDadosQ1.head()"
      ],
      "execution_count": null,
      "outputs": [
        {
          "output_type": "error",
          "ename": "IndexError",
          "evalue": "ignored",
          "traceback": [
            "\u001b[0;31m---------------------------------------------------------------------------\u001b[0m",
            "\u001b[0;31mIndexError\u001b[0m                                Traceback (most recent call last)",
            "\u001b[0;32m<ipython-input-74-c033fe72a061>\u001b[0m in \u001b[0;36m<module>\u001b[0;34m()\u001b[0m\n\u001b[0;32m----> 1\u001b[0;31m \u001b[0mgrupoDadosQ1\u001b[0m\u001b[0;34m.\u001b[0m\u001b[0minsert\u001b[0m\u001b[0;34m(\u001b[0m\u001b[0mloc\u001b[0m\u001b[0;34m=\u001b[0m\u001b[0;36m4\u001b[0m\u001b[0;34m,\u001b[0m \u001b[0mcolumn\u001b[0m \u001b[0;34m=\u001b[0m \u001b[0;34m'quantidade'\u001b[0m\u001b[0;34m,\u001b[0m \u001b[0mvalue\u001b[0m\u001b[0;34m=\u001b[0m\u001b[0mcont_usuario\u001b[0m\u001b[0;34m)\u001b[0m\u001b[0;34m\u001b[0m\u001b[0;34m\u001b[0m\u001b[0m\n\u001b[0m\u001b[1;32m      2\u001b[0m \u001b[0mgrupoDadosQ1\u001b[0m\u001b[0;34m.\u001b[0m\u001b[0mhead\u001b[0m\u001b[0;34m(\u001b[0m\u001b[0;34m)\u001b[0m\u001b[0;34m\u001b[0m\u001b[0;34m\u001b[0m\u001b[0m\n",
            "\u001b[0;32m/usr/local/lib/python3.6/dist-packages/pandas/core/frame.py\u001b[0m in \u001b[0;36minsert\u001b[0;34m(self, loc, column, value, allow_duplicates)\u001b[0m\n\u001b[1;32m   3626\u001b[0m         \u001b[0mself\u001b[0m\u001b[0;34m.\u001b[0m\u001b[0m_ensure_valid_index\u001b[0m\u001b[0;34m(\u001b[0m\u001b[0mvalue\u001b[0m\u001b[0;34m)\u001b[0m\u001b[0;34m\u001b[0m\u001b[0;34m\u001b[0m\u001b[0m\n\u001b[1;32m   3627\u001b[0m         \u001b[0mvalue\u001b[0m \u001b[0;34m=\u001b[0m \u001b[0mself\u001b[0m\u001b[0;34m.\u001b[0m\u001b[0m_sanitize_column\u001b[0m\u001b[0;34m(\u001b[0m\u001b[0mcolumn\u001b[0m\u001b[0;34m,\u001b[0m \u001b[0mvalue\u001b[0m\u001b[0;34m,\u001b[0m \u001b[0mbroadcast\u001b[0m\u001b[0;34m=\u001b[0m\u001b[0;32mFalse\u001b[0m\u001b[0;34m)\u001b[0m\u001b[0;34m\u001b[0m\u001b[0;34m\u001b[0m\u001b[0m\n\u001b[0;32m-> 3628\u001b[0;31m         \u001b[0mself\u001b[0m\u001b[0;34m.\u001b[0m\u001b[0m_mgr\u001b[0m\u001b[0;34m.\u001b[0m\u001b[0minsert\u001b[0m\u001b[0;34m(\u001b[0m\u001b[0mloc\u001b[0m\u001b[0;34m,\u001b[0m \u001b[0mcolumn\u001b[0m\u001b[0;34m,\u001b[0m \u001b[0mvalue\u001b[0m\u001b[0;34m,\u001b[0m \u001b[0mallow_duplicates\u001b[0m\u001b[0;34m=\u001b[0m\u001b[0mallow_duplicates\u001b[0m\u001b[0;34m)\u001b[0m\u001b[0;34m\u001b[0m\u001b[0;34m\u001b[0m\u001b[0m\n\u001b[0m\u001b[1;32m   3629\u001b[0m \u001b[0;34m\u001b[0m\u001b[0m\n\u001b[1;32m   3630\u001b[0m     \u001b[0;32mdef\u001b[0m \u001b[0massign\u001b[0m\u001b[0;34m(\u001b[0m\u001b[0mself\u001b[0m\u001b[0;34m,\u001b[0m \u001b[0;34m**\u001b[0m\u001b[0mkwargs\u001b[0m\u001b[0;34m)\u001b[0m \u001b[0;34m->\u001b[0m \u001b[0;34m\"DataFrame\"\u001b[0m\u001b[0;34m:\u001b[0m\u001b[0;34m\u001b[0m\u001b[0;34m\u001b[0m\u001b[0m\n",
            "\u001b[0;32m/usr/local/lib/python3.6/dist-packages/pandas/core/internals/managers.py\u001b[0m in \u001b[0;36minsert\u001b[0;34m(self, loc, item, value, allow_duplicates)\u001b[0m\n\u001b[1;32m   1213\u001b[0m             \u001b[0mself\u001b[0m\u001b[0;34m.\u001b[0m\u001b[0m_blknos\u001b[0m \u001b[0;34m=\u001b[0m \u001b[0mnp\u001b[0m\u001b[0;34m.\u001b[0m\u001b[0mappend\u001b[0m\u001b[0;34m(\u001b[0m\u001b[0mself\u001b[0m\u001b[0;34m.\u001b[0m\u001b[0m_blknos\u001b[0m\u001b[0;34m,\u001b[0m \u001b[0mlen\u001b[0m\u001b[0;34m(\u001b[0m\u001b[0mself\u001b[0m\u001b[0;34m.\u001b[0m\u001b[0mblocks\u001b[0m\u001b[0;34m)\u001b[0m\u001b[0;34m)\u001b[0m\u001b[0;34m\u001b[0m\u001b[0;34m\u001b[0m\u001b[0m\n\u001b[1;32m   1214\u001b[0m         \u001b[0;32melse\u001b[0m\u001b[0;34m:\u001b[0m\u001b[0;34m\u001b[0m\u001b[0;34m\u001b[0m\u001b[0m\n\u001b[0;32m-> 1215\u001b[0;31m             \u001b[0mself\u001b[0m\u001b[0;34m.\u001b[0m\u001b[0m_blklocs\u001b[0m \u001b[0;34m=\u001b[0m \u001b[0mnp\u001b[0m\u001b[0;34m.\u001b[0m\u001b[0minsert\u001b[0m\u001b[0;34m(\u001b[0m\u001b[0mself\u001b[0m\u001b[0;34m.\u001b[0m\u001b[0m_blklocs\u001b[0m\u001b[0;34m,\u001b[0m \u001b[0mloc\u001b[0m\u001b[0;34m,\u001b[0m \u001b[0;36m0\u001b[0m\u001b[0;34m)\u001b[0m\u001b[0;34m\u001b[0m\u001b[0;34m\u001b[0m\u001b[0m\n\u001b[0m\u001b[1;32m   1216\u001b[0m             \u001b[0mself\u001b[0m\u001b[0;34m.\u001b[0m\u001b[0m_blknos\u001b[0m \u001b[0;34m=\u001b[0m \u001b[0mnp\u001b[0m\u001b[0;34m.\u001b[0m\u001b[0minsert\u001b[0m\u001b[0;34m(\u001b[0m\u001b[0mself\u001b[0m\u001b[0;34m.\u001b[0m\u001b[0m_blknos\u001b[0m\u001b[0;34m,\u001b[0m \u001b[0mloc\u001b[0m\u001b[0;34m,\u001b[0m \u001b[0mlen\u001b[0m\u001b[0;34m(\u001b[0m\u001b[0mself\u001b[0m\u001b[0;34m.\u001b[0m\u001b[0mblocks\u001b[0m\u001b[0;34m)\u001b[0m\u001b[0;34m)\u001b[0m\u001b[0;34m\u001b[0m\u001b[0;34m\u001b[0m\u001b[0m\n\u001b[1;32m   1217\u001b[0m \u001b[0;34m\u001b[0m\u001b[0m\n",
            "\u001b[0;32m<__array_function__ internals>\u001b[0m in \u001b[0;36minsert\u001b[0;34m(*args, **kwargs)\u001b[0m\n",
            "\u001b[0;32m/usr/local/lib/python3.6/dist-packages/numpy/lib/function_base.py\u001b[0m in \u001b[0;36minsert\u001b[0;34m(arr, obj, values, axis)\u001b[0m\n\u001b[1;32m   4558\u001b[0m             raise IndexError(\n\u001b[1;32m   4559\u001b[0m                 \u001b[0;34m\"index %i is out of bounds for axis %i with \"\u001b[0m\u001b[0;34m\u001b[0m\u001b[0;34m\u001b[0m\u001b[0m\n\u001b[0;32m-> 4560\u001b[0;31m                 \"size %i\" % (obj, axis, N))\n\u001b[0m\u001b[1;32m   4561\u001b[0m         \u001b[0;32mif\u001b[0m \u001b[0;34m(\u001b[0m\u001b[0mindex\u001b[0m \u001b[0;34m<\u001b[0m \u001b[0;36m0\u001b[0m\u001b[0;34m)\u001b[0m\u001b[0;34m:\u001b[0m\u001b[0;34m\u001b[0m\u001b[0;34m\u001b[0m\u001b[0m\n\u001b[1;32m   4562\u001b[0m             \u001b[0mindex\u001b[0m \u001b[0;34m+=\u001b[0m \u001b[0mN\u001b[0m\u001b[0;34m\u001b[0m\u001b[0;34m\u001b[0m\u001b[0m\n",
            "\u001b[0;31mIndexError\u001b[0m: index 4 is out of bounds for axis 0 with size 1"
          ]
        }
      ]
    },
    {
      "cell_type": "code",
      "metadata": {
        "id": "vB136Nm0f8VP"
      },
      "source": [
        "grupoDadosQ1.to_excel(\"grupoDadosQ1.xlsx\")"
      ],
      "execution_count": null,
      "outputs": []
    }
  ]
}