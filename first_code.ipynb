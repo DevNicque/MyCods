{
  "nbformat": 4,
  "nbformat_minor": 0,
  "metadata": {
    "colab": {
      "name": "first_code.ipynb",
      "provenance": [],
      "authorship_tag": "ABX9TyPmIJfCYPomO5R505BxJx7b",
      "include_colab_link": true
    },
    "kernelspec": {
      "name": "python3",
      "display_name": "Python 3"
    }
  },
  "cells": [
    {
      "cell_type": "markdown",
      "metadata": {
        "id": "view-in-github",
        "colab_type": "text"
      },
      "source": [
        "<a href=\"https://colab.research.google.com/github/DevNicque/MyCods/blob/master/first_code.ipynb\" target=\"_parent\"><img src=\"https://colab.research.google.com/assets/colab-badge.svg\" alt=\"Open In Colab\"/></a>"
      ]
    },
    {
      "cell_type": "code",
      "metadata": {
        "id": "V2l1cAYuqQlA",
        "outputId": "e231f197-27f4-4091-f062-febc3bc8cddb",
        "colab": {
          "base_uri": "https://localhost:8080/"
        }
      },
      "source": [
        "import time\n",
        "print(time.ctime())"
      ],
      "execution_count": 1,
      "outputs": [
        {
          "output_type": "stream",
          "text": [
            "Sat Nov  7 12:23:37 2020\n"
          ],
          "name": "stdout"
        }
      ]
    },
    {
      "cell_type": "code",
      "metadata": {
        "id": "U8o-Ks65qX2f",
        "outputId": "b383104f-dc95-4bee-9023-6c1a67c97c98",
        "colab": {
          "base_uri": "https://localhost:8080/"
        }
      },
      "source": [
        "time.sleep(5)\n",
        "print(time.ctime())"
      ],
      "execution_count": 2,
      "outputs": [
        {
          "output_type": "stream",
          "text": [
            "Sat Nov  7 12:36:07 2020\n"
          ],
          "name": "stdout"
        }
      ]
    },
    {
      "cell_type": "markdown",
      "metadata": {
        "id": "8K6rTgUKzmpQ"
      },
      "source": [
        "**negrito**\n",
        "*italico*\n",
        "~riscada~"
      ]
    },
    {
      "cell_type": "markdown",
      "metadata": {
        "id": "mdRNZ7ba19ju"
      },
      "source": [
        "$\\sqrt{3x-1}+(1+x)^2$\n"
      ]
    },
    {
      "cell_type": "markdown",
      "metadata": {
        "id": "3KFASfGD4QM1"
      },
      "source": [
        "$e^x=\\sum_{i=0}^\\infty \\frac{1}{i!}x^i$\n",
        "\n"
      ]
    },
    {
      "cell_type": "code",
      "metadata": {
        "id": "VUfZ9J_v2AEv"
      },
      "source": [
        ""
      ],
      "execution_count": null,
      "outputs": []
    }
  ]
}