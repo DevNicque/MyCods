{
  "nbformat": 4,
  "nbformat_minor": 0,
  "metadata": {
    "colab": {
      "name": "first_code.ipynb",
      "provenance": [],
      "toc_visible": true,
      "mount_file_id": "1b3_YDWVawvHjyiZ2-NGQleYKixAhkHx9",
      "authorship_tag": "ABX9TyPoOF8TOKCXBPZazgxWYhMU",
      "include_colab_link": true
    },
    "kernelspec": {
      "name": "python3",
      "display_name": "Python 3"
    }
  },
  "cells": [
    {
      "cell_type": "markdown",
      "metadata": {
        "id": "view-in-github",
        "colab_type": "text"
      },
      "source": [
        "<a href=\"https://colab.research.google.com/github/DevNicque/MyCods/blob/master/first_code.ipynb\" target=\"_parent\"><img src=\"https://colab.research.google.com/assets/colab-badge.svg\" alt=\"Open In Colab\"/></a>"
      ]
    },
    {
      "cell_type": "markdown",
      "metadata": {
        "id": "qE9Qo51fJHuF"
      },
      "source": [
        "**TESTANDO IMPORTAÇÃO DE BIBLIOTECAS**"
      ]
    },
    {
      "cell_type": "code",
      "metadata": {
        "id": "V2l1cAYuqQlA",
        "outputId": "e231f197-27f4-4091-f062-febc3bc8cddb",
        "colab": {
          "base_uri": "https://localhost:8080/"
        }
      },
      "source": [
        "import time\n",
        "print(time.ctime())"
      ],
      "execution_count": 1,
      "outputs": [
        {
          "output_type": "stream",
          "text": [
            "Sat Nov  7 12:23:37 2020\n"
          ],
          "name": "stdout"
        }
      ]
    },
    {
      "cell_type": "code",
      "metadata": {
        "id": "U8o-Ks65qX2f",
        "outputId": "b383104f-dc95-4bee-9023-6c1a67c97c98",
        "colab": {
          "base_uri": "https://localhost:8080/"
        }
      },
      "source": [
        "time.sleep(5)\n",
        "print(time.ctime())"
      ],
      "execution_count": 2,
      "outputs": [
        {
          "output_type": "stream",
          "text": [
            "Sat Nov  7 12:36:07 2020\n"
          ],
          "name": "stdout"
        }
      ]
    },
    {
      "cell_type": "markdown",
      "metadata": {
        "id": "EZUPXORAJB2Y"
      },
      "source": [
        "**TESTANDO FORMATAÇÃO DE TEXTO**"
      ]
    },
    {
      "cell_type": "markdown",
      "metadata": {
        "id": "8K6rTgUKzmpQ"
      },
      "source": [
        "**negrito**\n",
        "*italico*\n",
        "~riscada~"
      ]
    },
    {
      "cell_type": "markdown",
      "metadata": {
        "id": "Lnn2dp-jI4zH"
      },
      "source": [
        "**CRIANDO EQUAÇÕES COM CODE LATEX**"
      ]
    },
    {
      "cell_type": "markdown",
      "metadata": {
        "id": "mdRNZ7ba19ju"
      },
      "source": [
        "$\\sqrt{3x-1}+(1+x)^2$\n"
      ]
    },
    {
      "cell_type": "markdown",
      "metadata": {
        "id": "3KFASfGD4QM1"
      },
      "source": [
        "$e^x=\\sum_{i=0}^\\infty \\frac{1}{i!}x^i$\n",
        "\n"
      ]
    },
    {
      "cell_type": "markdown",
      "metadata": {
        "id": "14zo1J-zIxY3"
      },
      "source": [
        "**MONTANDO UM DRIVE**"
      ]
    },
    {
      "cell_type": "code",
      "metadata": {
        "id": "VUfZ9J_v2AEv",
        "outputId": "83a1e21e-5cab-4ebc-bef1-a80c4dc3b971",
        "colab": {
          "base_uri": "https://localhost:8080/"
        }
      },
      "source": [
        "from google.colab import drive\n",
        "drive.mount('/content/drive/')"
      ],
      "execution_count": 8,
      "outputs": [
        {
          "output_type": "stream",
          "text": [
            "Drive already mounted at /content/drive/; to attempt to forcibly remount, call drive.mount(\"/content/drive/\", force_remount=True).\n"
          ],
          "name": "stdout"
        }
      ]
    },
    {
      "cell_type": "markdown",
      "metadata": {
        "id": "6yHwEkdVIqbc"
      },
      "source": [
        "\n",
        "**PLOTANDO UM GRÁFICO**"
      ]
    },
    {
      "cell_type": "code",
      "metadata": {
        "id": "F18vQ25h_TAV",
        "outputId": "5da19aae-4bab-4648-fa15-523632fdf0ba",
        "colab": {
          "base_uri": "https://localhost:8080/",
          "height": 281
        }
      },
      "source": [
        "import numpy as np\n",
        "from matplotlib import pyplot as plt\n",
        "\n",
        "y = np.random.randn(100)\n",
        "\n",
        "x = [x for x in range(len(y))]\n",
        "\n",
        "plt.plot(x, y, '-')\n",
        "\n",
        "plt.fill_between(x, y, 200, where=(y > 195), facecolor='g', alpha=0.6)\n",
        "\n",
        "plt.title(\"Sample Plot\")\n",
        "\n",
        "plt.show()"
      ],
      "execution_count": 10,
      "outputs": [
        {
          "output_type": "display_data",
          "data": {
            "image/png": "[encoded data removed]",
            "text/plain": [
              "<Figure size 432x288 with 1 Axes>"
            ]
          },
          "metadata": {
            "tags": [],
            "needs_background": "light"
          }
        }
      ]
    },
    {
      "cell_type": "markdown",
      "metadata": {
        "id": "SsjI5eTNJO2r"
      },
      "source": [
        "**TESTE DE HELP**"
      ]
    },
    {
      "cell_type": "code",
      "metadata": {
        "id": "pK9IVpKjB_Bc",
        "outputId": "4ba5b056-2a14-4cde-fb8e-83f0738f3f9f",
        "colab": {
          "base_uri": "https://localhost:8080/",
          "height": 180
        }
      },
      "source": [
        "import torch\n",
        "Tensor = torch.cos(1)"
      ],
      "execution_count": 27,
      "outputs": [
        {
          "output_type": "error",
          "ename": "TypeError",
          "evalue": "ignored",
          "traceback": [
            "\u001b[0;31m---------------------------------------------------------------------------\u001b[0m",
            "\u001b[0;31mTypeError\u001b[0m                                 Traceback (most recent call last)",
            "\u001b[0;32m<ipython-input-27-0216e57b4a47>\u001b[0m in \u001b[0;36m<module>\u001b[0;34m()\u001b[0m\n\u001b[1;32m      1\u001b[0m \u001b[0;32mimport\u001b[0m \u001b[0mtorch\u001b[0m\u001b[0;34m\u001b[0m\u001b[0;34m\u001b[0m\u001b[0m\n\u001b[0;32m----> 2\u001b[0;31m \u001b[0mTensor\u001b[0m \u001b[0;34m=\u001b[0m \u001b[0mtorch\u001b[0m\u001b[0;34m.\u001b[0m\u001b[0mcos\u001b[0m\u001b[0;34m(\u001b[0m\u001b[0;36m1\u001b[0m\u001b[0;34m)\u001b[0m\u001b[0;34m\u001b[0m\u001b[0;34m\u001b[0m\u001b[0m\n\u001b[0m",
            "\u001b[0;31mTypeError\u001b[0m: cos(): argument 'input' (position 1) must be Tensor, not int"
          ]
        }
      ]
    },
    {
      "cell_type": "markdown",
      "metadata": {
        "id": "k038hGBvJUC1"
      },
      "source": [
        "**TESTE DOS COMANDOS MÁGICOS DO COLAB**"
      ]
    },
    {
      "cell_type": "markdown",
      "metadata": {
        "id": "YwHXUv5IJcP8"
      },
      "source": [
        "*LINHA MÁGICA*"
      ]
    },
    {
      "cell_type": "code",
      "metadata": {
        "id": "fhMLI6MiDlen",
        "outputId": "bc1a34ff-f8a7-48b8-b643-ece60a64f9b2",
        "colab": {
          "base_uri": "https://localhost:8080/"
        }
      },
      "source": [
        "%ldir\n"
      ],
      "execution_count": 17,
      "outputs": [
        {
          "output_type": "stream",
          "text": [
            "drwx------ 4 root 4096 Nov  7 13:54 \u001b[0m\u001b[01;34mdrive\u001b[0m/\n",
            "drwxr-xr-x 1 root 4096 Oct 28 16:30 \u001b[01;34msample_data\u001b[0m/\n"
          ],
          "name": "stdout"
        }
      ]
    },
    {
      "cell_type": "markdown",
      "metadata": {
        "id": "LNO1o6k3JhbZ"
      },
      "source": [
        "*RECURSO DE HTML*\n",
        "\n"
      ]
    },
    {
      "cell_type": "code",
      "metadata": {
        "id": "8hMhfSf2Fiyg",
        "outputId": "1f83a20c-cada-4392-afe5-24f9787f08a4",
        "colab": {
          "base_uri": "https://localhost:8080/",
          "height": 38
        }
      },
      "source": [
        "%%html\n",
        "\n",
        "<marquee style='width: 50%; color: Green;'><b>Curso de Ciência de Dados</b></marquee>"
      ],
      "execution_count": 15,
      "outputs": [
        {
          "output_type": "display_data",
          "data": {
            "text/html": [
              "\n",
              "<marquee style='width: 50%; color: Green;'><b>Curso de Ciência de Dados</b></marquee>"
            ],
            "text/plain": [
              "<IPython.core.display.HTML object>"
            ]
          },
          "metadata": {
            "tags": []
          }
        }
      ]
    },
    {
      "cell_type": "markdown",
      "metadata": {
        "id": "99Rv_lZQJpyP"
      },
      "source": [
        "*LISTA DOS COMANDOS MÁGICOS*"
      ]
    },
    {
      "cell_type": "code",
      "metadata": {
        "id": "v1WgQCCiFs1n",
        "outputId": "e40db2cf-3bee-4bcf-8c1b-20920b5efdfc",
        "colab": {
          "base_uri": "https://localhost:8080/",
          "height": 156
        }
      },
      "source": [
        "%lsmagic"
      ],
      "execution_count": 16,
      "outputs": [
        {
          "output_type": "execute_result",
          "data": {
            "application/json": {
              "cell": {
                "prun": "ExecutionMagics",
                "file": "Other",
                "!": "OSMagics",
                "capture": "ExecutionMagics",
                "timeit": "ExecutionMagics",
                "script": "ScriptMagics",
                "pypy": "Other",
                "system": "OSMagics",
                "perl": "Other",
                "html": "DisplayMagics",
                "bash": "Other",
                "shell": "Other",
                "HTML": "Other",
                "python": "Other",
                "SVG": "Other",
                "javascript": "DisplayMagics",
                "bigquery": "Other",
                "js": "DisplayMagics",
                "writefile": "OSMagics",
                "ruby": "Other",
                "python3": "Other",
                "python2": "Other",
                "latex": "DisplayMagics",
                "sx": "OSMagics",
                "svg": "DisplayMagics",
                "sh": "Other",
                "time": "ExecutionMagics",
                "debug": "ExecutionMagics"
              },
              "line": {
                "psource": "NamespaceMagics",
                "logstart": "LoggingMagics",
                "popd": "OSMagics",
                "tensorflow_version": "Other",
                "loadpy": "CodeMagics",
                "colors": "BasicMagics",
                "who_ls": "NamespaceMagics",
                "lf": "Other",
                "ll": "Other",
                "pprint": "BasicMagics",
                "lk": "Other",
                "ls": "Other",
                "save": "CodeMagics",
                "tb": "ExecutionMagics",
                "lx": "Other",
                "pylab": "PylabMagics",
                "killbgscripts": "ScriptMagics",
                "quickref": "BasicMagics",
                "magic": "BasicMagics",
                "dhist": "OSMagics",
                "edit": "KernelMagics",
                "logstop": "LoggingMagics",
                "gui": "BasicMagics",
                "prun": "ExecutionMagics",
                "debug": "ExecutionMagics",
                "page": "BasicMagics",
                "logstate": "LoggingMagics",
                "ed": "Other",
                "pushd": "OSMagics",
                "timeit": "ExecutionMagics",
                "set_env": "OSMagics",
                "rehashx": "OSMagics",
                "hist": "Other",
                "qtconsole": "KernelMagics",
                "rm": "Other",
                "dirs": "OSMagics",
                "run": "ExecutionMagics",
                "reset_selective": "NamespaceMagics",
                "pinfo2": "NamespaceMagics",
                "matplotlib": "PylabMagics",
                "unload_ext": "ExtensionMagics",
                "doctest_mode": "BasicMagics",
                "logoff": "LoggingMagics",
                "reload_ext": "ExtensionMagics",
                "pdb": "ExecutionMagics",
                "load": "CodeMagics",
                "lsmagic": "BasicMagics",
                "autosave": "KernelMagics",
                "cd": "OSMagics",
                "pastebin": "CodeMagics",
                "alias_magic": "BasicMagics",
                "cp": "Other",
                "autocall": "AutoMagics",
                "ldir": "Other",
                "bookmark": "OSMagics",
                "connect_info": "KernelMagics",
                "mkdir": "Other",
                "system": "OSMagics",
                "whos": "NamespaceMagics",
                "rmdir": "Other",
                "automagic": "AutoMagics",
                "store": "StoreMagics",
                "more": "KernelMagics",
                "shell": "Other",
                "pdef": "NamespaceMagics",
                "precision": "BasicMagics",
                "pinfo": "NamespaceMagics",
                "pwd": "OSMagics",
                "psearch": "NamespaceMagics",
                "reset": "NamespaceMagics",
                "recall": "HistoryMagics",
                "xdel": "NamespaceMagics",
                "xmode": "BasicMagics",
                "cat": "Other",
                "mv": "Other",
                "rerun": "HistoryMagics",
                "logon": "LoggingMagics",
                "history": "HistoryMagics",
                "pycat": "OSMagics",
                "pip": "Other",
                "unalias": "OSMagics",
                "env": "OSMagics",
                "load_ext": "ExtensionMagics",
                "config": "ConfigMagics",
                "profile": "BasicMagics",
                "pfile": "NamespaceMagics",
                "less": "KernelMagics",
                "who": "NamespaceMagics",
                "notebook": "BasicMagics",
                "man": "KernelMagics",
                "sx": "OSMagics",
                "macro": "ExecutionMagics",
                "clear": "KernelMagics",
                "alias": "OSMagics",
                "time": "ExecutionMagics",
                "sc": "OSMagics",
                "rep": "Other",
                "pdoc": "NamespaceMagics"
              }
            },
            "text/plain": [
              "Available line magics:\n",
              "%alias  %alias_magic  %autocall  %automagic  %autosave  %bookmark  %cat  %cd  %clear  %colors  %config  %connect_info  %cp  %debug  %dhist  %dirs  %doctest_mode  %ed  %edit  %env  %gui  %hist  %history  %killbgscripts  %ldir  %less  %lf  %lk  %ll  %load  %load_ext  %loadpy  %logoff  %logon  %logstart  %logstate  %logstop  %ls  %lsmagic  %lx  %macro  %magic  %man  %matplotlib  %mkdir  %more  %mv  %notebook  %page  %pastebin  %pdb  %pdef  %pdoc  %pfile  %pinfo  %pinfo2  %pip  %popd  %pprint  %precision  %profile  %prun  %psearch  %psource  %pushd  %pwd  %pycat  %pylab  %qtconsole  %quickref  %recall  %rehashx  %reload_ext  %rep  %rerun  %reset  %reset_selective  %rm  %rmdir  %run  %save  %sc  %set_env  %shell  %store  %sx  %system  %tb  %tensorflow_version  %time  %timeit  %unalias  %unload_ext  %who  %who_ls  %whos  %xdel  %xmode\n",
              "\n",
              "Available cell magics:\n",
              "%%!  %%HTML  %%SVG  %%bash  %%bigquery  %%capture  %%debug  %%file  %%html  %%javascript  %%js  %%latex  %%perl  %%prun  %%pypy  %%python  %%python2  %%python3  %%ruby  %%script  %%sh  %%shell  %%svg  %%sx  %%system  %%time  %%timeit  %%writefile\n",
              "\n",
              "Automagic is ON, % prefix IS NOT needed for line magics."
            ]
          },
          "metadata": {
            "tags": []
          },
          "execution_count": 16
        }
      ]
    },
    {
      "cell_type": "markdown",
      "metadata": {
        "id": "EbesCkhBIhQG"
      },
      "source": [
        "**CRIANDO UM FORMULÁRIO - CAMPO DE FORMULÁRIO**\n",
        "\n",
        "---\n",
        "\n"
      ]
    },
    {
      "cell_type": "markdown",
      "metadata": {
        "id": "wyrPiEMIMzat"
      },
      "source": [
        "*CAMPO INTEIRO*"
      ]
    },
    {
      "cell_type": "code",
      "metadata": {
        "id": "nzF2Ib6cGc-B",
        "cellView": "both",
        "outputId": "8f126ea2-40b6-4cec-c0ab-f5aa5e787a4d",
        "colab": {
          "base_uri": "https://localhost:8080/"
        }
      },
      "source": [
        "#@title Texto de título padrão\n",
        "valor =  10#@param {type:\"integer\"}\n",
        "\n",
        "print ('O dobro do valor é:', 2*valor)"
      ],
      "execution_count": 18,
      "outputs": [
        {
          "output_type": "stream",
          "text": [
            "O dobro do valor é: 20\n"
          ],
          "name": "stdout"
        }
      ]
    },
    {
      "cell_type": "markdown",
      "metadata": {
        "id": "BFzHAvIIM22m"
      },
      "source": [
        "*CAMPO STRING*"
      ]
    },
    {
      "cell_type": "code",
      "metadata": {
        "id": "j9ugj6DbIc-I",
        "cellView": "both"
      },
      "source": [
        "#@title Texto de título padrão\n",
        "nome = \"Curso de Programa\" #@param {type:\"string\"}\n"
      ],
      "execution_count": 19,
      "outputs": []
    },
    {
      "cell_type": "markdown",
      "metadata": {
        "id": "LCRCgF7uM5wb"
      },
      "source": [
        "*CAMPO DE LISTA OU SELEÇÃO*"
      ]
    },
    {
      "cell_type": "code",
      "metadata": {
        "id": "pvNP_3sbKvDd",
        "cellView": "both"
      },
      "source": [
        "#@title Texto de título padrão\n",
        "Capitais = \"\" #@param [\"Manaus\", \"Bel\\\\xE9m\", \"Rio Branco\", \"Porto Velho\"] {allow-input: true}\n"
      ],
      "execution_count": 20,
      "outputs": []
    },
    {
      "cell_type": "markdown",
      "metadata": {
        "id": "XTbypg9jNSKQ"
      },
      "source": [
        "*CAMPO DE DATA*"
      ]
    },
    {
      "cell_type": "code",
      "metadata": {
        "id": "u23lv4LHLyfD"
      },
      "source": [
        "#@title Texto de título padrão\n",
        "data = \"2020-11-07\" #@param {type:\"date\"}\n"
      ],
      "execution_count": null,
      "outputs": []
    },
    {
      "cell_type": "markdown",
      "metadata": {
        "id": "sLIHdW84O7Li"
      },
      "source": [
        "**INSTALANDO PACOTES**"
      ]
    },
    {
      "cell_type": "markdown",
      "metadata": {
        "id": "nQ2UqCF4PAWe"
      },
      "source": [
        "~O -q não mostra as linhas de execução~"
      ]
    },
    {
      "cell_type": "code",
      "metadata": {
        "id": "5vt1Ns7MOO26"
      },
      "source": [
        "!pip install -q Keras"
      ],
      "execution_count": 23,
      "outputs": []
    },
    {
      "cell_type": "markdown",
      "metadata": {
        "id": "bKXip8eYPPG6"
      },
      "source": [
        "~exemplo sem o -q~"
      ]
    },
    {
      "cell_type": "code",
      "metadata": {
        "id": "RiGcugDDORw0",
        "outputId": "5a36d1de-340d-401c-ce11-f9ebb2ea93b0",
        "colab": {
          "base_uri": "https://localhost:8080/"
        }
      },
      "source": [
        "!pip3 install torch torchvision"
      ],
      "execution_count": 22,
      "outputs": [
        {
          "output_type": "stream",
          "text": [
            "Requirement already satisfied: torch in /usr/local/lib/python3.6/dist-packages (1.7.0+cu101)\n",
            "Requirement already satisfied: torchvision in /usr/local/lib/python3.6/dist-packages (0.8.1+cu101)\n",
            "Requirement already satisfied: dataclasses in /usr/local/lib/python3.6/dist-packages (from torch) (0.7)\n",
            "Requirement already satisfied: future in /usr/local/lib/python3.6/dist-packages (from torch) (0.16.0)\n",
            "Requirement already satisfied: typing-extensions in /usr/local/lib/python3.6/dist-packages (from torch) (3.7.4.3)\n",
            "Requirement already satisfied: numpy in /usr/local/lib/python3.6/dist-packages (from torch) (1.18.5)\n",
            "Requirement already satisfied: pillow>=4.1.1 in /usr/local/lib/python3.6/dist-packages (from torchvision) (7.0.0)\n"
          ],
          "name": "stdout"
        }
      ]
    },
    {
      "cell_type": "code",
      "metadata": {
        "id": "zXX7uOGwOzb5"
      },
      "source": [
        "!pip3 install -q torch torchvision"
      ],
      "execution_count": 24,
      "outputs": []
    },
    {
      "cell_type": "markdown",
      "metadata": {
        "id": "dzEK8C2NSsnu"
      },
      "source": [
        "**CHECANDO AS CONFIGS DO SERVIDOR ONDE ESTOU TRABALHANDO**"
      ]
    },
    {
      "cell_type": "code",
      "metadata": {
        "id": "mJxvyiR-O40r",
        "outputId": "1970feb8-8ec0-4f7f-891d-a6f0d177c3ab",
        "colab": {
          "base_uri": "https://localhost:8080/"
        }
      },
      "source": [
        "from tensorflow.python.client import device_lib\n",
        "device_lib.list_local_devices()"
      ],
      "execution_count": 28,
      "outputs": [
        {
          "output_type": "execute_result",
          "data": {
            "text/plain": [
              "[name: \"/device:CPU:0\"\n",
              " device_type: \"CPU\"\n",
              " memory_limit: 268435456\n",
              " locality {\n",
              " }\n",
              " incarnation: 11792170283883775457, name: \"/device:XLA_CPU:0\"\n",
              " device_type: \"XLA_CPU\"\n",
              " memory_limit: 17179869184\n",
              " locality {\n",
              " }\n",
              " incarnation: 15024605327071233859\n",
              " physical_device_desc: \"device: XLA_CPU device\"]"
            ]
          },
          "metadata": {
            "tags": []
          },
          "execution_count": 28
        }
      ]
    },
    {
      "cell_type": "markdown",
      "metadata": {
        "id": "U-c8N4XcSlV0"
      },
      "source": [
        "**CHECANDO OS RECURSOS DE MEMÓRIA**"
      ]
    },
    {
      "cell_type": "code",
      "metadata": {
        "id": "eMDKZZQ3SQsb",
        "outputId": "6aacb68d-7863-4c1c-cbdb-50a8549c5aa2",
        "colab": {
          "base_uri": "https://localhost:8080/"
        }
      },
      "source": [
        "!cat /proc/meminfo"
      ],
      "execution_count": 29,
      "outputs": [
        {
          "output_type": "stream",
          "text": [
            "MemTotal:       13333580 kB\n",
            "MemFree:        10168512 kB\n",
            "MemAvailable:   12359368 kB\n",
            "Buffers:           90996 kB\n",
            "Cached:          2221204 kB\n",
            "SwapCached:            0 kB\n",
            "Active:           826292 kB\n",
            "Inactive:        2077156 kB\n",
            "Active(anon):     535296 kB\n",
            "Inactive(anon):      336 kB\n",
            "Active(file):     290996 kB\n",
            "Inactive(file):  2076820 kB\n",
            "Unevictable:           0 kB\n",
            "Mlocked:               0 kB\n",
            "SwapTotal:             0 kB\n",
            "SwapFree:              0 kB\n",
            "Dirty:               328 kB\n",
            "Writeback:             0 kB\n",
            "AnonPages:        591108 kB\n",
            "Mapped:           478744 kB\n",
            "Shmem:               936 kB\n",
            "Slab:             168632 kB\n",
            "SReclaimable:     127932 kB\n",
            "SUnreclaim:        40700 kB\n",
            "KernelStack:        4416 kB\n",
            "PageTables:         7716 kB\n",
            "NFS_Unstable:          0 kB\n",
            "Bounce:                0 kB\n",
            "WritebackTmp:          0 kB\n",
            "CommitLimit:     6666788 kB\n",
            "Committed_AS:    3253628 kB\n",
            "VmallocTotal:   34359738367 kB\n",
            "VmallocUsed:           0 kB\n",
            "VmallocChunk:          0 kB\n",
            "Percpu:              952 kB\n",
            "AnonHugePages:         0 kB\n",
            "ShmemHugePages:        0 kB\n",
            "ShmemPmdMapped:        0 kB\n",
            "HugePages_Total:       0\n",
            "HugePages_Free:        0\n",
            "HugePages_Rsvd:        0\n",
            "HugePages_Surp:        0\n",
            "Hugepagesize:       2048 kB\n",
            "Hugetlb:               0 kB\n",
            "DirectMap4k:       89320 kB\n",
            "DirectMap2M:     6201344 kB\n",
            "DirectMap1G:     9437184 kB\n"
          ],
          "name": "stdout"
        }
      ]
    },
    {
      "cell_type": "code",
      "metadata": {
        "id": "7-SYXAKVSWGZ",
        "outputId": "d4ca9b1d-3e26-4ce0-ca4f-b8e42c5d6f3d",
        "colab": {
          "base_uri": "https://localhost:8080/"
        }
      },
      "source": [
        "!free -h "
      ],
      "execution_count": 30,
      "outputs": [
        {
          "output_type": "stream",
          "text": [
            "              total        used        free      shared  buff/cache   available\n",
            "Mem:            12G        4.0G        6.4G        936K        2.3G        8.5G\n",
            "Swap:            0B          0B          0B\n"
          ],
          "name": "stdout"
        }
      ]
    },
    {
      "cell_type": "code",
      "metadata": {
        "id": "m4ecgB20TFeD"
      },
      "source": [
        ""
      ],
      "execution_count": null,
      "outputs": []
    }
  ]
}