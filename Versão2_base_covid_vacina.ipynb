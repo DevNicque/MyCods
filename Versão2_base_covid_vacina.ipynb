{
  "nbformat": 4,
  "nbformat_minor": 0,
  "metadata": {
    "colab": {
      "name": "Versão2-base_covid_vacina.ipynb",
      "provenance": [],
      "collapsed_sections": [
        "Ajmf8d_WWJlJ",
        "4twyOiwxWRhE",
        "E8eeG_5p0jov",
        "oPWZWUjyxk7H",
        "VGJJaIZwxadv",
        "xqcn1oQjw_fO",
        "1TNfB5GdiNlU",
        "QPYFiD4JWV8i",
        "C_NsN2AtiqHf",
        "8jMrs-uIi71N",
        "rQlhtBtNyxbV",
        "ImrcOBHT6fW9",
        "QoMKh3-g6c0s",
        "GruLTkHl3kWU",
        "AEPXTlkK5mgR",
        "eEvnamR-JHyU",
        "oIgoqBITjYAN",
        "tAokkng_jZB2",
        "mb0sVumhWbgk",
        "uVOadlcINq41",
        "hXhNrNiWNnpz",
        "-yed2W04ZdTz",
        "dRmewFWqZhr2",
        "d7C08CwVNGTN",
        "rltwCtzFZtbW",
        "YJu6V1D3Zwqs",
        "DVMmyx9uaxAW",
        "qlnHoSX5V7ar",
        "zZ1s3pwNY7Fm",
        "WrTgp8-SZDig"
      ],
      "toc_visible": true,
      "authorship_tag": "ABX9TyPjsJctl3Qh88fdLFTw3hOn",
      "include_colab_link": true
    },
    "kernelspec": {
      "display_name": "Python 3",
      "name": "python3"
    }
  },
  "cells": [
    {
      "cell_type": "markdown",
      "metadata": {
        "id": "view-in-github",
        "colab_type": "text"
      },
      "source": [
        "<a href=\"https://colab.research.google.com/github/DevNicque/MyCods/blob/master/Vers%C3%A3o2_base_covid_vacina.ipynb\" target=\"_parent\"><img src=\"https://colab.research.google.com/assets/colab-badge.svg\" alt=\"Open In Colab\"/></a>"
      ]
    },
    {
      "cell_type": "markdown",
      "metadata": {
        "id": "Ajmf8d_WWJlJ"
      },
      "source": [
        "#**Configuração**"
      ]
    },
    {
      "cell_type": "code",
      "metadata": {
        "colab": {
          "base_uri": "https://localhost:8080/"
        },
        "id": "Sg3o8pm8x2AS",
        "outputId": "4d1a21c8-112d-458d-d164-9f084f82443e"
      },
      "source": [
        "!pip install unidecode\r\n",
        "!pip install elasticsearch"
      ],
      "execution_count": 1,
      "outputs": [
        {
          "output_type": "stream",
          "text": [
            "Collecting unidecode\n",
            "\u001b[?25l  Downloading https://files.pythonhosted.org/packages/9e/25/723487ca2a52ebcee88a34d7d1f5a4b80b793f179ee0f62d5371938dfa01/Unidecode-1.2.0-py2.py3-none-any.whl (241kB)\n",
            "\r\u001b[K     |█▍                              | 10kB 14.8MB/s eta 0:00:01\r\u001b[K     |██▊                             | 20kB 20.3MB/s eta 0:00:01\r\u001b[K     |████                            | 30kB 13.5MB/s eta 0:00:01\r\u001b[K     |█████▍                          | 40kB 10.5MB/s eta 0:00:01\r\u001b[K     |██████▉                         | 51kB 8.6MB/s eta 0:00:01\r\u001b[K     |████████▏                       | 61kB 8.9MB/s eta 0:00:01\r\u001b[K     |█████████▌                      | 71kB 9.4MB/s eta 0:00:01\r\u001b[K     |██████████▉                     | 81kB 9.2MB/s eta 0:00:01\r\u001b[K     |████████████▏                   | 92kB 8.7MB/s eta 0:00:01\r\u001b[K     |█████████████▋                  | 102kB 9.2MB/s eta 0:00:01\r\u001b[K     |███████████████                 | 112kB 9.2MB/s eta 0:00:01\r\u001b[K     |████████████████▎               | 122kB 9.2MB/s eta 0:00:01\r\u001b[K     |█████████████████▋              | 133kB 9.2MB/s eta 0:00:01\r\u001b[K     |███████████████████             | 143kB 9.2MB/s eta 0:00:01\r\u001b[K     |████████████████████▍           | 153kB 9.2MB/s eta 0:00:01\r\u001b[K     |█████████████████████▊          | 163kB 9.2MB/s eta 0:00:01\r\u001b[K     |███████████████████████         | 174kB 9.2MB/s eta 0:00:01\r\u001b[K     |████████████████████████▍       | 184kB 9.2MB/s eta 0:00:01\r\u001b[K     |█████████████████████████▊      | 194kB 9.2MB/s eta 0:00:01\r\u001b[K     |███████████████████████████▏    | 204kB 9.2MB/s eta 0:00:01\r\u001b[K     |████████████████████████████▌   | 215kB 9.2MB/s eta 0:00:01\r\u001b[K     |█████████████████████████████▉  | 225kB 9.2MB/s eta 0:00:01\r\u001b[K     |███████████████████████████████▏| 235kB 9.2MB/s eta 0:00:01\r\u001b[K     |████████████████████████████████| 245kB 9.2MB/s \n",
            "\u001b[?25hInstalling collected packages: unidecode\n",
            "Successfully installed unidecode-1.2.0\n",
            "Collecting elasticsearch\n",
            "\u001b[?25l  Downloading https://files.pythonhosted.org/packages/72/68/76c5d46cc6a48fddb759f585bc8728caa11bfc9b812ce6705fc5f99beab2/elasticsearch-7.11.0-py2.py3-none-any.whl (325kB)\n",
            "\u001b[K     |████████████████████████████████| 327kB 8.3MB/s \n",
            "\u001b[?25hRequirement already satisfied: urllib3<2,>=1.21.1 in /usr/local/lib/python3.6/dist-packages (from elasticsearch) (1.24.3)\n",
            "Requirement already satisfied: certifi in /usr/local/lib/python3.6/dist-packages (from elasticsearch) (2020.12.5)\n",
            "Installing collected packages: elasticsearch\n",
            "Successfully installed elasticsearch-7.11.0\n"
          ],
          "name": "stdout"
        }
      ]
    },
    {
      "cell_type": "code",
      "metadata": {
        "id": "wIYtFI9Lx4iY"
      },
      "source": [
        "import pandas as pd\r\n",
        "from unidecode import unidecode\r\n",
        "from datetime import date,datetime, timedelta\r\n",
        "import pytz\r\n",
        "from elasticsearch import helpers,Elasticsearch\r\n",
        "import json"
      ],
      "execution_count": 2,
      "outputs": []
    },
    {
      "cell_type": "code",
      "metadata": {
        "colab": {
          "base_uri": "https://localhost:8080/"
        },
        "id": "HfdhdT6vKo2p",
        "outputId": "697d9129-a544-4107-9231-3f70d4c7ce24"
      },
      "source": [
        "elasticsearch_username = 'elastic'\r\n",
        "elasticsearch_password = 'gxjzXnMQ9ZGHE9Huc7'\r\n",
        "elasticsearch_host = '159.89.82.132'\r\n",
        "es = Elasticsearch(server_hostname=[elasticsearch_host],\r\n",
        "    http_auth=(elasticsearch_username,\r\n",
        "    elasticsearch_password),scheme=\"https\",\r\n",
        "    hosts=[elasticsearch_host],port=9300,\r\n",
        "    verify_certs=False)"
      ],
      "execution_count": 3,
      "outputs": [
        {
          "output_type": "stream",
          "text": [
            "/usr/local/lib/python3.6/dist-packages/elasticsearch/connection/http_urllib3.py:209: UserWarning: Connecting to https://159.89.82.132:9300 using SSL with verify_certs=False is insecure.\n",
            "  % self.host\n"
          ],
          "name": "stderr"
        }
      ]
    },
    {
      "cell_type": "code",
      "metadata": {
        "id": "8Kr-ege7CKc-"
      },
      "source": [
        "def time_stamp():\r\n",
        "\r\n",
        "        # a timestamp I'd like to convert\r\n",
        "        my_timestamp = datetime.now()\r\n",
        "\r\n",
        "        # create both timezone objects\r\n",
        "        old_timezone = pytz.timezone(\"Universal\")\r\n",
        "        new_timezone = pytz.timezone(\"America/Manaus\")#(AMT – Amazon Time em UTC-04:00)\r\n",
        "\r\n",
        "        # two-step process\r\n",
        "        #localized_timestamp = old_timezone.localize(my_timestamp)\r\n",
        "        #new_timezone_timestamp = localized_timestamp.astimezone(new_timezone)\r\n",
        "\r\n",
        "        # or alternatively, as an one-liner\r\n",
        "        new_timezone_timestamp = old_timezone.localize(my_timestamp).astimezone(new_timezone)\r\n",
        "\r\n",
        "        obj_str = new_timezone_timestamp.strftime(\"%Y-%m-%d %H:%M:%S\")\r\n",
        "\r\n",
        "        return obj_str"
      ],
      "execution_count": 4,
      "outputs": []
    },
    {
      "cell_type": "code",
      "metadata": {
        "colab": {
          "base_uri": "https://localhost:8080/",
          "height": 35
        },
        "id": "E8aIWspEB_fh",
        "outputId": "77238eca-b619-49bc-ffeb-5e2012a3946d"
      },
      "source": [
        "time_stamp()"
      ],
      "execution_count": 5,
      "outputs": [
        {
          "output_type": "execute_result",
          "data": {
            "application/vnd.google.colaboratory.intrinsic+json": {
              "type": "string"
            },
            "text/plain": [
              "'2021-02-22 19:26:52'"
            ]
          },
          "metadata": {
            "tags": []
          },
          "execution_count": 5
        }
      ]
    },
    {
      "cell_type": "markdown",
      "metadata": {
        "id": "4twyOiwxWRhE"
      },
      "source": [
        "#**Importação de Dados**"
      ]
    },
    {
      "cell_type": "markdown",
      "metadata": {
        "id": "VGJJaIZwxadv"
      },
      "source": [
        "##Base FVS Casos"
      ]
    },
    {
      "cell_type": "markdown",
      "metadata": {
        "id": "vVgl2zEeirHZ"
      },
      "source": [
        "dia anterior"
      ]
    },
    {
      "cell_type": "code",
      "metadata": {
        "id": "Z1Jqmp3OiqNI"
      },
      "source": [
        "base_casos_anterior = pd.ExcelFile('covid_fvs_casos_por_municipios_anterior.xlsx')\r\n",
        "casos_anterior = pd.read_excel(base_casos_anterior, 'covid_por_municipios')"
      ],
      "execution_count": 68,
      "outputs": []
    },
    {
      "cell_type": "markdown",
      "metadata": {
        "id": "6QhzXyrQisz9"
      },
      "source": [
        "dia atual"
      ]
    },
    {
      "cell_type": "code",
      "metadata": {
        "id": "BfW3eTNfxZwf"
      },
      "source": [
        "base_casos_atual = pd.ExcelFile('covid_fvs_casos_por_municipios_atual.xlsx')\r\n",
        "casos_atual = pd.read_excel(base_casos_atual, 'covid_casos_por_municipios')"
      ],
      "execution_count": 69,
      "outputs": []
    },
    {
      "cell_type": "markdown",
      "metadata": {
        "id": "elmtl7YxAJXl"
      },
      "source": [
        "##Base FVS Leitos"
      ]
    },
    {
      "cell_type": "code",
      "metadata": {
        "id": "0yKAgj3iAJXn"
      },
      "source": [
        "base_leitos = pd.ExcelFile('covid_leitos.xlsx')\r\n",
        "leitos = pd.read_excel(base_leitos, 'leitos')\r\n",
        "taxa_ocupacao = pd.read_excel(base_leitos, 'taxa_ocupacao_geral')\r\n",
        "capacidade_instalada = pd.read_excel(base_leitos, 'capacidade_instalada')\r\n"
      ],
      "execution_count": null,
      "outputs": []
    },
    {
      "cell_type": "markdown",
      "metadata": {
        "id": "xqcn1oQjw_fO"
      },
      "source": [
        "##Base Prefeitura Vacinados"
      ]
    },
    {
      "cell_type": "code",
      "metadata": {
        "id": "qJsggswMw9DG"
      },
      "source": [
        "base_vacinados = pd.ExcelFile('vacinas_sepultamentos.xlsx')\r\n",
        "vacinados_por_grupo = pd.read_excel(base_vacinados, 'grupo_vacinados')\r\n",
        "vacinados_por_dia = pd.read_excel(base_vacinados, 'vacinados_por_dia')\r\n",
        "vacinados_totais = pd.read_excel(base_vacinados, 'total_vacinados')\r\n",
        "vacinados_por_local = pd.read_excel(base_vacinados, 'vacinados_local')\r\n",
        "sepultamentos = pd.read_excel(base_vacinados, 'sepultamentos')"
      ],
      "execution_count": null,
      "outputs": []
    },
    {
      "cell_type": "markdown",
      "metadata": {
        "id": "1TNfB5GdiNlU"
      },
      "source": [
        "##Base Teixeira Predição"
      ]
    },
    {
      "cell_type": "code",
      "metadata": {
        "id": "JpMtIYfPiNlU"
      },
      "source": [
        "predicao_casos = pd.read_csv('media_movel_casos_prevista_AI.csv')"
      ],
      "execution_count": null,
      "outputs": []
    },
    {
      "cell_type": "code",
      "metadata": {
        "id": "Q5Gg9cVFjGVr"
      },
      "source": [
        "predicao_obitos = pd.read_csv('media_movel_deaths_prevista_AI.csv')"
      ],
      "execution_count": null,
      "outputs": []
    },
    {
      "cell_type": "markdown",
      "metadata": {
        "id": "sf7pu5jmoGj7"
      },
      "source": [
        "#**Tratamento**"
      ]
    },
    {
      "cell_type": "markdown",
      "metadata": {
        "id": "8jMrs-uIi71N"
      },
      "source": [
        "##**Casos por Municipios**"
      ]
    },
    {
      "cell_type": "markdown",
      "metadata": {
        "id": "0OlyBQXtjbM9"
      },
      "source": [
        "###**atual**"
      ]
    },
    {
      "cell_type": "code",
      "metadata": {
        "colab": {
          "base_uri": "https://localhost:8080/",
          "height": 204
        },
        "id": "BnZyoIeSi71W",
        "outputId": "1ab96e8c-e559-4f5c-9578-977645c81e80"
      },
      "source": [
        "casos_atual.head()"
      ],
      "execution_count": 70,
      "outputs": [
        {
          "output_type": "execute_result",
          "data": {
            "text/html": [
              "<div>\n",
              "<style scoped>\n",
              "    .dataframe tbody tr th:only-of-type {\n",
              "        vertical-align: middle;\n",
              "    }\n",
              "\n",
              "    .dataframe tbody tr th {\n",
              "        vertical-align: top;\n",
              "    }\n",
              "\n",
              "    .dataframe thead th {\n",
              "        text-align: right;\n",
              "    }\n",
              "</style>\n",
              "<table border=\"1\" class=\"dataframe\">\n",
              "  <thead>\n",
              "    <tr style=\"text-align: right;\">\n",
              "      <th></th>\n",
              "      <th>Municípios</th>\n",
              "      <th>Notificados</th>\n",
              "      <th>Confirmados (3)</th>\n",
              "      <th>% de participação\\npor Município</th>\n",
              "      <th>Nº de óbitos</th>\n",
              "      <th>Incidência (casos/100.000)</th>\n",
              "      <th>Mortalidade (óbitos/100.000)</th>\n",
              "      <th>Letalidade</th>\n",
              "      <th>data_coleta</th>\n",
              "    </tr>\n",
              "  </thead>\n",
              "  <tbody>\n",
              "    <tr>\n",
              "      <th>0</th>\n",
              "      <td>AMAZONAS</td>\n",
              "      <td>746528</td>\n",
              "      <td>306003</td>\n",
              "      <td>1.0000</td>\n",
              "      <td>10462</td>\n",
              "      <td>7383.18</td>\n",
              "      <td>252.43</td>\n",
              "      <td>0.0342</td>\n",
              "      <td>2021-02-21</td>\n",
              "    </tr>\n",
              "    <tr>\n",
              "      <th>1</th>\n",
              "      <td>MANAUS</td>\n",
              "      <td>384525</td>\n",
              "      <td>141674</td>\n",
              "      <td>0.4630</td>\n",
              "      <td>7407</td>\n",
              "      <td>6490.58</td>\n",
              "      <td>339.34</td>\n",
              "      <td>0.0523</td>\n",
              "      <td>2021-02-21</td>\n",
              "    </tr>\n",
              "    <tr>\n",
              "      <th>2</th>\n",
              "      <td>INTERIOR</td>\n",
              "      <td>362003</td>\n",
              "      <td>164329</td>\n",
              "      <td>0.5370</td>\n",
              "      <td>3055</td>\n",
              "      <td>8376.29</td>\n",
              "      <td>155.72</td>\n",
              "      <td>0.0186</td>\n",
              "      <td>2021-02-21</td>\n",
              "    </tr>\n",
              "    <tr>\n",
              "      <th>3</th>\n",
              "      <td>Coari</td>\n",
              "      <td>22800</td>\n",
              "      <td>8952</td>\n",
              "      <td>0.0293</td>\n",
              "      <td>169</td>\n",
              "      <td>10519.76</td>\n",
              "      <td>198.60</td>\n",
              "      <td>0.0189</td>\n",
              "      <td>2021-02-21</td>\n",
              "    </tr>\n",
              "    <tr>\n",
              "      <th>4</th>\n",
              "      <td>Parintins</td>\n",
              "      <td>33860</td>\n",
              "      <td>8260</td>\n",
              "      <td>0.0270</td>\n",
              "      <td>255</td>\n",
              "      <td>7228.30</td>\n",
              "      <td>223.15</td>\n",
              "      <td>0.0309</td>\n",
              "      <td>2021-02-21</td>\n",
              "    </tr>\n",
              "  </tbody>\n",
              "</table>\n",
              "</div>"
            ],
            "text/plain": [
              "  Municípios  Notificados  ...  Letalidade  data_coleta\n",
              "0   AMAZONAS       746528  ...      0.0342   2021-02-21\n",
              "1     MANAUS       384525  ...      0.0523   2021-02-21\n",
              "2   INTERIOR       362003  ...      0.0186   2021-02-21\n",
              "3      Coari        22800  ...      0.0189   2021-02-21\n",
              "4  Parintins        33860  ...      0.0309   2021-02-21\n",
              "\n",
              "[5 rows x 9 columns]"
            ]
          },
          "metadata": {
            "tags": []
          },
          "execution_count": 70
        }
      ]
    },
    {
      "cell_type": "code",
      "metadata": {
        "id": "gwkE7tm7i71X"
      },
      "source": [
        "casos_atual.columns = ['municipios', 'Notificados', 'Confirmados', 'Participacao','Obitos','Incidencia','Mortalidade','Letalidade','data_coleta']"
      ],
      "execution_count": 71,
      "outputs": []
    },
    {
      "cell_type": "code",
      "metadata": {
        "colab": {
          "base_uri": "https://localhost:8080/"
        },
        "id": "IK6iOQGSlXVz",
        "outputId": "4bd7331d-3e7d-4c6f-800c-d91a8d62c532"
      },
      "source": [
        "casos_atual.info()"
      ],
      "execution_count": 72,
      "outputs": [
        {
          "output_type": "stream",
          "text": [
            "<class 'pandas.core.frame.DataFrame'>\n",
            "RangeIndex: 64 entries, 0 to 63\n",
            "Data columns (total 9 columns):\n",
            " #   Column        Non-Null Count  Dtype         \n",
            "---  ------        --------------  -----         \n",
            " 0   municipios    64 non-null     object        \n",
            " 1   Notificados   64 non-null     int64         \n",
            " 2   Confirmados   64 non-null     int64         \n",
            " 3   Participacao  64 non-null     float64       \n",
            " 4   Obitos        64 non-null     int64         \n",
            " 5   Incidencia    64 non-null     float64       \n",
            " 6   Mortalidade   64 non-null     float64       \n",
            " 7   Letalidade    64 non-null     float64       \n",
            " 8   data_coleta   64 non-null     datetime64[ns]\n",
            "dtypes: datetime64[ns](1), float64(4), int64(3), object(1)\n",
            "memory usage: 4.6+ KB\n"
          ],
          "name": "stdout"
        }
      ]
    },
    {
      "cell_type": "markdown",
      "metadata": {
        "id": "U0-UMIK8fEnW"
      },
      "source": [
        "tratamento"
      ]
    },
    {
      "cell_type": "code",
      "metadata": {
        "id": "wdLcDoBUojxT"
      },
      "source": [
        "casos_atual['Participacao'] = [x*100   for x in casos_atual['Participacao']]"
      ],
      "execution_count": 73,
      "outputs": []
    },
    {
      "cell_type": "code",
      "metadata": {
        "id": "dgW1rl_Do1RP"
      },
      "source": [
        "casos_atual['Letalidade'] = [x*100   for x in casos_atual['Letalidade']]"
      ],
      "execution_count": 74,
      "outputs": []
    },
    {
      "cell_type": "code",
      "metadata": {
        "id": "iNISPU8rYzt_"
      },
      "source": [
        "casos_atual.columns = ['municipios', 'Notificados', 'Confirmados (3)', '% de participação\\npor Município','Nº de óbitos','(casos/100.000)','(óbitos/100.000)','Letalidade','data_coleta']"
      ],
      "execution_count": 75,
      "outputs": []
    },
    {
      "cell_type": "markdown",
      "metadata": {
        "id": "bO8VfxnHe5Fh"
      },
      "source": [
        "unpivot"
      ]
    },
    {
      "cell_type": "code",
      "metadata": {
        "id": "hLal1UeopADm"
      },
      "source": [
        "df = casos_atual.melt (id_vars = ['data_coleta','municipios'], var_name = 'tipo_ocorrencia', value_name = 'qtd_casos')"
      ],
      "execution_count": 76,
      "outputs": []
    },
    {
      "cell_type": "code",
      "metadata": {
        "id": "AX8qQAT6pXsG",
        "colab": {
          "base_uri": "https://localhost:8080/",
          "height": 419
        },
        "outputId": "8df7e1df-0b54-43b8-9a5e-6c060b0913aa"
      },
      "source": [
        "df"
      ],
      "execution_count": 77,
      "outputs": [
        {
          "output_type": "execute_result",
          "data": {
            "text/html": [
              "<div>\n",
              "<style scoped>\n",
              "    .dataframe tbody tr th:only-of-type {\n",
              "        vertical-align: middle;\n",
              "    }\n",
              "\n",
              "    .dataframe tbody tr th {\n",
              "        vertical-align: top;\n",
              "    }\n",
              "\n",
              "    .dataframe thead th {\n",
              "        text-align: right;\n",
              "    }\n",
              "</style>\n",
              "<table border=\"1\" class=\"dataframe\">\n",
              "  <thead>\n",
              "    <tr style=\"text-align: right;\">\n",
              "      <th></th>\n",
              "      <th>data_coleta</th>\n",
              "      <th>municipios</th>\n",
              "      <th>tipo_ocorrencia</th>\n",
              "      <th>qtd_casos</th>\n",
              "    </tr>\n",
              "  </thead>\n",
              "  <tbody>\n",
              "    <tr>\n",
              "      <th>0</th>\n",
              "      <td>2021-02-21</td>\n",
              "      <td>AMAZONAS</td>\n",
              "      <td>Notificados</td>\n",
              "      <td>746528.00</td>\n",
              "    </tr>\n",
              "    <tr>\n",
              "      <th>1</th>\n",
              "      <td>2021-02-21</td>\n",
              "      <td>MANAUS</td>\n",
              "      <td>Notificados</td>\n",
              "      <td>384525.00</td>\n",
              "    </tr>\n",
              "    <tr>\n",
              "      <th>2</th>\n",
              "      <td>2021-02-21</td>\n",
              "      <td>INTERIOR</td>\n",
              "      <td>Notificados</td>\n",
              "      <td>362003.00</td>\n",
              "    </tr>\n",
              "    <tr>\n",
              "      <th>3</th>\n",
              "      <td>2021-02-21</td>\n",
              "      <td>Coari</td>\n",
              "      <td>Notificados</td>\n",
              "      <td>22800.00</td>\n",
              "    </tr>\n",
              "    <tr>\n",
              "      <th>4</th>\n",
              "      <td>2021-02-21</td>\n",
              "      <td>Parintins</td>\n",
              "      <td>Notificados</td>\n",
              "      <td>33860.00</td>\n",
              "    </tr>\n",
              "    <tr>\n",
              "      <th>...</th>\n",
              "      <td>...</td>\n",
              "      <td>...</td>\n",
              "      <td>...</td>\n",
              "      <td>...</td>\n",
              "    </tr>\n",
              "    <tr>\n",
              "      <th>443</th>\n",
              "      <td>2021-02-21</td>\n",
              "      <td>Japurá</td>\n",
              "      <td>Letalidade</td>\n",
              "      <td>0.93</td>\n",
              "    </tr>\n",
              "    <tr>\n",
              "      <th>444</th>\n",
              "      <td>2021-02-21</td>\n",
              "      <td>Careiro da Várzea</td>\n",
              "      <td>Letalidade</td>\n",
              "      <td>1.35</td>\n",
              "    </tr>\n",
              "    <tr>\n",
              "      <th>445</th>\n",
              "      <td>2021-02-21</td>\n",
              "      <td>Itamarati</td>\n",
              "      <td>Letalidade</td>\n",
              "      <td>1.18</td>\n",
              "    </tr>\n",
              "    <tr>\n",
              "      <th>446</th>\n",
              "      <td>2021-02-21</td>\n",
              "      <td>Codajás</td>\n",
              "      <td>Letalidade</td>\n",
              "      <td>2.52</td>\n",
              "    </tr>\n",
              "    <tr>\n",
              "      <th>447</th>\n",
              "      <td>2021-02-21</td>\n",
              "      <td>Caapiranga</td>\n",
              "      <td>Letalidade</td>\n",
              "      <td>3.42</td>\n",
              "    </tr>\n",
              "  </tbody>\n",
              "</table>\n",
              "<p>448 rows × 4 columns</p>\n",
              "</div>"
            ],
            "text/plain": [
              "    data_coleta         municipios tipo_ocorrencia  qtd_casos\n",
              "0    2021-02-21           AMAZONAS     Notificados  746528.00\n",
              "1    2021-02-21             MANAUS     Notificados  384525.00\n",
              "2    2021-02-21           INTERIOR     Notificados  362003.00\n",
              "3    2021-02-21              Coari     Notificados   22800.00\n",
              "4    2021-02-21          Parintins     Notificados   33860.00\n",
              "..          ...                ...             ...        ...\n",
              "443  2021-02-21             Japurá      Letalidade       0.93\n",
              "444  2021-02-21  Careiro da Várzea      Letalidade       1.35\n",
              "445  2021-02-21          Itamarati      Letalidade       1.18\n",
              "446  2021-02-21            Codajás      Letalidade       2.52\n",
              "447  2021-02-21         Caapiranga      Letalidade       3.42\n",
              "\n",
              "[448 rows x 4 columns]"
            ]
          },
          "metadata": {
            "tags": []
          },
          "execution_count": 77
        }
      ]
    },
    {
      "cell_type": "code",
      "metadata": {
        "colab": {
          "base_uri": "https://localhost:8080/"
        },
        "id": "aGnosEOCY7f2",
        "outputId": "d1ff5045-fa42-450c-8569-8fd241c0b7d8"
      },
      "source": [
        "df['tipo_ocorrencia'].value_counts()"
      ],
      "execution_count": 82,
      "outputs": [
        {
          "output_type": "execute_result",
          "data": {
            "text/plain": [
              "Nº de óbitos                        64\n",
              "Confirmados (3)                     64\n",
              "(óbitos/100.000)                    64\n",
              "Notificados                         64\n",
              "(casos/100.000)                     64\n",
              "% de participação\\npor Município    64\n",
              "Letalidade                          64\n",
              "Name: tipo_ocorrencia, dtype: int64"
            ]
          },
          "metadata": {
            "tags": []
          },
          "execution_count": 82
        }
      ]
    },
    {
      "cell_type": "markdown",
      "metadata": {
        "id": "L8mhJqhseYof"
      },
      "source": [
        "###**anterior**"
      ]
    },
    {
      "cell_type": "code",
      "metadata": {
        "id": "6O8HiR0MpgeA",
        "colab": {
          "base_uri": "https://localhost:8080/",
          "height": 204
        },
        "outputId": "047410a9-6faa-4fc8-874f-4a70aec02def"
      },
      "source": [
        "casos_anterior.head()"
      ],
      "execution_count": 83,
      "outputs": [
        {
          "output_type": "execute_result",
          "data": {
            "text/html": [
              "<div>\n",
              "<style scoped>\n",
              "    .dataframe tbody tr th:only-of-type {\n",
              "        vertical-align: middle;\n",
              "    }\n",
              "\n",
              "    .dataframe tbody tr th {\n",
              "        vertical-align: top;\n",
              "    }\n",
              "\n",
              "    .dataframe thead th {\n",
              "        text-align: right;\n",
              "    }\n",
              "</style>\n",
              "<table border=\"1\" class=\"dataframe\">\n",
              "  <thead>\n",
              "    <tr style=\"text-align: right;\">\n",
              "      <th></th>\n",
              "      <th>Municípios</th>\n",
              "      <th>Notificados</th>\n",
              "      <th>Confirmados (3)</th>\n",
              "      <th>% de participação\\npor Município</th>\n",
              "      <th>Nº de óbitos</th>\n",
              "      <th>Incidência (casos/100.000)</th>\n",
              "      <th>Mortalidade (óbitos/100.000)</th>\n",
              "      <th>Letalidade</th>\n",
              "      <th>data_coleta</th>\n",
              "    </tr>\n",
              "  </thead>\n",
              "  <tbody>\n",
              "    <tr>\n",
              "      <th>0</th>\n",
              "      <td>AMAZONAS</td>\n",
              "      <td>745154</td>\n",
              "      <td>305250</td>\n",
              "      <td>1.0000</td>\n",
              "      <td>10409</td>\n",
              "      <td>7365.01</td>\n",
              "      <td>251.15</td>\n",
              "      <td>0.0341</td>\n",
              "      <td>2021-02-20</td>\n",
              "    </tr>\n",
              "    <tr>\n",
              "      <th>1</th>\n",
              "      <td>MANAUS</td>\n",
              "      <td>383987</td>\n",
              "      <td>141374</td>\n",
              "      <td>0.4631</td>\n",
              "      <td>7370</td>\n",
              "      <td>6476.84</td>\n",
              "      <td>337.65</td>\n",
              "      <td>0.0521</td>\n",
              "      <td>2021-02-20</td>\n",
              "    </tr>\n",
              "    <tr>\n",
              "      <th>2</th>\n",
              "      <td>INTERIOR</td>\n",
              "      <td>361167</td>\n",
              "      <td>163876</td>\n",
              "      <td>0.5369</td>\n",
              "      <td>3039</td>\n",
              "      <td>8353.20</td>\n",
              "      <td>154.91</td>\n",
              "      <td>0.0185</td>\n",
              "      <td>2021-02-20</td>\n",
              "    </tr>\n",
              "    <tr>\n",
              "      <th>3</th>\n",
              "      <td>Coari</td>\n",
              "      <td>22750</td>\n",
              "      <td>8948</td>\n",
              "      <td>0.0293</td>\n",
              "      <td>167</td>\n",
              "      <td>10515.06</td>\n",
              "      <td>196.25</td>\n",
              "      <td>0.0187</td>\n",
              "      <td>2021-02-20</td>\n",
              "    </tr>\n",
              "    <tr>\n",
              "      <th>4</th>\n",
              "      <td>Parintins</td>\n",
              "      <td>33812</td>\n",
              "      <td>8243</td>\n",
              "      <td>0.0270</td>\n",
              "      <td>254</td>\n",
              "      <td>7213.43</td>\n",
              "      <td>222.27</td>\n",
              "      <td>0.0308</td>\n",
              "      <td>2021-02-20</td>\n",
              "    </tr>\n",
              "  </tbody>\n",
              "</table>\n",
              "</div>"
            ],
            "text/plain": [
              "  Municípios  Notificados  ...  Letalidade  data_coleta\n",
              "0   AMAZONAS       745154  ...      0.0341   2021-02-20\n",
              "1     MANAUS       383987  ...      0.0521   2021-02-20\n",
              "2   INTERIOR       361167  ...      0.0185   2021-02-20\n",
              "3      Coari        22750  ...      0.0187   2021-02-20\n",
              "4  Parintins        33812  ...      0.0308   2021-02-20\n",
              "\n",
              "[5 rows x 9 columns]"
            ]
          },
          "metadata": {
            "tags": []
          },
          "execution_count": 83
        }
      ]
    },
    {
      "cell_type": "markdown",
      "metadata": {
        "id": "dnyC4Fw5fKX5"
      },
      "source": [
        "tratamento"
      ]
    },
    {
      "cell_type": "code",
      "metadata": {
        "id": "Yc7AQaasVaEx"
      },
      "source": [
        "casos_anterior = casos_anterior.drop(columns=['data_coleta'])"
      ],
      "execution_count": 84,
      "outputs": []
    },
    {
      "cell_type": "code",
      "metadata": {
        "id": "kKEIP_0tPNxR"
      },
      "source": [
        "casos_anterior.columns = ['municipios', 'Notificados', 'Confirmados', 'Participacao','Obitos','Incidencia','Mortalidade','Letalidade']"
      ],
      "execution_count": 85,
      "outputs": []
    },
    {
      "cell_type": "code",
      "metadata": {
        "id": "1UUTMIc3PRmJ"
      },
      "source": [
        "casos_anterior['Participacao'] = [x*100   for x in casos_anterior['Participacao']]"
      ],
      "execution_count": 86,
      "outputs": []
    },
    {
      "cell_type": "code",
      "metadata": {
        "id": "m9oyLtajPSHz"
      },
      "source": [
        "casos_anterior['Letalidade'] = [x*100   for x in casos_anterior['Letalidade']]"
      ],
      "execution_count": 87,
      "outputs": []
    },
    {
      "cell_type": "code",
      "metadata": {
        "id": "o9olyI_SYDHB"
      },
      "source": [
        "casos_anterior.columns = ['municipios', 'Notificados', 'Confirmados (3)', '% de participação\\npor Município','Nº de óbitos','(casos/100.000)','(óbitos/100.000)','Letalidade']"
      ],
      "execution_count": 88,
      "outputs": []
    },
    {
      "cell_type": "markdown",
      "metadata": {
        "id": "slqBt9dLfOOx"
      },
      "source": [
        "unpivot"
      ]
    },
    {
      "cell_type": "code",
      "metadata": {
        "id": "dXI7XIvePZ8f"
      },
      "source": [
        "df2 = casos_anterior.melt (id_vars = 'municipios', var_name = 'tipo_ocorrencia', value_name = 'qtd_casos2')"
      ],
      "execution_count": 89,
      "outputs": []
    },
    {
      "cell_type": "code",
      "metadata": {
        "colab": {
          "base_uri": "https://localhost:8080/",
          "height": 419
        },
        "id": "iAN9Q_uIPtJR",
        "outputId": "7ab2e9ba-28f9-4029-a27f-1c45174f557a"
      },
      "source": [
        "df2"
      ],
      "execution_count": 90,
      "outputs": [
        {
          "output_type": "execute_result",
          "data": {
            "text/html": [
              "<div>\n",
              "<style scoped>\n",
              "    .dataframe tbody tr th:only-of-type {\n",
              "        vertical-align: middle;\n",
              "    }\n",
              "\n",
              "    .dataframe tbody tr th {\n",
              "        vertical-align: top;\n",
              "    }\n",
              "\n",
              "    .dataframe thead th {\n",
              "        text-align: right;\n",
              "    }\n",
              "</style>\n",
              "<table border=\"1\" class=\"dataframe\">\n",
              "  <thead>\n",
              "    <tr style=\"text-align: right;\">\n",
              "      <th></th>\n",
              "      <th>municipios</th>\n",
              "      <th>tipo_ocorrencia</th>\n",
              "      <th>qtd_casos2</th>\n",
              "    </tr>\n",
              "  </thead>\n",
              "  <tbody>\n",
              "    <tr>\n",
              "      <th>0</th>\n",
              "      <td>AMAZONAS</td>\n",
              "      <td>Notificados</td>\n",
              "      <td>745154.00</td>\n",
              "    </tr>\n",
              "    <tr>\n",
              "      <th>1</th>\n",
              "      <td>MANAUS</td>\n",
              "      <td>Notificados</td>\n",
              "      <td>383987.00</td>\n",
              "    </tr>\n",
              "    <tr>\n",
              "      <th>2</th>\n",
              "      <td>INTERIOR</td>\n",
              "      <td>Notificados</td>\n",
              "      <td>361167.00</td>\n",
              "    </tr>\n",
              "    <tr>\n",
              "      <th>3</th>\n",
              "      <td>Coari</td>\n",
              "      <td>Notificados</td>\n",
              "      <td>22750.00</td>\n",
              "    </tr>\n",
              "    <tr>\n",
              "      <th>4</th>\n",
              "      <td>Parintins</td>\n",
              "      <td>Notificados</td>\n",
              "      <td>33812.00</td>\n",
              "    </tr>\n",
              "    <tr>\n",
              "      <th>...</th>\n",
              "      <td>...</td>\n",
              "      <td>...</td>\n",
              "      <td>...</td>\n",
              "    </tr>\n",
              "    <tr>\n",
              "      <th>443</th>\n",
              "      <td>Japurá</td>\n",
              "      <td>Letalidade</td>\n",
              "      <td>0.93</td>\n",
              "    </tr>\n",
              "    <tr>\n",
              "      <th>444</th>\n",
              "      <td>Careiro da Várzea</td>\n",
              "      <td>Letalidade</td>\n",
              "      <td>1.35</td>\n",
              "    </tr>\n",
              "    <tr>\n",
              "      <th>445</th>\n",
              "      <td>Itamarati</td>\n",
              "      <td>Letalidade</td>\n",
              "      <td>1.18</td>\n",
              "    </tr>\n",
              "    <tr>\n",
              "      <th>446</th>\n",
              "      <td>Codajás</td>\n",
              "      <td>Letalidade</td>\n",
              "      <td>2.52</td>\n",
              "    </tr>\n",
              "    <tr>\n",
              "      <th>447</th>\n",
              "      <td>Caapiranga</td>\n",
              "      <td>Letalidade</td>\n",
              "      <td>3.42</td>\n",
              "    </tr>\n",
              "  </tbody>\n",
              "</table>\n",
              "<p>448 rows × 3 columns</p>\n",
              "</div>"
            ],
            "text/plain": [
              "            municipios tipo_ocorrencia  qtd_casos2\n",
              "0             AMAZONAS     Notificados   745154.00\n",
              "1               MANAUS     Notificados   383987.00\n",
              "2             INTERIOR     Notificados   361167.00\n",
              "3                Coari     Notificados    22750.00\n",
              "4            Parintins     Notificados    33812.00\n",
              "..                 ...             ...         ...\n",
              "443             Japurá      Letalidade        0.93\n",
              "444  Careiro da Várzea      Letalidade        1.35\n",
              "445          Itamarati      Letalidade        1.18\n",
              "446            Codajás      Letalidade        2.52\n",
              "447         Caapiranga      Letalidade        3.42\n",
              "\n",
              "[448 rows x 3 columns]"
            ]
          },
          "metadata": {
            "tags": []
          },
          "execution_count": 90
        }
      ]
    },
    {
      "cell_type": "code",
      "metadata": {
        "colab": {
          "base_uri": "https://localhost:8080/"
        },
        "id": "JQkYo5svZrDN",
        "outputId": "b23c45ef-3ece-44d7-f2d5-b607767ad31d"
      },
      "source": [
        "df2['tipo_ocorrencia'].value_counts()"
      ],
      "execution_count": 91,
      "outputs": [
        {
          "output_type": "execute_result",
          "data": {
            "text/plain": [
              "Nº de óbitos                        64\n",
              "Confirmados (3)                     64\n",
              "(óbitos/100.000)                    64\n",
              "Notificados                         64\n",
              "(casos/100.000)                     64\n",
              "% de participação\\npor Município    64\n",
              "Letalidade                          64\n",
              "Name: tipo_ocorrencia, dtype: int64"
            ]
          },
          "metadata": {
            "tags": []
          },
          "execution_count": 91
        }
      ]
    },
    {
      "cell_type": "markdown",
      "metadata": {
        "id": "ojpTRpDchxea"
      },
      "source": [
        "###**gerando tabela casos acumulados**"
      ]
    },
    {
      "cell_type": "code",
      "metadata": {
        "id": "5qr13CO6iZcj"
      },
      "source": [
        "casos_municipios = df"
      ],
      "execution_count": 109,
      "outputs": []
    },
    {
      "cell_type": "code",
      "metadata": {
        "id": "DomXQnqvh8WP"
      },
      "source": [
        "for index, row in casos_municipios.iterrows():\r\n",
        "\r\n",
        "    if row['tipo_ocorrencia'] in ['(óbitos/100.000)','Letalidade']:\r\n",
        "      casos_municipios.at[index,'modalidade'] = 'Mortalidade'\r\n",
        "    elif row['tipo_ocorrencia'] == '(casos/100.000)':\r\n",
        "      casos_municipios.at[index,'modalidade'] = 'Incidência'\r\n",
        "    else:\r\n",
        "      casos_municipios.at[index,'modalidade'] = 'Casos'"
      ],
      "execution_count": 110,
      "outputs": []
    },
    {
      "cell_type": "code",
      "metadata": {
        "id": "U4bodGFtiKEJ"
      },
      "source": [
        "casos_municipios['data_coleta'] = [str(x).replace(' ','T')  for x in casos_municipios['data_coleta']]"
      ],
      "execution_count": 111,
      "outputs": []
    },
    {
      "cell_type": "code",
      "metadata": {
        "id": "-d5chN8SiHZR"
      },
      "source": [
        "casos_municipios = casos_municipios.reindex(columns=['municipios','qtd_casos','tipo_ocorrencia','modalidade','data_coleta'])"
      ],
      "execution_count": 113,
      "outputs": []
    },
    {
      "cell_type": "code",
      "metadata": {
        "colab": {
          "base_uri": "https://localhost:8080/",
          "height": 204
        },
        "id": "AnKHijehiljG",
        "outputId": "5914112b-d29e-47e9-c0bf-863581162f63"
      },
      "source": [
        "casos_municipios.head()"
      ],
      "execution_count": 114,
      "outputs": [
        {
          "output_type": "execute_result",
          "data": {
            "text/html": [
              "<div>\n",
              "<style scoped>\n",
              "    .dataframe tbody tr th:only-of-type {\n",
              "        vertical-align: middle;\n",
              "    }\n",
              "\n",
              "    .dataframe tbody tr th {\n",
              "        vertical-align: top;\n",
              "    }\n",
              "\n",
              "    .dataframe thead th {\n",
              "        text-align: right;\n",
              "    }\n",
              "</style>\n",
              "<table border=\"1\" class=\"dataframe\">\n",
              "  <thead>\n",
              "    <tr style=\"text-align: right;\">\n",
              "      <th></th>\n",
              "      <th>municipios</th>\n",
              "      <th>qtd_casos</th>\n",
              "      <th>tipo_ocorrencia</th>\n",
              "      <th>modalidade</th>\n",
              "      <th>data_coleta</th>\n",
              "    </tr>\n",
              "  </thead>\n",
              "  <tbody>\n",
              "    <tr>\n",
              "      <th>0</th>\n",
              "      <td>AMAZONAS</td>\n",
              "      <td>746528.0</td>\n",
              "      <td>Notificados</td>\n",
              "      <td>Casos</td>\n",
              "      <td>2021-02-21T00:00:00</td>\n",
              "    </tr>\n",
              "    <tr>\n",
              "      <th>1</th>\n",
              "      <td>MANAUS</td>\n",
              "      <td>384525.0</td>\n",
              "      <td>Notificados</td>\n",
              "      <td>Casos</td>\n",
              "      <td>2021-02-21T00:00:00</td>\n",
              "    </tr>\n",
              "    <tr>\n",
              "      <th>2</th>\n",
              "      <td>INTERIOR</td>\n",
              "      <td>362003.0</td>\n",
              "      <td>Notificados</td>\n",
              "      <td>Casos</td>\n",
              "      <td>2021-02-21T00:00:00</td>\n",
              "    </tr>\n",
              "    <tr>\n",
              "      <th>3</th>\n",
              "      <td>Coari</td>\n",
              "      <td>22800.0</td>\n",
              "      <td>Notificados</td>\n",
              "      <td>Casos</td>\n",
              "      <td>2021-02-21T00:00:00</td>\n",
              "    </tr>\n",
              "    <tr>\n",
              "      <th>4</th>\n",
              "      <td>Parintins</td>\n",
              "      <td>33860.0</td>\n",
              "      <td>Notificados</td>\n",
              "      <td>Casos</td>\n",
              "      <td>2021-02-21T00:00:00</td>\n",
              "    </tr>\n",
              "  </tbody>\n",
              "</table>\n",
              "</div>"
            ],
            "text/plain": [
              "  municipios  qtd_casos tipo_ocorrencia modalidade          data_coleta\n",
              "0   AMAZONAS   746528.0     Notificados      Casos  2021-02-21T00:00:00\n",
              "1     MANAUS   384525.0     Notificados      Casos  2021-02-21T00:00:00\n",
              "2   INTERIOR   362003.0     Notificados      Casos  2021-02-21T00:00:00\n",
              "3      Coari    22800.0     Notificados      Casos  2021-02-21T00:00:00\n",
              "4  Parintins    33860.0     Notificados      Casos  2021-02-21T00:00:00"
            ]
          },
          "metadata": {
            "tags": []
          },
          "execution_count": 114
        }
      ]
    },
    {
      "cell_type": "code",
      "metadata": {
        "colab": {
          "base_uri": "https://localhost:8080/"
        },
        "id": "WdI6ihVZjBD3",
        "outputId": "26094864-4d75-44f6-adf4-bbaa4a7f39d7"
      },
      "source": [
        "casos_municipios.info()"
      ],
      "execution_count": 115,
      "outputs": [
        {
          "output_type": "stream",
          "text": [
            "<class 'pandas.core.frame.DataFrame'>\n",
            "RangeIndex: 448 entries, 0 to 447\n",
            "Data columns (total 5 columns):\n",
            " #   Column           Non-Null Count  Dtype  \n",
            "---  ------           --------------  -----  \n",
            " 0   municipios       448 non-null    object \n",
            " 1   qtd_casos        448 non-null    float64\n",
            " 2   tipo_ocorrencia  448 non-null    object \n",
            " 3   modalidade       448 non-null    object \n",
            " 4   data_coleta      448 non-null    object \n",
            "dtypes: float64(1), object(4)\n",
            "memory usage: 17.6+ KB\n"
          ],
          "name": "stdout"
        }
      ]
    },
    {
      "cell_type": "code",
      "metadata": {
        "id": "W_2zPIeMeJbw"
      },
      "source": [
        "casos_municipios.to_json(f'covid_fvs_casos_por_municipios.json',orient=\"records\")\r\n",
        "casos_municipios.to_excel(f'covid_fvs_casos_por_municipios.xlsx')"
      ],
      "execution_count": 118,
      "outputs": []
    },
    {
      "cell_type": "markdown",
      "metadata": {
        "id": "-j-MSc9Hf_bn"
      },
      "source": [
        "###**gerando tabela historico de casos - tratamento e calculo**"
      ]
    },
    {
      "cell_type": "code",
      "metadata": {
        "id": "rdFAGVYNPlLR"
      },
      "source": [
        "df3 = df.merge(df2, how='inner', on=['municipios','tipo_ocorrencia'])"
      ],
      "execution_count": 92,
      "outputs": []
    },
    {
      "cell_type": "code",
      "metadata": {
        "colab": {
          "base_uri": "https://localhost:8080/",
          "height": 419
        },
        "id": "_eChb62bPlFT",
        "outputId": "b429d291-60b2-4b3f-c453-070d439ae700"
      },
      "source": [
        "df3"
      ],
      "execution_count": 93,
      "outputs": [
        {
          "output_type": "execute_result",
          "data": {
            "text/html": [
              "<div>\n",
              "<style scoped>\n",
              "    .dataframe tbody tr th:only-of-type {\n",
              "        vertical-align: middle;\n",
              "    }\n",
              "\n",
              "    .dataframe tbody tr th {\n",
              "        vertical-align: top;\n",
              "    }\n",
              "\n",
              "    .dataframe thead th {\n",
              "        text-align: right;\n",
              "    }\n",
              "</style>\n",
              "<table border=\"1\" class=\"dataframe\">\n",
              "  <thead>\n",
              "    <tr style=\"text-align: right;\">\n",
              "      <th></th>\n",
              "      <th>data_coleta</th>\n",
              "      <th>municipios</th>\n",
              "      <th>tipo_ocorrencia</th>\n",
              "      <th>qtd_casos</th>\n",
              "      <th>qtd_casos2</th>\n",
              "    </tr>\n",
              "  </thead>\n",
              "  <tbody>\n",
              "    <tr>\n",
              "      <th>0</th>\n",
              "      <td>2021-02-21</td>\n",
              "      <td>AMAZONAS</td>\n",
              "      <td>Notificados</td>\n",
              "      <td>746528.00</td>\n",
              "      <td>745154.00</td>\n",
              "    </tr>\n",
              "    <tr>\n",
              "      <th>1</th>\n",
              "      <td>2021-02-21</td>\n",
              "      <td>MANAUS</td>\n",
              "      <td>Notificados</td>\n",
              "      <td>384525.00</td>\n",
              "      <td>383987.00</td>\n",
              "    </tr>\n",
              "    <tr>\n",
              "      <th>2</th>\n",
              "      <td>2021-02-21</td>\n",
              "      <td>INTERIOR</td>\n",
              "      <td>Notificados</td>\n",
              "      <td>362003.00</td>\n",
              "      <td>361167.00</td>\n",
              "    </tr>\n",
              "    <tr>\n",
              "      <th>3</th>\n",
              "      <td>2021-02-21</td>\n",
              "      <td>Coari</td>\n",
              "      <td>Notificados</td>\n",
              "      <td>22800.00</td>\n",
              "      <td>22750.00</td>\n",
              "    </tr>\n",
              "    <tr>\n",
              "      <th>4</th>\n",
              "      <td>2021-02-21</td>\n",
              "      <td>Parintins</td>\n",
              "      <td>Notificados</td>\n",
              "      <td>33860.00</td>\n",
              "      <td>33812.00</td>\n",
              "    </tr>\n",
              "    <tr>\n",
              "      <th>...</th>\n",
              "      <td>...</td>\n",
              "      <td>...</td>\n",
              "      <td>...</td>\n",
              "      <td>...</td>\n",
              "      <td>...</td>\n",
              "    </tr>\n",
              "    <tr>\n",
              "      <th>443</th>\n",
              "      <td>2021-02-21</td>\n",
              "      <td>Japurá</td>\n",
              "      <td>Letalidade</td>\n",
              "      <td>0.93</td>\n",
              "      <td>0.93</td>\n",
              "    </tr>\n",
              "    <tr>\n",
              "      <th>444</th>\n",
              "      <td>2021-02-21</td>\n",
              "      <td>Careiro da Várzea</td>\n",
              "      <td>Letalidade</td>\n",
              "      <td>1.35</td>\n",
              "      <td>1.35</td>\n",
              "    </tr>\n",
              "    <tr>\n",
              "      <th>445</th>\n",
              "      <td>2021-02-21</td>\n",
              "      <td>Itamarati</td>\n",
              "      <td>Letalidade</td>\n",
              "      <td>1.18</td>\n",
              "      <td>1.18</td>\n",
              "    </tr>\n",
              "    <tr>\n",
              "      <th>446</th>\n",
              "      <td>2021-02-21</td>\n",
              "      <td>Codajás</td>\n",
              "      <td>Letalidade</td>\n",
              "      <td>2.52</td>\n",
              "      <td>2.52</td>\n",
              "    </tr>\n",
              "    <tr>\n",
              "      <th>447</th>\n",
              "      <td>2021-02-21</td>\n",
              "      <td>Caapiranga</td>\n",
              "      <td>Letalidade</td>\n",
              "      <td>3.42</td>\n",
              "      <td>3.42</td>\n",
              "    </tr>\n",
              "  </tbody>\n",
              "</table>\n",
              "<p>448 rows × 5 columns</p>\n",
              "</div>"
            ],
            "text/plain": [
              "    data_coleta         municipios tipo_ocorrencia  qtd_casos  qtd_casos2\n",
              "0    2021-02-21           AMAZONAS     Notificados  746528.00   745154.00\n",
              "1    2021-02-21             MANAUS     Notificados  384525.00   383987.00\n",
              "2    2021-02-21           INTERIOR     Notificados  362003.00   361167.00\n",
              "3    2021-02-21              Coari     Notificados   22800.00    22750.00\n",
              "4    2021-02-21          Parintins     Notificados   33860.00    33812.00\n",
              "..          ...                ...             ...        ...         ...\n",
              "443  2021-02-21             Japurá      Letalidade       0.93        0.93\n",
              "444  2021-02-21  Careiro da Várzea      Letalidade       1.35        1.35\n",
              "445  2021-02-21          Itamarati      Letalidade       1.18        1.18\n",
              "446  2021-02-21            Codajás      Letalidade       2.52        2.52\n",
              "447  2021-02-21         Caapiranga      Letalidade       3.42        3.42\n",
              "\n",
              "[448 rows x 5 columns]"
            ]
          },
          "metadata": {
            "tags": []
          },
          "execution_count": 93
        }
      ]
    },
    {
      "cell_type": "code",
      "metadata": {
        "colab": {
          "base_uri": "https://localhost:8080/"
        },
        "id": "HptMsnt9ZxhJ",
        "outputId": "1a7be892-c3f3-4cc5-c707-2fbb0c3f5727"
      },
      "source": [
        "df3['tipo_ocorrencia'].value_counts()"
      ],
      "execution_count": 94,
      "outputs": [
        {
          "output_type": "execute_result",
          "data": {
            "text/plain": [
              "Nº de óbitos                        64\n",
              "Confirmados (3)                     64\n",
              "(óbitos/100.000)                    64\n",
              "Notificados                         64\n",
              "(casos/100.000)                     64\n",
              "% de participação\\npor Município    64\n",
              "Letalidade                          64\n",
              "Name: tipo_ocorrencia, dtype: int64"
            ]
          },
          "metadata": {
            "tags": []
          },
          "execution_count": 94
        }
      ]
    },
    {
      "cell_type": "code",
      "metadata": {
        "id": "tqQLBxRXPlAq"
      },
      "source": [
        "for index, row in df3.iterrows():\r\n",
        "    df3.at[index,'dados_diarios'] = row['qtd_casos'] - row['qtd_casos2']\r\n",
        "    if row['tipo_ocorrencia'] in ['(óbitos/100.000)','Letalidade']:\r\n",
        "      df3.at[index,'modalidade'] = 'Mortalidade'\r\n",
        "    elif row['tipo_ocorrencia'] == '(casos/100.000)':\r\n",
        "      df3.at[index,'modalidade'] = 'Incidência'\r\n",
        "    else:\r\n",
        "      df3.at[index,'modalidade'] = 'Casos'\r\n"
      ],
      "execution_count": 95,
      "outputs": []
    },
    {
      "cell_type": "code",
      "metadata": {
        "colab": {
          "base_uri": "https://localhost:8080/",
          "height": 419
        },
        "id": "X_1oWgxyPk4Z",
        "outputId": "5d6c08df-382d-4e23-a99b-314ce9494d9d"
      },
      "source": [
        "df3"
      ],
      "execution_count": 96,
      "outputs": [
        {
          "output_type": "execute_result",
          "data": {
            "text/html": [
              "<div>\n",
              "<style scoped>\n",
              "    .dataframe tbody tr th:only-of-type {\n",
              "        vertical-align: middle;\n",
              "    }\n",
              "\n",
              "    .dataframe tbody tr th {\n",
              "        vertical-align: top;\n",
              "    }\n",
              "\n",
              "    .dataframe thead th {\n",
              "        text-align: right;\n",
              "    }\n",
              "</style>\n",
              "<table border=\"1\" class=\"dataframe\">\n",
              "  <thead>\n",
              "    <tr style=\"text-align: right;\">\n",
              "      <th></th>\n",
              "      <th>data_coleta</th>\n",
              "      <th>municipios</th>\n",
              "      <th>tipo_ocorrencia</th>\n",
              "      <th>qtd_casos</th>\n",
              "      <th>qtd_casos2</th>\n",
              "      <th>dados_diarios</th>\n",
              "      <th>modalidade</th>\n",
              "    </tr>\n",
              "  </thead>\n",
              "  <tbody>\n",
              "    <tr>\n",
              "      <th>0</th>\n",
              "      <td>2021-02-21</td>\n",
              "      <td>AMAZONAS</td>\n",
              "      <td>Notificados</td>\n",
              "      <td>746528.00</td>\n",
              "      <td>745154.00</td>\n",
              "      <td>1374.0</td>\n",
              "      <td>Casos</td>\n",
              "    </tr>\n",
              "    <tr>\n",
              "      <th>1</th>\n",
              "      <td>2021-02-21</td>\n",
              "      <td>MANAUS</td>\n",
              "      <td>Notificados</td>\n",
              "      <td>384525.00</td>\n",
              "      <td>383987.00</td>\n",
              "      <td>538.0</td>\n",
              "      <td>Casos</td>\n",
              "    </tr>\n",
              "    <tr>\n",
              "      <th>2</th>\n",
              "      <td>2021-02-21</td>\n",
              "      <td>INTERIOR</td>\n",
              "      <td>Notificados</td>\n",
              "      <td>362003.00</td>\n",
              "      <td>361167.00</td>\n",
              "      <td>836.0</td>\n",
              "      <td>Casos</td>\n",
              "    </tr>\n",
              "    <tr>\n",
              "      <th>3</th>\n",
              "      <td>2021-02-21</td>\n",
              "      <td>Coari</td>\n",
              "      <td>Notificados</td>\n",
              "      <td>22800.00</td>\n",
              "      <td>22750.00</td>\n",
              "      <td>50.0</td>\n",
              "      <td>Casos</td>\n",
              "    </tr>\n",
              "    <tr>\n",
              "      <th>4</th>\n",
              "      <td>2021-02-21</td>\n",
              "      <td>Parintins</td>\n",
              "      <td>Notificados</td>\n",
              "      <td>33860.00</td>\n",
              "      <td>33812.00</td>\n",
              "      <td>48.0</td>\n",
              "      <td>Casos</td>\n",
              "    </tr>\n",
              "    <tr>\n",
              "      <th>...</th>\n",
              "      <td>...</td>\n",
              "      <td>...</td>\n",
              "      <td>...</td>\n",
              "      <td>...</td>\n",
              "      <td>...</td>\n",
              "      <td>...</td>\n",
              "      <td>...</td>\n",
              "    </tr>\n",
              "    <tr>\n",
              "      <th>443</th>\n",
              "      <td>2021-02-21</td>\n",
              "      <td>Japurá</td>\n",
              "      <td>Letalidade</td>\n",
              "      <td>0.93</td>\n",
              "      <td>0.93</td>\n",
              "      <td>0.0</td>\n",
              "      <td>Mortalidade</td>\n",
              "    </tr>\n",
              "    <tr>\n",
              "      <th>444</th>\n",
              "      <td>2021-02-21</td>\n",
              "      <td>Careiro da Várzea</td>\n",
              "      <td>Letalidade</td>\n",
              "      <td>1.35</td>\n",
              "      <td>1.35</td>\n",
              "      <td>0.0</td>\n",
              "      <td>Mortalidade</td>\n",
              "    </tr>\n",
              "    <tr>\n",
              "      <th>445</th>\n",
              "      <td>2021-02-21</td>\n",
              "      <td>Itamarati</td>\n",
              "      <td>Letalidade</td>\n",
              "      <td>1.18</td>\n",
              "      <td>1.18</td>\n",
              "      <td>0.0</td>\n",
              "      <td>Mortalidade</td>\n",
              "    </tr>\n",
              "    <tr>\n",
              "      <th>446</th>\n",
              "      <td>2021-02-21</td>\n",
              "      <td>Codajás</td>\n",
              "      <td>Letalidade</td>\n",
              "      <td>2.52</td>\n",
              "      <td>2.52</td>\n",
              "      <td>0.0</td>\n",
              "      <td>Mortalidade</td>\n",
              "    </tr>\n",
              "    <tr>\n",
              "      <th>447</th>\n",
              "      <td>2021-02-21</td>\n",
              "      <td>Caapiranga</td>\n",
              "      <td>Letalidade</td>\n",
              "      <td>3.42</td>\n",
              "      <td>3.42</td>\n",
              "      <td>0.0</td>\n",
              "      <td>Mortalidade</td>\n",
              "    </tr>\n",
              "  </tbody>\n",
              "</table>\n",
              "<p>448 rows × 7 columns</p>\n",
              "</div>"
            ],
            "text/plain": [
              "    data_coleta         municipios  ... dados_diarios   modalidade\n",
              "0    2021-02-21           AMAZONAS  ...        1374.0        Casos\n",
              "1    2021-02-21             MANAUS  ...         538.0        Casos\n",
              "2    2021-02-21           INTERIOR  ...         836.0        Casos\n",
              "3    2021-02-21              Coari  ...          50.0        Casos\n",
              "4    2021-02-21          Parintins  ...          48.0        Casos\n",
              "..          ...                ...  ...           ...          ...\n",
              "443  2021-02-21             Japurá  ...           0.0  Mortalidade\n",
              "444  2021-02-21  Careiro da Várzea  ...           0.0  Mortalidade\n",
              "445  2021-02-21          Itamarati  ...           0.0  Mortalidade\n",
              "446  2021-02-21            Codajás  ...           0.0  Mortalidade\n",
              "447  2021-02-21         Caapiranga  ...           0.0  Mortalidade\n",
              "\n",
              "[448 rows x 7 columns]"
            ]
          },
          "metadata": {
            "tags": []
          },
          "execution_count": 96
        }
      ]
    },
    {
      "cell_type": "code",
      "metadata": {
        "id": "pH2kUjBpWHlx"
      },
      "source": [
        "df3 = df3.drop(columns=['qtd_casos2'])"
      ],
      "execution_count": 97,
      "outputs": []
    },
    {
      "cell_type": "code",
      "metadata": {
        "id": "fCW9ynt9b29a"
      },
      "source": [
        "df3.columns = ['data_coleta', 'municipios', 'tipo_ocorrencia', 'dados_acumulados','dados_diarios','modalidade']"
      ],
      "execution_count": 98,
      "outputs": []
    },
    {
      "cell_type": "code",
      "metadata": {
        "id": "gB2nYp8bcSF9"
      },
      "source": [
        "df3['data_coleta'] = [str(x).replace(' ','T')  for x in df3['data_coleta']]"
      ],
      "execution_count": 100,
      "outputs": []
    },
    {
      "cell_type": "code",
      "metadata": {
        "id": "SXgAkrTidOki"
      },
      "source": [
        "historico_casos = df3.reindex(columns=['municipios','dados_acumulados','dados_diarios','tipo_ocorrencia','modalidade','data_coleta'])"
      ],
      "execution_count": 102,
      "outputs": []
    },
    {
      "cell_type": "code",
      "metadata": {
        "colab": {
          "base_uri": "https://localhost:8080/",
          "height": 204
        },
        "id": "nNksG7oecVV6",
        "outputId": "bbf4357b-1c19-4d5c-fd97-f2203b733827"
      },
      "source": [
        "historico_casos.head()"
      ],
      "execution_count": 103,
      "outputs": [
        {
          "output_type": "execute_result",
          "data": {
            "text/html": [
              "<div>\n",
              "<style scoped>\n",
              "    .dataframe tbody tr th:only-of-type {\n",
              "        vertical-align: middle;\n",
              "    }\n",
              "\n",
              "    .dataframe tbody tr th {\n",
              "        vertical-align: top;\n",
              "    }\n",
              "\n",
              "    .dataframe thead th {\n",
              "        text-align: right;\n",
              "    }\n",
              "</style>\n",
              "<table border=\"1\" class=\"dataframe\">\n",
              "  <thead>\n",
              "    <tr style=\"text-align: right;\">\n",
              "      <th></th>\n",
              "      <th>municipios</th>\n",
              "      <th>dados_acumulados</th>\n",
              "      <th>dados_diarios</th>\n",
              "      <th>tipo_ocorrencia</th>\n",
              "      <th>modalidade</th>\n",
              "      <th>data_coleta</th>\n",
              "    </tr>\n",
              "  </thead>\n",
              "  <tbody>\n",
              "    <tr>\n",
              "      <th>0</th>\n",
              "      <td>AMAZONAS</td>\n",
              "      <td>746528.0</td>\n",
              "      <td>1374.0</td>\n",
              "      <td>Notificados</td>\n",
              "      <td>Casos</td>\n",
              "      <td>2021-02-21T00:00:00</td>\n",
              "    </tr>\n",
              "    <tr>\n",
              "      <th>1</th>\n",
              "      <td>MANAUS</td>\n",
              "      <td>384525.0</td>\n",
              "      <td>538.0</td>\n",
              "      <td>Notificados</td>\n",
              "      <td>Casos</td>\n",
              "      <td>2021-02-21T00:00:00</td>\n",
              "    </tr>\n",
              "    <tr>\n",
              "      <th>2</th>\n",
              "      <td>INTERIOR</td>\n",
              "      <td>362003.0</td>\n",
              "      <td>836.0</td>\n",
              "      <td>Notificados</td>\n",
              "      <td>Casos</td>\n",
              "      <td>2021-02-21T00:00:00</td>\n",
              "    </tr>\n",
              "    <tr>\n",
              "      <th>3</th>\n",
              "      <td>Coari</td>\n",
              "      <td>22800.0</td>\n",
              "      <td>50.0</td>\n",
              "      <td>Notificados</td>\n",
              "      <td>Casos</td>\n",
              "      <td>2021-02-21T00:00:00</td>\n",
              "    </tr>\n",
              "    <tr>\n",
              "      <th>4</th>\n",
              "      <td>Parintins</td>\n",
              "      <td>33860.0</td>\n",
              "      <td>48.0</td>\n",
              "      <td>Notificados</td>\n",
              "      <td>Casos</td>\n",
              "      <td>2021-02-21T00:00:00</td>\n",
              "    </tr>\n",
              "  </tbody>\n",
              "</table>\n",
              "</div>"
            ],
            "text/plain": [
              "  municipios  dados_acumulados  ...  modalidade          data_coleta\n",
              "0   AMAZONAS          746528.0  ...       Casos  2021-02-21T00:00:00\n",
              "1     MANAUS          384525.0  ...       Casos  2021-02-21T00:00:00\n",
              "2   INTERIOR          362003.0  ...       Casos  2021-02-21T00:00:00\n",
              "3      Coari           22800.0  ...       Casos  2021-02-21T00:00:00\n",
              "4  Parintins           33860.0  ...       Casos  2021-02-21T00:00:00\n",
              "\n",
              "[5 rows x 6 columns]"
            ]
          },
          "metadata": {
            "tags": []
          },
          "execution_count": 103
        }
      ]
    },
    {
      "cell_type": "code",
      "metadata": {
        "colab": {
          "base_uri": "https://localhost:8080/"
        },
        "id": "SEY0YoOhd3RI",
        "outputId": "721788b7-8023-4ce2-c907-ca409f3809d0"
      },
      "source": [
        "historico_casos['tipo_ocorrencia'].value_counts()"
      ],
      "execution_count": 105,
      "outputs": [
        {
          "output_type": "execute_result",
          "data": {
            "text/plain": [
              "Nº de óbitos                        64\n",
              "Confirmados (3)                     64\n",
              "(óbitos/100.000)                    64\n",
              "Notificados                         64\n",
              "(casos/100.000)                     64\n",
              "% de participação\\npor Município    64\n",
              "Letalidade                          64\n",
              "Name: tipo_ocorrencia, dtype: int64"
            ]
          },
          "metadata": {
            "tags": []
          },
          "execution_count": 105
        }
      ]
    },
    {
      "cell_type": "code",
      "metadata": {
        "colab": {
          "base_uri": "https://localhost:8080/"
        },
        "id": "sYSwdl7_Pkwr",
        "outputId": "8375f8bc-b4af-4cb9-ab50-495a83774374"
      },
      "source": [
        "historico_casos.info()"
      ],
      "execution_count": 104,
      "outputs": [
        {
          "output_type": "stream",
          "text": [
            "<class 'pandas.core.frame.DataFrame'>\n",
            "Int64Index: 448 entries, 0 to 447\n",
            "Data columns (total 6 columns):\n",
            " #   Column            Non-Null Count  Dtype  \n",
            "---  ------            --------------  -----  \n",
            " 0   municipios        448 non-null    object \n",
            " 1   dados_acumulados  448 non-null    float64\n",
            " 2   dados_diarios     448 non-null    float64\n",
            " 3   tipo_ocorrencia   448 non-null    object \n",
            " 4   modalidade        448 non-null    object \n",
            " 5   data_coleta       448 non-null    object \n",
            "dtypes: float64(2), object(4)\n",
            "memory usage: 44.5+ KB\n"
          ],
          "name": "stdout"
        }
      ]
    },
    {
      "cell_type": "code",
      "metadata": {
        "id": "mvkgmgQfg2LW"
      },
      "source": [
        "historico_casos.to_json(f'covid_fvs_historico_casos.json',orient=\"records\")\r\n",
        "historico_casos.to_excel(f'covid_fvs_historico_casos.xlsx')"
      ],
      "execution_count": 107,
      "outputs": []
    },
    {
      "cell_type": "markdown",
      "metadata": {
        "id": "rQlhtBtNyxbV"
      },
      "source": [
        "##**Vacinados**"
      ]
    },
    {
      "cell_type": "markdown",
      "metadata": {
        "id": "ImrcOBHT6fW9"
      },
      "source": [
        "###**Por grupo**"
      ]
    },
    {
      "cell_type": "code",
      "metadata": {
        "colab": {
          "base_uri": "https://localhost:8080/"
        },
        "id": "RxeyyNHl6fW9",
        "outputId": "b06f3107-febd-4e29-d877-fb9b862ac7fd"
      },
      "source": [
        "vacinados_por_grupo.head()"
      ],
      "execution_count": null,
      "outputs": [
        {
          "output_type": "execute_result",
          "data": {
            "text/html": [
              "<div>\n",
              "<style scoped>\n",
              "    .dataframe tbody tr th:only-of-type {\n",
              "        vertical-align: middle;\n",
              "    }\n",
              "\n",
              "    .dataframe tbody tr th {\n",
              "        vertical-align: top;\n",
              "    }\n",
              "\n",
              "    .dataframe thead th {\n",
              "        text-align: right;\n",
              "    }\n",
              "</style>\n",
              "<table border=\"1\" class=\"dataframe\">\n",
              "  <thead>\n",
              "    <tr style=\"text-align: right;\">\n",
              "      <th></th>\n",
              "      <th>TIPO</th>\n",
              "      <th>TOTAL</th>\n",
              "      <th>DATA COLETA</th>\n",
              "    </tr>\n",
              "  </thead>\n",
              "  <tbody>\n",
              "    <tr>\n",
              "      <th>0</th>\n",
              "      <td>TRABALHADORES DA SAÚDE</td>\n",
              "      <td>55183</td>\n",
              "      <td>2021-02-21</td>\n",
              "    </tr>\n",
              "    <tr>\n",
              "      <th>1</th>\n",
              "      <td>POVOS INDIGENAS</td>\n",
              "      <td>234</td>\n",
              "      <td>2021-02-21</td>\n",
              "    </tr>\n",
              "    <tr>\n",
              "      <th>2</th>\n",
              "      <td>PESSOAS COM 60 ANOS OU MAIS INSTITUCIONALIZADAS</td>\n",
              "      <td>157</td>\n",
              "      <td>2021-02-21</td>\n",
              "    </tr>\n",
              "    <tr>\n",
              "      <th>3</th>\n",
              "      <td>PESSOAS COM DEFICIÊNCIA</td>\n",
              "      <td>94</td>\n",
              "      <td>2021-02-21</td>\n",
              "    </tr>\n",
              "    <tr>\n",
              "      <th>4</th>\n",
              "      <td>PESSOAS COM 80 ANOS OU MAIS</td>\n",
              "      <td>17845</td>\n",
              "      <td>2021-02-21</td>\n",
              "    </tr>\n",
              "  </tbody>\n",
              "</table>\n",
              "</div>"
            ],
            "text/plain": [
              "                                             TIPO   TOTAL DATA COLETA\n",
              "0                           TRABALHADORES DA SAÚDE  55183  2021-02-21\n",
              "1                                  POVOS INDIGENAS    234  2021-02-21\n",
              "2  PESSOAS COM 60 ANOS OU MAIS INSTITUCIONALIZADAS    157  2021-02-21\n",
              "3                          PESSOAS COM DEFICIÊNCIA     94  2021-02-21\n",
              "4                      PESSOAS COM 80 ANOS OU MAIS  17845  2021-02-21"
            ]
          },
          "metadata": {
            "tags": []
          },
          "execution_count": 10
        }
      ]
    },
    {
      "cell_type": "code",
      "metadata": {
        "id": "3s31NbTC6fW-"
      },
      "source": [
        "vacinados_por_grupo.columns = ['grupo', 'total_vacinados', 'data_coleta']"
      ],
      "execution_count": null,
      "outputs": []
    },
    {
      "cell_type": "code",
      "metadata": {
        "colab": {
          "base_uri": "https://localhost:8080/"
        },
        "id": "07jWMTZx6fW-",
        "outputId": "eb3f0a9e-9666-4405-dfba-30c7398f5a21"
      },
      "source": [
        "'''\r\n",
        "vacinados_por_grupo['datatime_coleta'] = time_stamp()\r\n",
        "\r\n",
        "vacinados_por_grupo['datatime_coleta'] = pd.to_datetime( vacinados_por_grupo['datatime_coleta'])\r\n",
        "# Coluna 'Data'\r\n",
        "vacinados_por_grupo['data'] = vacinados_por_grupo['datatime_coleta'].dt.strftime('%Y-%m-%d')\r\n",
        "# Coluna 'Hora'\r\n",
        "vacinados_por_grupo['hora'] = vacinados_por_grupo['datatime_coleta'].dt.strftime('%H:%M:%S')\r\n",
        "'''"
      ],
      "execution_count": null,
      "outputs": [
        {
          "output_type": "execute_result",
          "data": {
            "application/vnd.google.colaboratory.intrinsic+json": {
              "type": "string"
            },
            "text/plain": [
              "\"\\nvacinados_por_grupo['datatime_coleta'] = time_stamp()\\n\\nvacinados_por_grupo['datatime_coleta'] = pd.to_datetime( vacinados_por_grupo['datatime_coleta'])\\n# Coluna 'Data'\\nvacinados_por_grupo['data'] = vacinados_por_grupo['datatime_coleta'].dt.strftime('%Y-%m-%d')\\n# Coluna 'Hora'\\nvacinados_por_grupo['hora'] = vacinados_por_grupo['datatime_coleta'].dt.strftime('%H:%M:%S')\\n\""
            ]
          },
          "metadata": {
            "tags": []
          },
          "execution_count": 12
        }
      ]
    },
    {
      "cell_type": "code",
      "metadata": {
        "id": "LzEHYW7A6fW-"
      },
      "source": [
        "vacinados_por_grupo['grupo'] = vacinados_por_grupo['grupo'].fillna(value = 'Não Informado').astype('str')\r\n",
        "vacinados_por_grupo['total_vacinados'] = vacinados_por_grupo['total_vacinados'].fillna(value =0).astype('int')\r\n",
        "vacinados_por_grupo['data_coleta'] = [str(x).replace(' ','T')  for x in vacinados_por_grupo['data_coleta']]\r\n"
      ],
      "execution_count": null,
      "outputs": []
    },
    {
      "cell_type": "code",
      "metadata": {
        "colab": {
          "base_uri": "https://localhost:8080/"
        },
        "id": "g85o-8A2PNCt",
        "outputId": "e685f7b6-52d0-424c-fcd0-3bfde84b4938"
      },
      "source": [
        "vacinados_por_grupo.dtypes"
      ],
      "execution_count": null,
      "outputs": [
        {
          "output_type": "execute_result",
          "data": {
            "text/plain": [
              "grupo              object\n",
              "total_vacinados     int64\n",
              "data_coleta        object\n",
              "dtype: object"
            ]
          },
          "metadata": {
            "tags": []
          },
          "execution_count": 14
        }
      ]
    },
    {
      "cell_type": "code",
      "metadata": {
        "colab": {
          "base_uri": "https://localhost:8080/"
        },
        "id": "1bfQyz516fW_",
        "outputId": "58d6acf2-f2e7-4b61-e710-55bf9150b065"
      },
      "source": [
        "vacinados_por_grupo.head()"
      ],
      "execution_count": null,
      "outputs": [
        {
          "output_type": "execute_result",
          "data": {
            "text/html": [
              "<div>\n",
              "<style scoped>\n",
              "    .dataframe tbody tr th:only-of-type {\n",
              "        vertical-align: middle;\n",
              "    }\n",
              "\n",
              "    .dataframe tbody tr th {\n",
              "        vertical-align: top;\n",
              "    }\n",
              "\n",
              "    .dataframe thead th {\n",
              "        text-align: right;\n",
              "    }\n",
              "</style>\n",
              "<table border=\"1\" class=\"dataframe\">\n",
              "  <thead>\n",
              "    <tr style=\"text-align: right;\">\n",
              "      <th></th>\n",
              "      <th>grupo</th>\n",
              "      <th>total_vacinados</th>\n",
              "      <th>data_coleta</th>\n",
              "    </tr>\n",
              "  </thead>\n",
              "  <tbody>\n",
              "    <tr>\n",
              "      <th>0</th>\n",
              "      <td>TRABALHADORES DA SAÚDE</td>\n",
              "      <td>55183</td>\n",
              "      <td>2021-02-21T00:00:00</td>\n",
              "    </tr>\n",
              "    <tr>\n",
              "      <th>1</th>\n",
              "      <td>POVOS INDIGENAS</td>\n",
              "      <td>234</td>\n",
              "      <td>2021-02-21T00:00:00</td>\n",
              "    </tr>\n",
              "    <tr>\n",
              "      <th>2</th>\n",
              "      <td>PESSOAS COM 60 ANOS OU MAIS INSTITUCIONALIZADAS</td>\n",
              "      <td>157</td>\n",
              "      <td>2021-02-21T00:00:00</td>\n",
              "    </tr>\n",
              "    <tr>\n",
              "      <th>3</th>\n",
              "      <td>PESSOAS COM DEFICIÊNCIA</td>\n",
              "      <td>94</td>\n",
              "      <td>2021-02-21T00:00:00</td>\n",
              "    </tr>\n",
              "    <tr>\n",
              "      <th>4</th>\n",
              "      <td>PESSOAS COM 80 ANOS OU MAIS</td>\n",
              "      <td>17845</td>\n",
              "      <td>2021-02-21T00:00:00</td>\n",
              "    </tr>\n",
              "  </tbody>\n",
              "</table>\n",
              "</div>"
            ],
            "text/plain": [
              "                                             grupo  ...          data_coleta\n",
              "0                           TRABALHADORES DA SAÚDE  ...  2021-02-21T00:00:00\n",
              "1                                  POVOS INDIGENAS  ...  2021-02-21T00:00:00\n",
              "2  PESSOAS COM 60 ANOS OU MAIS INSTITUCIONALIZADAS  ...  2021-02-21T00:00:00\n",
              "3                          PESSOAS COM DEFICIÊNCIA  ...  2021-02-21T00:00:00\n",
              "4                      PESSOAS COM 80 ANOS OU MAIS  ...  2021-02-21T00:00:00\n",
              "\n",
              "[5 rows x 3 columns]"
            ]
          },
          "metadata": {
            "tags": []
          },
          "execution_count": 15
        }
      ]
    },
    {
      "cell_type": "code",
      "metadata": {
        "id": "T6ornmmQ6fW_"
      },
      "source": [
        "vacinados_por_grupo.to_json(f'covid_prefeitura_vacinados_por_grupo.json',orient=\"records\")"
      ],
      "execution_count": null,
      "outputs": []
    },
    {
      "cell_type": "markdown",
      "metadata": {
        "id": "QoMKh3-g6c0s"
      },
      "source": [
        "###**Por dia**"
      ]
    },
    {
      "cell_type": "code",
      "metadata": {
        "colab": {
          "base_uri": "https://localhost:8080/"
        },
        "id": "EK4Yf-ke6c01",
        "outputId": "e6a19592-f42f-4a7d-c3b0-2933c8e024e2"
      },
      "source": [
        "vacinados_por_dia\r\n"
      ],
      "execution_count": null,
      "outputs": [
        {
          "output_type": "execute_result",
          "data": {
            "text/html": [
              "<div>\n",
              "<style scoped>\n",
              "    .dataframe tbody tr th:only-of-type {\n",
              "        vertical-align: middle;\n",
              "    }\n",
              "\n",
              "    .dataframe tbody tr th {\n",
              "        vertical-align: top;\n",
              "    }\n",
              "\n",
              "    .dataframe thead th {\n",
              "        text-align: right;\n",
              "    }\n",
              "</style>\n",
              "<table border=\"1\" class=\"dataframe\">\n",
              "  <thead>\n",
              "    <tr style=\"text-align: right;\">\n",
              "      <th></th>\n",
              "      <th>DATA</th>\n",
              "      <th>TOTAL</th>\n",
              "    </tr>\n",
              "  </thead>\n",
              "  <tbody>\n",
              "    <tr>\n",
              "      <th>0</th>\n",
              "      <td>2021-01-19</td>\n",
              "      <td>539</td>\n",
              "    </tr>\n",
              "    <tr>\n",
              "      <th>1</th>\n",
              "      <td>2021-01-20</td>\n",
              "      <td>4686</td>\n",
              "    </tr>\n",
              "    <tr>\n",
              "      <th>2</th>\n",
              "      <td>2021-01-22</td>\n",
              "      <td>423</td>\n",
              "    </tr>\n",
              "    <tr>\n",
              "      <th>3</th>\n",
              "      <td>2021-01-23</td>\n",
              "      <td>754</td>\n",
              "    </tr>\n",
              "    <tr>\n",
              "      <th>4</th>\n",
              "      <td>2021-01-24</td>\n",
              "      <td>41</td>\n",
              "    </tr>\n",
              "    <tr>\n",
              "      <th>5</th>\n",
              "      <td>2021-01-25</td>\n",
              "      <td>864</td>\n",
              "    </tr>\n",
              "    <tr>\n",
              "      <th>6</th>\n",
              "      <td>2021-01-26</td>\n",
              "      <td>276</td>\n",
              "    </tr>\n",
              "    <tr>\n",
              "      <th>7</th>\n",
              "      <td>2021-01-27</td>\n",
              "      <td>566</td>\n",
              "    </tr>\n",
              "    <tr>\n",
              "      <th>8</th>\n",
              "      <td>2021-01-28</td>\n",
              "      <td>571</td>\n",
              "    </tr>\n",
              "    <tr>\n",
              "      <th>9</th>\n",
              "      <td>2021-01-29</td>\n",
              "      <td>3439</td>\n",
              "    </tr>\n",
              "    <tr>\n",
              "      <th>10</th>\n",
              "      <td>2021-01-30</td>\n",
              "      <td>2999</td>\n",
              "    </tr>\n",
              "    <tr>\n",
              "      <th>11</th>\n",
              "      <td>2021-01-31</td>\n",
              "      <td>5606</td>\n",
              "    </tr>\n",
              "    <tr>\n",
              "      <th>12</th>\n",
              "      <td>2021-02-01</td>\n",
              "      <td>4249</td>\n",
              "    </tr>\n",
              "    <tr>\n",
              "      <th>13</th>\n",
              "      <td>2021-02-02</td>\n",
              "      <td>8080</td>\n",
              "    </tr>\n",
              "    <tr>\n",
              "      <th>14</th>\n",
              "      <td>2021-02-03</td>\n",
              "      <td>9904</td>\n",
              "    </tr>\n",
              "    <tr>\n",
              "      <th>15</th>\n",
              "      <td>2021-02-04</td>\n",
              "      <td>6021</td>\n",
              "    </tr>\n",
              "    <tr>\n",
              "      <th>16</th>\n",
              "      <td>2021-02-05</td>\n",
              "      <td>5577</td>\n",
              "    </tr>\n",
              "    <tr>\n",
              "      <th>17</th>\n",
              "      <td>2021-02-06</td>\n",
              "      <td>2276</td>\n",
              "    </tr>\n",
              "    <tr>\n",
              "      <th>18</th>\n",
              "      <td>2021-02-07</td>\n",
              "      <td>2836</td>\n",
              "    </tr>\n",
              "    <tr>\n",
              "      <th>19</th>\n",
              "      <td>2021-02-08</td>\n",
              "      <td>15678</td>\n",
              "    </tr>\n",
              "    <tr>\n",
              "      <th>20</th>\n",
              "      <td>2021-02-09</td>\n",
              "      <td>15314</td>\n",
              "    </tr>\n",
              "    <tr>\n",
              "      <th>21</th>\n",
              "      <td>2021-02-10</td>\n",
              "      <td>8420</td>\n",
              "    </tr>\n",
              "    <tr>\n",
              "      <th>22</th>\n",
              "      <td>2021-02-11</td>\n",
              "      <td>4406</td>\n",
              "    </tr>\n",
              "    <tr>\n",
              "      <th>23</th>\n",
              "      <td>2021-02-12</td>\n",
              "      <td>3552</td>\n",
              "    </tr>\n",
              "    <tr>\n",
              "      <th>24</th>\n",
              "      <td>2021-02-13</td>\n",
              "      <td>1897</td>\n",
              "    </tr>\n",
              "    <tr>\n",
              "      <th>25</th>\n",
              "      <td>2021-02-14</td>\n",
              "      <td>448</td>\n",
              "    </tr>\n",
              "    <tr>\n",
              "      <th>26</th>\n",
              "      <td>2021-02-15</td>\n",
              "      <td>2346</td>\n",
              "    </tr>\n",
              "    <tr>\n",
              "      <th>27</th>\n",
              "      <td>2021-02-16</td>\n",
              "      <td>2035</td>\n",
              "    </tr>\n",
              "    <tr>\n",
              "      <th>28</th>\n",
              "      <td>2021-02-17</td>\n",
              "      <td>2117</td>\n",
              "    </tr>\n",
              "    <tr>\n",
              "      <th>29</th>\n",
              "      <td>2021-02-18</td>\n",
              "      <td>1520</td>\n",
              "    </tr>\n",
              "    <tr>\n",
              "      <th>30</th>\n",
              "      <td>2021-02-19</td>\n",
              "      <td>1254</td>\n",
              "    </tr>\n",
              "    <tr>\n",
              "      <th>31</th>\n",
              "      <td>2021-02-20</td>\n",
              "      <td>615</td>\n",
              "    </tr>\n",
              "  </tbody>\n",
              "</table>\n",
              "</div>"
            ],
            "text/plain": [
              "         DATA  TOTAL \n",
              "0  2021-01-19     539\n",
              "1  2021-01-20    4686\n",
              "2  2021-01-22     423\n",
              "3  2021-01-23     754\n",
              "4  2021-01-24      41\n",
              "5  2021-01-25     864\n",
              "6  2021-01-26     276\n",
              "7  2021-01-27     566\n",
              "8  2021-01-28     571\n",
              "9  2021-01-29    3439\n",
              "10 2021-01-30    2999\n",
              "11 2021-01-31    5606\n",
              "12 2021-02-01    4249\n",
              "13 2021-02-02    8080\n",
              "14 2021-02-03    9904\n",
              "15 2021-02-04    6021\n",
              "16 2021-02-05    5577\n",
              "17 2021-02-06    2276\n",
              "18 2021-02-07    2836\n",
              "19 2021-02-08   15678\n",
              "20 2021-02-09   15314\n",
              "21 2021-02-10    8420\n",
              "22 2021-02-11    4406\n",
              "23 2021-02-12    3552\n",
              "24 2021-02-13    1897\n",
              "25 2021-02-14     448\n",
              "26 2021-02-15    2346\n",
              "27 2021-02-16    2035\n",
              "28 2021-02-17    2117\n",
              "29 2021-02-18    1520\n",
              "30 2021-02-19    1254\n",
              "31 2021-02-20     615"
            ]
          },
          "metadata": {
            "tags": []
          },
          "execution_count": 17
        }
      ]
    },
    {
      "cell_type": "code",
      "metadata": {
        "id": "B2LAoPxg6c01"
      },
      "source": [
        "vacinados_por_dia.columns = ['dia', 'total_vacinados']"
      ],
      "execution_count": null,
      "outputs": []
    },
    {
      "cell_type": "code",
      "metadata": {
        "id": "Oi_Caex76c02"
      },
      "source": [
        "vacinados_por_dia['dia'] = [str(x).replace(' ','T')  for x in vacinados_por_dia['dia']]\r\n",
        "vacinados_por_dia['total_vacinados'] = vacinados_por_dia['total_vacinados'].fillna(value = 0).astype('int')\r\n",
        "#vacinados_por_dia['data_coleta'] = [str(x).replace(' ','T')  for x in vacinados_por_dia['data_coleta']]\r\n",
        "#vacinados_por_dia['datatime_coleta'] = [str(x).replace(' ','T') for x in vacinados_por_dia['datatime_coleta']]\r\n",
        "#vacinados_por_dia['data'] = vacinados_por_dia['data'].fillna(value = '2000-01-01')\r\n",
        "\r\n"
      ],
      "execution_count": null,
      "outputs": []
    },
    {
      "cell_type": "code",
      "metadata": {
        "colab": {
          "base_uri": "https://localhost:8080/"
        },
        "id": "wXYVK5eKPV4i",
        "outputId": "51735a4f-a1de-4fd0-eac2-b1cfe7aa7dae"
      },
      "source": [
        "vacinados_por_dia.dtypes"
      ],
      "execution_count": null,
      "outputs": [
        {
          "output_type": "execute_result",
          "data": {
            "text/plain": [
              "dia                object\n",
              "total_vacinados     int64\n",
              "dtype: object"
            ]
          },
          "metadata": {
            "tags": []
          },
          "execution_count": 20
        }
      ]
    },
    {
      "cell_type": "code",
      "metadata": {
        "colab": {
          "base_uri": "https://localhost:8080/"
        },
        "id": "5VOtsMpv6c02",
        "outputId": "f8297cac-2093-49ea-8ac3-01da6cb4465e"
      },
      "source": [
        "vacinados_por_dia.head()"
      ],
      "execution_count": null,
      "outputs": [
        {
          "output_type": "execute_result",
          "data": {
            "text/html": [
              "<div>\n",
              "<style scoped>\n",
              "    .dataframe tbody tr th:only-of-type {\n",
              "        vertical-align: middle;\n",
              "    }\n",
              "\n",
              "    .dataframe tbody tr th {\n",
              "        vertical-align: top;\n",
              "    }\n",
              "\n",
              "    .dataframe thead th {\n",
              "        text-align: right;\n",
              "    }\n",
              "</style>\n",
              "<table border=\"1\" class=\"dataframe\">\n",
              "  <thead>\n",
              "    <tr style=\"text-align: right;\">\n",
              "      <th></th>\n",
              "      <th>dia</th>\n",
              "      <th>total_vacinados</th>\n",
              "    </tr>\n",
              "  </thead>\n",
              "  <tbody>\n",
              "    <tr>\n",
              "      <th>0</th>\n",
              "      <td>2021-01-19T00:00:00</td>\n",
              "      <td>539</td>\n",
              "    </tr>\n",
              "    <tr>\n",
              "      <th>1</th>\n",
              "      <td>2021-01-20T00:00:00</td>\n",
              "      <td>4686</td>\n",
              "    </tr>\n",
              "    <tr>\n",
              "      <th>2</th>\n",
              "      <td>2021-01-22T00:00:00</td>\n",
              "      <td>423</td>\n",
              "    </tr>\n",
              "    <tr>\n",
              "      <th>3</th>\n",
              "      <td>2021-01-23T00:00:00</td>\n",
              "      <td>754</td>\n",
              "    </tr>\n",
              "    <tr>\n",
              "      <th>4</th>\n",
              "      <td>2021-01-24T00:00:00</td>\n",
              "      <td>41</td>\n",
              "    </tr>\n",
              "  </tbody>\n",
              "</table>\n",
              "</div>"
            ],
            "text/plain": [
              "                   dia  total_vacinados\n",
              "0  2021-01-19T00:00:00              539\n",
              "1  2021-01-20T00:00:00             4686\n",
              "2  2021-01-22T00:00:00              423\n",
              "3  2021-01-23T00:00:00              754\n",
              "4  2021-01-24T00:00:00               41"
            ]
          },
          "metadata": {
            "tags": []
          },
          "execution_count": 21
        }
      ]
    },
    {
      "cell_type": "code",
      "metadata": {
        "id": "BwXlY3WC6c03"
      },
      "source": [
        "vacinados_por_dia.to_json(f'covid_prefeitura_vacinados_por_dia.json',orient=\"records\")"
      ],
      "execution_count": null,
      "outputs": []
    },
    {
      "cell_type": "markdown",
      "metadata": {
        "id": "GruLTkHl3kWU"
      },
      "source": [
        "###**Por Local**"
      ]
    },
    {
      "cell_type": "code",
      "metadata": {
        "colab": {
          "base_uri": "https://localhost:8080/"
        },
        "id": "k9_FvW-B2Wzh",
        "outputId": "2f0bbf19-c546-47dd-9ffe-cb65ec877d72"
      },
      "source": [
        "vacinados_por_local.head()"
      ],
      "execution_count": null,
      "outputs": [
        {
          "output_type": "execute_result",
          "data": {
            "text/html": [
              "<div>\n",
              "<style scoped>\n",
              "    .dataframe tbody tr th:only-of-type {\n",
              "        vertical-align: middle;\n",
              "    }\n",
              "\n",
              "    .dataframe tbody tr th {\n",
              "        vertical-align: top;\n",
              "    }\n",
              "\n",
              "    .dataframe thead th {\n",
              "        text-align: right;\n",
              "    }\n",
              "</style>\n",
              "<table border=\"1\" class=\"dataframe\">\n",
              "  <thead>\n",
              "    <tr style=\"text-align: right;\">\n",
              "      <th></th>\n",
              "      <th>LOCAL</th>\n",
              "      <th>CATEGORIA</th>\n",
              "      <th>GRUPO</th>\n",
              "      <th>TOTAL</th>\n",
              "      <th>DATA COLETA</th>\n",
              "    </tr>\n",
              "  </thead>\n",
              "  <tbody>\n",
              "    <tr>\n",
              "      <th>0</th>\n",
              "      <td>LESTE - EM DOMICÍLIO</td>\n",
              "      <td>Faixa Etária</td>\n",
              "      <td>Pessoas de 70 a 74 anos</td>\n",
              "      <td>42</td>\n",
              "      <td>2021-02-21</td>\n",
              "    </tr>\n",
              "    <tr>\n",
              "      <th>1</th>\n",
              "      <td>LESTE - EM DOMICÍLIO</td>\n",
              "      <td>Faixa Etária</td>\n",
              "      <td>Pessoas de 65 a 69 anos</td>\n",
              "      <td>1</td>\n",
              "      <td>2021-02-21</td>\n",
              "    </tr>\n",
              "    <tr>\n",
              "      <th>2</th>\n",
              "      <td>LESTE - EM DOMICÍLIO</td>\n",
              "      <td>Trabalhadores de Saúde</td>\n",
              "      <td>Outros</td>\n",
              "      <td>1</td>\n",
              "      <td>2021-02-21</td>\n",
              "    </tr>\n",
              "    <tr>\n",
              "      <th>3</th>\n",
              "      <td>LESTE - EM DOMICÍLIO</td>\n",
              "      <td>Faixa Etária</td>\n",
              "      <td>Pessoas de 75 a 79 anos</td>\n",
              "      <td>45</td>\n",
              "      <td>2021-02-21</td>\n",
              "    </tr>\n",
              "    <tr>\n",
              "      <th>4</th>\n",
              "      <td>LESTE - EM DOMICÍLIO</td>\n",
              "      <td>Faixa Etária</td>\n",
              "      <td>Pessoas de 80 anos ou mais</td>\n",
              "      <td>99</td>\n",
              "      <td>2021-02-21</td>\n",
              "    </tr>\n",
              "  </tbody>\n",
              "</table>\n",
              "</div>"
            ],
            "text/plain": [
              "                  LOCAL               CATEGORIA  ... TOTAL  DATA COLETA\n",
              "0  LESTE - EM DOMICÍLIO            Faixa Etária  ...    42   2021-02-21\n",
              "1  LESTE - EM DOMICÍLIO            Faixa Etária  ...     1   2021-02-21\n",
              "2  LESTE - EM DOMICÍLIO  Trabalhadores de Saúde  ...     1   2021-02-21\n",
              "3  LESTE - EM DOMICÍLIO            Faixa Etária  ...    45   2021-02-21\n",
              "4  LESTE - EM DOMICÍLIO            Faixa Etária  ...    99   2021-02-21\n",
              "\n",
              "[5 rows x 5 columns]"
            ]
          },
          "metadata": {
            "tags": []
          },
          "execution_count": 23
        }
      ]
    },
    {
      "cell_type": "code",
      "metadata": {
        "id": "PaocX4J6yxbg"
      },
      "source": [
        "vacinados_por_local.columns = ['local', 'categoria', 'grupo', 'total','data_coleta']"
      ],
      "execution_count": null,
      "outputs": []
    },
    {
      "cell_type": "code",
      "metadata": {
        "colab": {
          "base_uri": "https://localhost:8080/"
        },
        "id": "WTtFwUHUyxbg",
        "outputId": "f0452623-2cef-49f6-edb1-39ff9e67f020"
      },
      "source": [
        "'''\r\n",
        "vacinados_por_local['datatime_coleta'] = time_stamp()\r\n",
        "\r\n",
        "vacinados_por_local['datatime_coleta'] = pd.to_datetime( vacinados_por_local['datatime_coleta'])\r\n",
        "# Coluna 'Data'\r\n",
        "vacinados_por_local['data'] = vacinados_por_local['datatime_coleta'].dt.strftime('%Y-%m-%d')\r\n",
        "# Coluna 'Hora'\r\n",
        "vacinados_por_local['hora'] = vacinados_por_local['datatime_coleta'].dt.strftime('%H:%M:%S')\r\n",
        "'''"
      ],
      "execution_count": null,
      "outputs": [
        {
          "output_type": "execute_result",
          "data": {
            "application/vnd.google.colaboratory.intrinsic+json": {
              "type": "string"
            },
            "text/plain": [
              "\"\\nvacinados_por_local['datatime_coleta'] = time_stamp()\\n\\nvacinados_por_local['datatime_coleta'] = pd.to_datetime( vacinados_por_local['datatime_coleta'])\\n# Coluna 'Data'\\nvacinados_por_local['data'] = vacinados_por_local['datatime_coleta'].dt.strftime('%Y-%m-%d')\\n# Coluna 'Hora'\\nvacinados_por_local['hora'] = vacinados_por_local['datatime_coleta'].dt.strftime('%H:%M:%S')\\n\""
            ]
          },
          "metadata": {
            "tags": []
          },
          "execution_count": 25
        }
      ]
    },
    {
      "cell_type": "code",
      "metadata": {
        "id": "-BZtMFkIyxbg"
      },
      "source": [
        "vacinados_por_local['local'] = vacinados_por_local['local'].fillna(value = 'Não Informado')\r\n",
        "vacinados_por_local['categoria'] = vacinados_por_local['categoria'].fillna(value = 'Não Informado')\r\n",
        "vacinados_por_local['grupo'] = vacinados_por_local['grupo'].fillna(value = 'Não Informado')\r\n",
        "vacinados_por_local['total'] = vacinados_por_local['total'].fillna(value = 0)\r\n",
        "\r\n"
      ],
      "execution_count": null,
      "outputs": []
    },
    {
      "cell_type": "code",
      "metadata": {
        "id": "FQ8hH2v5yxbg"
      },
      "source": [
        "vacinados_por_local['local'] = vacinados_por_local['local'].astype('str')\r\n",
        "vacinados_por_local['categoria'] = vacinados_por_local['categoria'].astype('str')\r\n",
        "vacinados_por_local['grupo'] = vacinados_por_local['grupo'].astype('str')\r\n",
        "vacinados_por_local['total'] = vacinados_por_local['total'].astype('int')\r\n",
        "vacinados_por_local['data_coleta'] = [str(x).replace(' ','T')  for x in vacinados_por_local['data_coleta']]\r\n"
      ],
      "execution_count": null,
      "outputs": []
    },
    {
      "cell_type": "code",
      "metadata": {
        "colab": {
          "base_uri": "https://localhost:8080/"
        },
        "id": "2WrrWiI8PmMW",
        "outputId": "72c93577-1b35-4c1d-96ca-01161a0be2da"
      },
      "source": [
        "vacinados_por_local.dtypes"
      ],
      "execution_count": null,
      "outputs": [
        {
          "output_type": "execute_result",
          "data": {
            "text/plain": [
              "local          object\n",
              "categoria      object\n",
              "grupo          object\n",
              "total           int64\n",
              "data_coleta    object\n",
              "dtype: object"
            ]
          },
          "metadata": {
            "tags": []
          },
          "execution_count": 28
        }
      ]
    },
    {
      "cell_type": "code",
      "metadata": {
        "colab": {
          "base_uri": "https://localhost:8080/"
        },
        "id": "LKoZusGeyxbh",
        "outputId": "f73b4ee8-30e6-4bbc-908a-74d9ed02dab0"
      },
      "source": [
        "vacinados_por_local.head()"
      ],
      "execution_count": null,
      "outputs": [
        {
          "output_type": "execute_result",
          "data": {
            "text/html": [
              "<div>\n",
              "<style scoped>\n",
              "    .dataframe tbody tr th:only-of-type {\n",
              "        vertical-align: middle;\n",
              "    }\n",
              "\n",
              "    .dataframe tbody tr th {\n",
              "        vertical-align: top;\n",
              "    }\n",
              "\n",
              "    .dataframe thead th {\n",
              "        text-align: right;\n",
              "    }\n",
              "</style>\n",
              "<table border=\"1\" class=\"dataframe\">\n",
              "  <thead>\n",
              "    <tr style=\"text-align: right;\">\n",
              "      <th></th>\n",
              "      <th>local</th>\n",
              "      <th>categoria</th>\n",
              "      <th>grupo</th>\n",
              "      <th>total</th>\n",
              "      <th>data_coleta</th>\n",
              "    </tr>\n",
              "  </thead>\n",
              "  <tbody>\n",
              "    <tr>\n",
              "      <th>0</th>\n",
              "      <td>LESTE - EM DOMICÍLIO</td>\n",
              "      <td>Faixa Etária</td>\n",
              "      <td>Pessoas de 70 a 74 anos</td>\n",
              "      <td>42</td>\n",
              "      <td>2021-02-21T00:00:00</td>\n",
              "    </tr>\n",
              "    <tr>\n",
              "      <th>1</th>\n",
              "      <td>LESTE - EM DOMICÍLIO</td>\n",
              "      <td>Faixa Etária</td>\n",
              "      <td>Pessoas de 65 a 69 anos</td>\n",
              "      <td>1</td>\n",
              "      <td>2021-02-21T00:00:00</td>\n",
              "    </tr>\n",
              "    <tr>\n",
              "      <th>2</th>\n",
              "      <td>LESTE - EM DOMICÍLIO</td>\n",
              "      <td>Trabalhadores de Saúde</td>\n",
              "      <td>Outros</td>\n",
              "      <td>1</td>\n",
              "      <td>2021-02-21T00:00:00</td>\n",
              "    </tr>\n",
              "    <tr>\n",
              "      <th>3</th>\n",
              "      <td>LESTE - EM DOMICÍLIO</td>\n",
              "      <td>Faixa Etária</td>\n",
              "      <td>Pessoas de 75 a 79 anos</td>\n",
              "      <td>45</td>\n",
              "      <td>2021-02-21T00:00:00</td>\n",
              "    </tr>\n",
              "    <tr>\n",
              "      <th>4</th>\n",
              "      <td>LESTE - EM DOMICÍLIO</td>\n",
              "      <td>Faixa Etária</td>\n",
              "      <td>Pessoas de 80 anos ou mais</td>\n",
              "      <td>99</td>\n",
              "      <td>2021-02-21T00:00:00</td>\n",
              "    </tr>\n",
              "  </tbody>\n",
              "</table>\n",
              "</div>"
            ],
            "text/plain": [
              "                  local               categoria  ... total          data_coleta\n",
              "0  LESTE - EM DOMICÍLIO            Faixa Etária  ...    42  2021-02-21T00:00:00\n",
              "1  LESTE - EM DOMICÍLIO            Faixa Etária  ...     1  2021-02-21T00:00:00\n",
              "2  LESTE - EM DOMICÍLIO  Trabalhadores de Saúde  ...     1  2021-02-21T00:00:00\n",
              "3  LESTE - EM DOMICÍLIO            Faixa Etária  ...    45  2021-02-21T00:00:00\n",
              "4  LESTE - EM DOMICÍLIO            Faixa Etária  ...    99  2021-02-21T00:00:00\n",
              "\n",
              "[5 rows x 5 columns]"
            ]
          },
          "metadata": {
            "tags": []
          },
          "execution_count": 29
        }
      ]
    },
    {
      "cell_type": "code",
      "metadata": {
        "id": "rW-EdyNdyxbh"
      },
      "source": [
        "vacinados_por_local.to_json(f'covid_prefeitura_vacinados_por_local.json',orient=\"records\")"
      ],
      "execution_count": null,
      "outputs": []
    },
    {
      "cell_type": "markdown",
      "metadata": {
        "id": "AEPXTlkK5mgR"
      },
      "source": [
        "###**Totais**"
      ]
    },
    {
      "cell_type": "code",
      "metadata": {
        "colab": {
          "base_uri": "https://localhost:8080/"
        },
        "id": "QXBtmUnp5mgS",
        "outputId": "7e2c029a-42ab-46f2-819c-4b72ce86e7da"
      },
      "source": [
        "vacinados_totais.head()"
      ],
      "execution_count": null,
      "outputs": [
        {
          "output_type": "execute_result",
          "data": {
            "text/html": [
              "<div>\n",
              "<style scoped>\n",
              "    .dataframe tbody tr th:only-of-type {\n",
              "        vertical-align: middle;\n",
              "    }\n",
              "\n",
              "    .dataframe tbody tr th {\n",
              "        vertical-align: top;\n",
              "    }\n",
              "\n",
              "    .dataframe thead th {\n",
              "        text-align: right;\n",
              "    }\n",
              "</style>\n",
              "<table border=\"1\" class=\"dataframe\">\n",
              "  <thead>\n",
              "    <tr style=\"text-align: right;\">\n",
              "      <th></th>\n",
              "      <th>TIPO</th>\n",
              "      <th>TOTAL</th>\n",
              "      <th>DATA COLETA</th>\n",
              "    </tr>\n",
              "  </thead>\n",
              "  <tbody>\n",
              "    <tr>\n",
              "      <th>0</th>\n",
              "      <td>TOTAL DE VACINADOS</td>\n",
              "      <td>121453</td>\n",
              "      <td>2021-02-21</td>\n",
              "    </tr>\n",
              "    <tr>\n",
              "      <th>1</th>\n",
              "      <td>LOCAIS VACINADOS</td>\n",
              "      <td>97</td>\n",
              "      <td>2021-02-21</td>\n",
              "    </tr>\n",
              "    <tr>\n",
              "      <th>2</th>\n",
              "      <td>TRABALHADORES DE SAÚDE</td>\n",
              "      <td>55183</td>\n",
              "      <td>2021-02-21</td>\n",
              "    </tr>\n",
              "    <tr>\n",
              "      <th>3</th>\n",
              "      <td>VACINADOS 1º DOSE</td>\n",
              "      <td>113953</td>\n",
              "      <td>2021-02-21</td>\n",
              "    </tr>\n",
              "    <tr>\n",
              "      <th>4</th>\n",
              "      <td>VACINADOS 2º DOSE</td>\n",
              "      <td>7500</td>\n",
              "      <td>2021-02-21</td>\n",
              "    </tr>\n",
              "  </tbody>\n",
              "</table>\n",
              "</div>"
            ],
            "text/plain": [
              "                     TIPO   TOTAL DATA COLETA\n",
              "0     TOTAL DE VACINADOS   121453  2021-02-21\n",
              "1        LOCAIS VACINADOS      97  2021-02-21\n",
              "2  TRABALHADORES DE SAÚDE   55183  2021-02-21\n",
              "3       VACINADOS 1º DOSE  113953  2021-02-21\n",
              "4       VACINADOS 2º DOSE    7500  2021-02-21"
            ]
          },
          "metadata": {
            "tags": []
          },
          "execution_count": 31
        }
      ]
    },
    {
      "cell_type": "code",
      "metadata": {
        "id": "VUzhYXdo5mgU"
      },
      "source": [
        "vacinados_totais.columns = ['tipo', 'total','data_coleta']"
      ],
      "execution_count": null,
      "outputs": []
    },
    {
      "cell_type": "code",
      "metadata": {
        "colab": {
          "base_uri": "https://localhost:8080/"
        },
        "id": "9u11QYcP5mgU",
        "outputId": "4687eda5-9f87-4802-f7f6-ffa26eeff165"
      },
      "source": [
        "'''\r\n",
        "vacinados_totais['datatime_coleta'] = time_stamp()\r\n",
        "\r\n",
        "vacinados_totais['datatime_coleta'] = pd.to_datetime( casos_municipios['datatime_coleta'])\r\n",
        "# Coluna 'Data'\r\n",
        "vacinados_totais['data'] = casos_municipios['datatime_coleta'].dt.strftime('%Y-%m-%d')\r\n",
        "# Coluna 'Hora'\r\n",
        "vacinados_totais['hora'] = casos_municipios['datatime_coleta'].dt.strftime('%H:%M:%S')\r\n",
        "'''"
      ],
      "execution_count": null,
      "outputs": [
        {
          "output_type": "execute_result",
          "data": {
            "application/vnd.google.colaboratory.intrinsic+json": {
              "type": "string"
            },
            "text/plain": [
              "\"\\nvacinados_totais['datatime_coleta'] = time_stamp()\\n\\nvacinados_totais['datatime_coleta'] = pd.to_datetime( casos_municipios['datatime_coleta'])\\n# Coluna 'Data'\\nvacinados_totais['data'] = casos_municipios['datatime_coleta'].dt.strftime('%Y-%m-%d')\\n# Coluna 'Hora'\\nvacinados_totais['hora'] = casos_municipios['datatime_coleta'].dt.strftime('%H:%M:%S')\\n\""
            ]
          },
          "metadata": {
            "tags": []
          },
          "execution_count": 33
        }
      ]
    },
    {
      "cell_type": "code",
      "metadata": {
        "id": "0imMAb8t5mgU"
      },
      "source": [
        "vacinados_totais['tipo'] = vacinados_totais['tipo'].fillna(value = 'Não Informado').astype('str')\r\n",
        "vacinados_totais['total'] = vacinados_totais['total'].fillna(value = 0).astype('int')\r\n",
        "vacinados_totais['data_coleta'] = [str(x).replace(' ','T')  for x in vacinados_totais['data_coleta']]\r\n",
        "\r\n"
      ],
      "execution_count": null,
      "outputs": []
    },
    {
      "cell_type": "code",
      "metadata": {
        "colab": {
          "base_uri": "https://localhost:8080/"
        },
        "id": "FHl8-f_-PtQw",
        "outputId": "5130fed7-6707-42b3-d23e-724818db8af7"
      },
      "source": [
        "vacinados_totais.dtypes"
      ],
      "execution_count": null,
      "outputs": [
        {
          "output_type": "execute_result",
          "data": {
            "text/plain": [
              "tipo           object\n",
              "total           int64\n",
              "data_coleta    object\n",
              "dtype: object"
            ]
          },
          "metadata": {
            "tags": []
          },
          "execution_count": 35
        }
      ]
    },
    {
      "cell_type": "code",
      "metadata": {
        "colab": {
          "base_uri": "https://localhost:8080/"
        },
        "id": "ex95S_gK5mgV",
        "outputId": "7e2440ba-c8eb-4c67-c38c-e069cf44888a"
      },
      "source": [
        "vacinados_totais.head()"
      ],
      "execution_count": null,
      "outputs": [
        {
          "output_type": "execute_result",
          "data": {
            "text/html": [
              "<div>\n",
              "<style scoped>\n",
              "    .dataframe tbody tr th:only-of-type {\n",
              "        vertical-align: middle;\n",
              "    }\n",
              "\n",
              "    .dataframe tbody tr th {\n",
              "        vertical-align: top;\n",
              "    }\n",
              "\n",
              "    .dataframe thead th {\n",
              "        text-align: right;\n",
              "    }\n",
              "</style>\n",
              "<table border=\"1\" class=\"dataframe\">\n",
              "  <thead>\n",
              "    <tr style=\"text-align: right;\">\n",
              "      <th></th>\n",
              "      <th>tipo</th>\n",
              "      <th>total</th>\n",
              "      <th>data_coleta</th>\n",
              "    </tr>\n",
              "  </thead>\n",
              "  <tbody>\n",
              "    <tr>\n",
              "      <th>0</th>\n",
              "      <td>TOTAL DE VACINADOS</td>\n",
              "      <td>121453</td>\n",
              "      <td>2021-02-21T00:00:00</td>\n",
              "    </tr>\n",
              "    <tr>\n",
              "      <th>1</th>\n",
              "      <td>LOCAIS VACINADOS</td>\n",
              "      <td>97</td>\n",
              "      <td>2021-02-21T00:00:00</td>\n",
              "    </tr>\n",
              "    <tr>\n",
              "      <th>2</th>\n",
              "      <td>TRABALHADORES DE SAÚDE</td>\n",
              "      <td>55183</td>\n",
              "      <td>2021-02-21T00:00:00</td>\n",
              "    </tr>\n",
              "    <tr>\n",
              "      <th>3</th>\n",
              "      <td>VACINADOS 1º DOSE</td>\n",
              "      <td>113953</td>\n",
              "      <td>2021-02-21T00:00:00</td>\n",
              "    </tr>\n",
              "    <tr>\n",
              "      <th>4</th>\n",
              "      <td>VACINADOS 2º DOSE</td>\n",
              "      <td>7500</td>\n",
              "      <td>2021-02-21T00:00:00</td>\n",
              "    </tr>\n",
              "  </tbody>\n",
              "</table>\n",
              "</div>"
            ],
            "text/plain": [
              "                     tipo   total          data_coleta\n",
              "0     TOTAL DE VACINADOS   121453  2021-02-21T00:00:00\n",
              "1        LOCAIS VACINADOS      97  2021-02-21T00:00:00\n",
              "2  TRABALHADORES DE SAÚDE   55183  2021-02-21T00:00:00\n",
              "3       VACINADOS 1º DOSE  113953  2021-02-21T00:00:00\n",
              "4       VACINADOS 2º DOSE    7500  2021-02-21T00:00:00"
            ]
          },
          "metadata": {
            "tags": []
          },
          "execution_count": 36
        }
      ]
    },
    {
      "cell_type": "code",
      "metadata": {
        "id": "fpLYbg0-5mgW"
      },
      "source": [
        "vacinados_totais.to_json(f'covid_prefeitura_vacinados_totais.json',orient=\"records\")"
      ],
      "execution_count": null,
      "outputs": []
    },
    {
      "cell_type": "markdown",
      "metadata": {
        "id": "eEvnamR-JHyU"
      },
      "source": [
        "##**Sepultamentos**"
      ]
    },
    {
      "cell_type": "code",
      "metadata": {
        "colab": {
          "base_uri": "https://localhost:8080/"
        },
        "id": "U3aHyW5VJGt6",
        "outputId": "1116fc74-824e-473a-d43a-c5b47967866b"
      },
      "source": [
        "sepultamentos.head()"
      ],
      "execution_count": null,
      "outputs": [
        {
          "output_type": "execute_result",
          "data": {
            "text/html": [
              "<div>\n",
              "<style scoped>\n",
              "    .dataframe tbody tr th:only-of-type {\n",
              "        vertical-align: middle;\n",
              "    }\n",
              "\n",
              "    .dataframe tbody tr th {\n",
              "        vertical-align: top;\n",
              "    }\n",
              "\n",
              "    .dataframe thead th {\n",
              "        text-align: right;\n",
              "    }\n",
              "</style>\n",
              "<table border=\"1\" class=\"dataframe\">\n",
              "  <thead>\n",
              "    <tr style=\"text-align: right;\">\n",
              "      <th></th>\n",
              "      <th>REDE PUBLICA</th>\n",
              "      <th>PARTICULAR</th>\n",
              "      <th>TOTAL</th>\n",
              "      <th>DATA</th>\n",
              "    </tr>\n",
              "  </thead>\n",
              "  <tbody>\n",
              "    <tr>\n",
              "      <th>0</th>\n",
              "      <td>46</td>\n",
              "      <td>12</td>\n",
              "      <td>58</td>\n",
              "      <td>2021-01-01</td>\n",
              "    </tr>\n",
              "    <tr>\n",
              "      <th>1</th>\n",
              "      <td>66</td>\n",
              "      <td>10</td>\n",
              "      <td>76</td>\n",
              "      <td>2021-01-02</td>\n",
              "    </tr>\n",
              "    <tr>\n",
              "      <th>2</th>\n",
              "      <td>50</td>\n",
              "      <td>22</td>\n",
              "      <td>72</td>\n",
              "      <td>2021-01-03</td>\n",
              "    </tr>\n",
              "    <tr>\n",
              "      <th>3</th>\n",
              "      <td>52</td>\n",
              "      <td>14</td>\n",
              "      <td>66</td>\n",
              "      <td>2021-01-04</td>\n",
              "    </tr>\n",
              "    <tr>\n",
              "      <th>4</th>\n",
              "      <td>72</td>\n",
              "      <td>19</td>\n",
              "      <td>91</td>\n",
              "      <td>2021-01-05</td>\n",
              "    </tr>\n",
              "  </tbody>\n",
              "</table>\n",
              "</div>"
            ],
            "text/plain": [
              "   REDE PUBLICA  PARTICULAR  TOTAL       DATA\n",
              "0            46          12     58 2021-01-01\n",
              "1            66          10     76 2021-01-02\n",
              "2            50          22     72 2021-01-03\n",
              "3            52          14     66 2021-01-04\n",
              "4            72          19     91 2021-01-05"
            ]
          },
          "metadata": {
            "tags": []
          },
          "execution_count": 38
        }
      ]
    },
    {
      "cell_type": "code",
      "metadata": {
        "id": "wNViWKraZ7Zx"
      },
      "source": [
        "sepultamentos.columns = ['rede_publica', 'particular', 'total','data_coleta']"
      ],
      "execution_count": null,
      "outputs": []
    },
    {
      "cell_type": "code",
      "metadata": {
        "id": "6m7amhP8aNGZ"
      },
      "source": [
        "sepultamentos['rede_publica'] = sepultamentos['rede_publica'].astype('int')\r\n",
        "sepultamentos['particular'] = sepultamentos['particular'].astype('int')\r\n",
        "sepultamentos['total'] = sepultamentos['total'].astype('int')\r\n",
        "sepultamentos['data_coleta'] = [str(x).replace(' ','T')  for x in sepultamentos['data_coleta']]"
      ],
      "execution_count": null,
      "outputs": []
    },
    {
      "cell_type": "code",
      "metadata": {
        "colab": {
          "base_uri": "https://localhost:8080/"
        },
        "id": "eS983XHBahVh",
        "outputId": "5a995973-9508-4764-c237-b7bcba1a1687"
      },
      "source": [
        "sepultamentos.dtypes"
      ],
      "execution_count": null,
      "outputs": [
        {
          "output_type": "execute_result",
          "data": {
            "text/plain": [
              "rede_publica     int64\n",
              "particular       int64\n",
              "total            int64\n",
              "data_coleta     object\n",
              "dtype: object"
            ]
          },
          "metadata": {
            "tags": []
          },
          "execution_count": 41
        }
      ]
    },
    {
      "cell_type": "code",
      "metadata": {
        "colab": {
          "base_uri": "https://localhost:8080/"
        },
        "id": "JkY-NJ39aj5r",
        "outputId": "990b76d3-d63b-4174-d19a-bc2a509d7885"
      },
      "source": [
        "sepultamentos.head()"
      ],
      "execution_count": null,
      "outputs": [
        {
          "output_type": "execute_result",
          "data": {
            "text/html": [
              "<div>\n",
              "<style scoped>\n",
              "    .dataframe tbody tr th:only-of-type {\n",
              "        vertical-align: middle;\n",
              "    }\n",
              "\n",
              "    .dataframe tbody tr th {\n",
              "        vertical-align: top;\n",
              "    }\n",
              "\n",
              "    .dataframe thead th {\n",
              "        text-align: right;\n",
              "    }\n",
              "</style>\n",
              "<table border=\"1\" class=\"dataframe\">\n",
              "  <thead>\n",
              "    <tr style=\"text-align: right;\">\n",
              "      <th></th>\n",
              "      <th>rede_publica</th>\n",
              "      <th>particular</th>\n",
              "      <th>total</th>\n",
              "      <th>data_coleta</th>\n",
              "    </tr>\n",
              "  </thead>\n",
              "  <tbody>\n",
              "    <tr>\n",
              "      <th>0</th>\n",
              "      <td>46</td>\n",
              "      <td>12</td>\n",
              "      <td>58</td>\n",
              "      <td>2021-01-01T00:00:00</td>\n",
              "    </tr>\n",
              "    <tr>\n",
              "      <th>1</th>\n",
              "      <td>66</td>\n",
              "      <td>10</td>\n",
              "      <td>76</td>\n",
              "      <td>2021-01-02T00:00:00</td>\n",
              "    </tr>\n",
              "    <tr>\n",
              "      <th>2</th>\n",
              "      <td>50</td>\n",
              "      <td>22</td>\n",
              "      <td>72</td>\n",
              "      <td>2021-01-03T00:00:00</td>\n",
              "    </tr>\n",
              "    <tr>\n",
              "      <th>3</th>\n",
              "      <td>52</td>\n",
              "      <td>14</td>\n",
              "      <td>66</td>\n",
              "      <td>2021-01-04T00:00:00</td>\n",
              "    </tr>\n",
              "    <tr>\n",
              "      <th>4</th>\n",
              "      <td>72</td>\n",
              "      <td>19</td>\n",
              "      <td>91</td>\n",
              "      <td>2021-01-05T00:00:00</td>\n",
              "    </tr>\n",
              "  </tbody>\n",
              "</table>\n",
              "</div>"
            ],
            "text/plain": [
              "   rede_publica  particular  total          data_coleta\n",
              "0            46          12     58  2021-01-01T00:00:00\n",
              "1            66          10     76  2021-01-02T00:00:00\n",
              "2            50          22     72  2021-01-03T00:00:00\n",
              "3            52          14     66  2021-01-04T00:00:00\n",
              "4            72          19     91  2021-01-05T00:00:00"
            ]
          },
          "metadata": {
            "tags": []
          },
          "execution_count": 42
        }
      ]
    },
    {
      "cell_type": "code",
      "metadata": {
        "id": "reUtCHcEcahQ"
      },
      "source": [
        "sepultamentos.columns = ['REDE PUBLICA', 'PARTICULAR', 'TOTAL','data_coleta']"
      ],
      "execution_count": null,
      "outputs": []
    },
    {
      "cell_type": "code",
      "metadata": {
        "id": "uDC78RjranLu"
      },
      "source": [
        "sepultamentos.to_json(f'covid_numero_sepultamentos_por_rede.json',orient=\"records\")"
      ],
      "execution_count": null,
      "outputs": []
    },
    {
      "cell_type": "markdown",
      "metadata": {
        "id": "qPPadxUAA664"
      },
      "source": [
        "##**Leitos**"
      ]
    },
    {
      "cell_type": "markdown",
      "metadata": {
        "id": "Tq7cpQjHB1BM"
      },
      "source": [
        "###Leitos"
      ]
    },
    {
      "cell_type": "code",
      "metadata": {
        "colab": {
          "base_uri": "https://localhost:8080/"
        },
        "id": "kG2lDuRZA67A",
        "outputId": "67bacf44-873b-4580-d221-e8797a27d385"
      },
      "source": [
        "leitos.head()"
      ],
      "execution_count": null,
      "outputs": [
        {
          "output_type": "execute_result",
          "data": {
            "text/html": [
              "<div>\n",
              "<style scoped>\n",
              "    .dataframe tbody tr th:only-of-type {\n",
              "        vertical-align: middle;\n",
              "    }\n",
              "\n",
              "    .dataframe tbody tr th {\n",
              "        vertical-align: top;\n",
              "    }\n",
              "\n",
              "    .dataframe thead th {\n",
              "        text-align: right;\n",
              "    }\n",
              "</style>\n",
              "<table border=\"1\" class=\"dataframe\">\n",
              "  <thead>\n",
              "    <tr style=\"text-align: right;\">\n",
              "      <th></th>\n",
              "      <th>REDE</th>\n",
              "      <th>CATEGORIA</th>\n",
              "      <th>TOTAL</th>\n",
              "      <th>PACIENTES ATE 20 DIAS</th>\n",
              "      <th>PACIENTES ACIMA DE 20 DIAS</th>\n",
              "      <th>TIPO DE LEITO</th>\n",
              "      <th>CATEGORIA DE PACIENTE</th>\n",
              "      <th>DATA COLETA</th>\n",
              "    </tr>\n",
              "  </thead>\n",
              "  <tbody>\n",
              "    <tr>\n",
              "      <th>0</th>\n",
              "      <td>REDE PUBLICA</td>\n",
              "      <td>GERAL</td>\n",
              "      <td>290</td>\n",
              "      <td>201</td>\n",
              "      <td>89</td>\n",
              "      <td>UTI</td>\n",
              "      <td>CONFIRMADOS</td>\n",
              "      <td>2021-02-21</td>\n",
              "    </tr>\n",
              "    <tr>\n",
              "      <th>1</th>\n",
              "      <td>REDE PUBLICA</td>\n",
              "      <td>GERAL</td>\n",
              "      <td>538</td>\n",
              "      <td>410</td>\n",
              "      <td>128</td>\n",
              "      <td>CLINICO</td>\n",
              "      <td>CONFIRMADOS</td>\n",
              "      <td>2021-02-21</td>\n",
              "    </tr>\n",
              "    <tr>\n",
              "      <th>2</th>\n",
              "      <td>REDE PUBLICA</td>\n",
              "      <td>GERAL</td>\n",
              "      <td>14</td>\n",
              "      <td>0</td>\n",
              "      <td>0</td>\n",
              "      <td>SALA VERMELHA</td>\n",
              "      <td>CONFIRMADOS</td>\n",
              "      <td>2021-02-21</td>\n",
              "    </tr>\n",
              "    <tr>\n",
              "      <th>3</th>\n",
              "      <td>REDE PUBLICA</td>\n",
              "      <td>GESTANTE</td>\n",
              "      <td>13</td>\n",
              "      <td>13</td>\n",
              "      <td>0</td>\n",
              "      <td>UTI</td>\n",
              "      <td>CONFIRMADOS</td>\n",
              "      <td>2021-02-21</td>\n",
              "    </tr>\n",
              "    <tr>\n",
              "      <th>4</th>\n",
              "      <td>REDE PUBLICA</td>\n",
              "      <td>GESTANTE</td>\n",
              "      <td>20</td>\n",
              "      <td>20</td>\n",
              "      <td>0</td>\n",
              "      <td>CLINICO</td>\n",
              "      <td>CONFIRMADOS</td>\n",
              "      <td>2021-02-21</td>\n",
              "    </tr>\n",
              "  </tbody>\n",
              "</table>\n",
              "</div>"
            ],
            "text/plain": [
              "           REDE CATEGORIA  ...  CATEGORIA DE PACIENTE  DATA COLETA\n",
              "0  REDE PUBLICA     GERAL  ...           CONFIRMADOS    2021-02-21\n",
              "1  REDE PUBLICA     GERAL  ...           CONFIRMADOS    2021-02-21\n",
              "2  REDE PUBLICA     GERAL  ...           CONFIRMADOS    2021-02-21\n",
              "3  REDE PUBLICA  GESTANTE  ...           CONFIRMADOS    2021-02-21\n",
              "4  REDE PUBLICA  GESTANTE  ...           CONFIRMADOS    2021-02-21\n",
              "\n",
              "[5 rows x 8 columns]"
            ]
          },
          "metadata": {
            "tags": []
          },
          "execution_count": 45
        }
      ]
    },
    {
      "cell_type": "code",
      "metadata": {
        "id": "n2pVUTDnA67B"
      },
      "source": [
        "leitos.columns = ['rede', 'tipo_hospital', 'total','pacientes_ate_20_dias', 'pacientes_acima_20_dias','tipo_leito', 'situacao_caso', 'data_coleta']"
      ],
      "execution_count": null,
      "outputs": []
    },
    {
      "cell_type": "code",
      "metadata": {
        "id": "ViYLaHATHczI"
      },
      "source": [
        "leitos['tipo_hospital'] = leitos['tipo_hospital'].str.replace('GESTANTE','MATERNIDADE')"
      ],
      "execution_count": null,
      "outputs": []
    },
    {
      "cell_type": "code",
      "metadata": {
        "id": "GJwk8ngqA67B"
      },
      "source": [
        "leitos['rede'] = leitos['rede'].astype('str')\r\n",
        "leitos['tipo_hospital'] = leitos['tipo_hospital'].astype('str')\r\n",
        "leitos['total'] = leitos['total'].astype('int')\r\n",
        "leitos['pacientes_ate_20_dias'] = leitos['pacientes_ate_20_dias'].astype('int')\r\n",
        "leitos['pacientes_acima_20_dias'] = leitos['pacientes_acima_20_dias'].astype('int')\r\n",
        "leitos['tipo_leito'] = leitos['tipo_leito'].astype('str')\r\n",
        "leitos['situacao_caso'] = leitos['situacao_caso'].astype('str')\r\n",
        "leitos['data_coleta'] = [str(x).replace(' ','T')  for x in leitos['data_coleta']]"
      ],
      "execution_count": null,
      "outputs": []
    },
    {
      "cell_type": "code",
      "metadata": {
        "colab": {
          "base_uri": "https://localhost:8080/"
        },
        "id": "HodZC1ICA67C",
        "outputId": "397dcb0e-23c9-48e4-816f-fbbb70517555"
      },
      "source": [
        "leitos.dtypes"
      ],
      "execution_count": null,
      "outputs": [
        {
          "output_type": "execute_result",
          "data": {
            "text/plain": [
              "rede                       object\n",
              "tipo_hospital              object\n",
              "total                       int64\n",
              "pacientes_ate_20_dias       int64\n",
              "pacientes_acima_20_dias     int64\n",
              "tipo_leito                 object\n",
              "situacao_caso              object\n",
              "data_coleta                object\n",
              "dtype: object"
            ]
          },
          "metadata": {
            "tags": []
          },
          "execution_count": 49
        }
      ]
    },
    {
      "cell_type": "code",
      "metadata": {
        "colab": {
          "base_uri": "https://localhost:8080/"
        },
        "id": "gUboaFtLA67C",
        "outputId": "e914318e-6c1b-4534-d8d4-7a6c5a234b4f"
      },
      "source": [
        "leitos.head()"
      ],
      "execution_count": null,
      "outputs": [
        {
          "output_type": "execute_result",
          "data": {
            "text/html": [
              "<div>\n",
              "<style scoped>\n",
              "    .dataframe tbody tr th:only-of-type {\n",
              "        vertical-align: middle;\n",
              "    }\n",
              "\n",
              "    .dataframe tbody tr th {\n",
              "        vertical-align: top;\n",
              "    }\n",
              "\n",
              "    .dataframe thead th {\n",
              "        text-align: right;\n",
              "    }\n",
              "</style>\n",
              "<table border=\"1\" class=\"dataframe\">\n",
              "  <thead>\n",
              "    <tr style=\"text-align: right;\">\n",
              "      <th></th>\n",
              "      <th>rede</th>\n",
              "      <th>tipo_hospital</th>\n",
              "      <th>total</th>\n",
              "      <th>pacientes_ate_20_dias</th>\n",
              "      <th>pacientes_acima_20_dias</th>\n",
              "      <th>tipo_leito</th>\n",
              "      <th>situacao_caso</th>\n",
              "      <th>data_coleta</th>\n",
              "    </tr>\n",
              "  </thead>\n",
              "  <tbody>\n",
              "    <tr>\n",
              "      <th>0</th>\n",
              "      <td>REDE PUBLICA</td>\n",
              "      <td>GERAL</td>\n",
              "      <td>290</td>\n",
              "      <td>201</td>\n",
              "      <td>89</td>\n",
              "      <td>UTI</td>\n",
              "      <td>CONFIRMADOS</td>\n",
              "      <td>2021-02-21T00:00:00</td>\n",
              "    </tr>\n",
              "    <tr>\n",
              "      <th>1</th>\n",
              "      <td>REDE PUBLICA</td>\n",
              "      <td>GERAL</td>\n",
              "      <td>538</td>\n",
              "      <td>410</td>\n",
              "      <td>128</td>\n",
              "      <td>CLINICO</td>\n",
              "      <td>CONFIRMADOS</td>\n",
              "      <td>2021-02-21T00:00:00</td>\n",
              "    </tr>\n",
              "    <tr>\n",
              "      <th>2</th>\n",
              "      <td>REDE PUBLICA</td>\n",
              "      <td>GERAL</td>\n",
              "      <td>14</td>\n",
              "      <td>0</td>\n",
              "      <td>0</td>\n",
              "      <td>SALA VERMELHA</td>\n",
              "      <td>CONFIRMADOS</td>\n",
              "      <td>2021-02-21T00:00:00</td>\n",
              "    </tr>\n",
              "    <tr>\n",
              "      <th>3</th>\n",
              "      <td>REDE PUBLICA</td>\n",
              "      <td>MATERNIDADE</td>\n",
              "      <td>13</td>\n",
              "      <td>13</td>\n",
              "      <td>0</td>\n",
              "      <td>UTI</td>\n",
              "      <td>CONFIRMADOS</td>\n",
              "      <td>2021-02-21T00:00:00</td>\n",
              "    </tr>\n",
              "    <tr>\n",
              "      <th>4</th>\n",
              "      <td>REDE PUBLICA</td>\n",
              "      <td>MATERNIDADE</td>\n",
              "      <td>20</td>\n",
              "      <td>20</td>\n",
              "      <td>0</td>\n",
              "      <td>CLINICO</td>\n",
              "      <td>CONFIRMADOS</td>\n",
              "      <td>2021-02-21T00:00:00</td>\n",
              "    </tr>\n",
              "  </tbody>\n",
              "</table>\n",
              "</div>"
            ],
            "text/plain": [
              "           rede tipo_hospital  ...  situacao_caso          data_coleta\n",
              "0  REDE PUBLICA         GERAL  ...   CONFIRMADOS   2021-02-21T00:00:00\n",
              "1  REDE PUBLICA         GERAL  ...   CONFIRMADOS   2021-02-21T00:00:00\n",
              "2  REDE PUBLICA         GERAL  ...   CONFIRMADOS   2021-02-21T00:00:00\n",
              "3  REDE PUBLICA   MATERNIDADE  ...   CONFIRMADOS   2021-02-21T00:00:00\n",
              "4  REDE PUBLICA   MATERNIDADE  ...   CONFIRMADOS   2021-02-21T00:00:00\n",
              "\n",
              "[5 rows x 8 columns]"
            ]
          },
          "metadata": {
            "tags": []
          },
          "execution_count": 50
        }
      ]
    },
    {
      "cell_type": "code",
      "metadata": {
        "id": "ukckGN6EQjuz"
      },
      "source": [
        "leitos_privado = leitos[(leitos['rede']=='REDE PRIVADA')]"
      ],
      "execution_count": null,
      "outputs": []
    },
    {
      "cell_type": "code",
      "metadata": {
        "colab": {
          "base_uri": "https://localhost:8080/"
        },
        "id": "vVJtTORSQvkJ",
        "outputId": "caddf2f8-e936-45d0-db97-3a5e1d35ffeb"
      },
      "source": [
        "leitos_privado"
      ],
      "execution_count": null,
      "outputs": [
        {
          "output_type": "execute_result",
          "data": {
            "text/html": [
              "<div>\n",
              "<style scoped>\n",
              "    .dataframe tbody tr th:only-of-type {\n",
              "        vertical-align: middle;\n",
              "    }\n",
              "\n",
              "    .dataframe tbody tr th {\n",
              "        vertical-align: top;\n",
              "    }\n",
              "\n",
              "    .dataframe thead th {\n",
              "        text-align: right;\n",
              "    }\n",
              "</style>\n",
              "<table border=\"1\" class=\"dataframe\">\n",
              "  <thead>\n",
              "    <tr style=\"text-align: right;\">\n",
              "      <th></th>\n",
              "      <th>rede</th>\n",
              "      <th>tipo_hospital</th>\n",
              "      <th>total</th>\n",
              "      <th>pacientes_ate_20_dias</th>\n",
              "      <th>pacientes_acima_20_dias</th>\n",
              "      <th>tipo_leito</th>\n",
              "      <th>situacao_caso</th>\n",
              "      <th>data_coleta</th>\n",
              "    </tr>\n",
              "  </thead>\n",
              "  <tbody>\n",
              "    <tr>\n",
              "      <th>21</th>\n",
              "      <td>REDE PRIVADA</td>\n",
              "      <td>PRIVADO</td>\n",
              "      <td>192</td>\n",
              "      <td>174</td>\n",
              "      <td>18</td>\n",
              "      <td>UTI</td>\n",
              "      <td>CONFIRMADOS</td>\n",
              "      <td>2021-02-21T00:00:00</td>\n",
              "    </tr>\n",
              "    <tr>\n",
              "      <th>22</th>\n",
              "      <td>REDE PRIVADA</td>\n",
              "      <td>PRIVADO</td>\n",
              "      <td>188</td>\n",
              "      <td>176</td>\n",
              "      <td>12</td>\n",
              "      <td>CLINICO</td>\n",
              "      <td>CONFIRMADOS</td>\n",
              "      <td>2021-02-21T00:00:00</td>\n",
              "    </tr>\n",
              "    <tr>\n",
              "      <th>23</th>\n",
              "      <td>REDE PRIVADA</td>\n",
              "      <td>PRIVADO</td>\n",
              "      <td>0</td>\n",
              "      <td>0</td>\n",
              "      <td>0</td>\n",
              "      <td>SALA VERMELHA</td>\n",
              "      <td>CONFIRMADOS</td>\n",
              "      <td>2021-02-21T00:00:00</td>\n",
              "    </tr>\n",
              "    <tr>\n",
              "      <th>45</th>\n",
              "      <td>REDE PRIVADA</td>\n",
              "      <td>PRIVADO</td>\n",
              "      <td>26</td>\n",
              "      <td>26</td>\n",
              "      <td>0</td>\n",
              "      <td>UTI</td>\n",
              "      <td>SUSPEITOS</td>\n",
              "      <td>2021-02-21T00:00:00</td>\n",
              "    </tr>\n",
              "    <tr>\n",
              "      <th>46</th>\n",
              "      <td>REDE PRIVADA</td>\n",
              "      <td>PRIVADO</td>\n",
              "      <td>39</td>\n",
              "      <td>39</td>\n",
              "      <td>0</td>\n",
              "      <td>CLINICO</td>\n",
              "      <td>SUSPEITOS</td>\n",
              "      <td>2021-02-21T00:00:00</td>\n",
              "    </tr>\n",
              "    <tr>\n",
              "      <th>47</th>\n",
              "      <td>REDE PRIVADA</td>\n",
              "      <td>PRIVADO</td>\n",
              "      <td>4</td>\n",
              "      <td>0</td>\n",
              "      <td>0</td>\n",
              "      <td>SALA VERMELHA</td>\n",
              "      <td>SUSPEITOS</td>\n",
              "      <td>2021-02-21T00:00:00</td>\n",
              "    </tr>\n",
              "  </tbody>\n",
              "</table>\n",
              "</div>"
            ],
            "text/plain": [
              "            rede tipo_hospital  ...  situacao_caso          data_coleta\n",
              "21  REDE PRIVADA       PRIVADO  ...   CONFIRMADOS   2021-02-21T00:00:00\n",
              "22  REDE PRIVADA       PRIVADO  ...   CONFIRMADOS   2021-02-21T00:00:00\n",
              "23  REDE PRIVADA       PRIVADO  ...   CONFIRMADOS   2021-02-21T00:00:00\n",
              "45  REDE PRIVADA       PRIVADO  ...      SUSPEITOS  2021-02-21T00:00:00\n",
              "46  REDE PRIVADA       PRIVADO  ...      SUSPEITOS  2021-02-21T00:00:00\n",
              "47  REDE PRIVADA       PRIVADO  ...      SUSPEITOS  2021-02-21T00:00:00\n",
              "\n",
              "[6 rows x 8 columns]"
            ]
          },
          "metadata": {
            "tags": []
          },
          "execution_count": 52
        }
      ]
    },
    {
      "cell_type": "code",
      "metadata": {
        "id": "F_oSJCg_A67C"
      },
      "source": [
        "leitos.to_json(f'covid_fvs_leitos.json',orient=\"records\")"
      ],
      "execution_count": null,
      "outputs": []
    },
    {
      "cell_type": "markdown",
      "metadata": {
        "id": "fVlsudXJLbsG"
      },
      "source": [
        "###Taxa de Ocupação"
      ]
    },
    {
      "cell_type": "code",
      "metadata": {
        "colab": {
          "base_uri": "https://localhost:8080/",
          "height": 204
        },
        "id": "XpMC6hb8Lbsl",
        "outputId": "73f178ca-141a-4171-de0c-bbaefc895fb2"
      },
      "source": [
        "taxa_ocupacao.head()"
      ],
      "execution_count": null,
      "outputs": [
        {
          "output_type": "execute_result",
          "data": {
            "text/html": [
              "<div>\n",
              "<style scoped>\n",
              "    .dataframe tbody tr th:only-of-type {\n",
              "        vertical-align: middle;\n",
              "    }\n",
              "\n",
              "    .dataframe tbody tr th {\n",
              "        vertical-align: top;\n",
              "    }\n",
              "\n",
              "    .dataframe thead th {\n",
              "        text-align: right;\n",
              "    }\n",
              "</style>\n",
              "<table border=\"1\" class=\"dataframe\">\n",
              "  <thead>\n",
              "    <tr style=\"text-align: right;\">\n",
              "      <th></th>\n",
              "      <th>REDE</th>\n",
              "      <th>CATEGORIA</th>\n",
              "      <th>TAXA GERAL</th>\n",
              "      <th>TAXA COVID</th>\n",
              "      <th>TIPO DE LEITO</th>\n",
              "      <th>DATA COLETA</th>\n",
              "    </tr>\n",
              "  </thead>\n",
              "  <tbody>\n",
              "    <tr>\n",
              "      <th>0</th>\n",
              "      <td>REDE PUBLICA</td>\n",
              "      <td>GERAL</td>\n",
              "      <td>80.00</td>\n",
              "      <td>97.56</td>\n",
              "      <td>UTI</td>\n",
              "      <td>2021-02-21</td>\n",
              "    </tr>\n",
              "    <tr>\n",
              "      <th>1</th>\n",
              "      <td>REDE PUBLICA</td>\n",
              "      <td>GERAL</td>\n",
              "      <td>85.79</td>\n",
              "      <td>85.37</td>\n",
              "      <td>CLINICO</td>\n",
              "      <td>2021-02-21</td>\n",
              "    </tr>\n",
              "    <tr>\n",
              "      <th>2</th>\n",
              "      <td>REDE PUBLICA</td>\n",
              "      <td>GERAL</td>\n",
              "      <td>97.30</td>\n",
              "      <td>75.56</td>\n",
              "      <td>SALA VERMELHA</td>\n",
              "      <td>2021-02-21</td>\n",
              "    </tr>\n",
              "    <tr>\n",
              "      <th>3</th>\n",
              "      <td>REDE PUBLICA</td>\n",
              "      <td>GESTANTE</td>\n",
              "      <td>91.80</td>\n",
              "      <td>100.00</td>\n",
              "      <td>UTI</td>\n",
              "      <td>2021-02-21</td>\n",
              "    </tr>\n",
              "    <tr>\n",
              "      <th>4</th>\n",
              "      <td>REDE PUBLICA</td>\n",
              "      <td>GESTANTE</td>\n",
              "      <td>82.40</td>\n",
              "      <td>24.10</td>\n",
              "      <td>CLINICO</td>\n",
              "      <td>2021-02-21</td>\n",
              "    </tr>\n",
              "  </tbody>\n",
              "</table>\n",
              "</div>"
            ],
            "text/plain": [
              "           REDE CATEGORIA  TAXA GERAL  TAXA COVID  TIPO DE LEITO DATA COLETA\n",
              "0  REDE PUBLICA     GERAL       80.00       97.56            UTI  2021-02-21\n",
              "1  REDE PUBLICA     GERAL       85.79       85.37        CLINICO  2021-02-21\n",
              "2  REDE PUBLICA     GERAL       97.30       75.56  SALA VERMELHA  2021-02-21\n",
              "3  REDE PUBLICA  GESTANTE       91.80      100.00            UTI  2021-02-21\n",
              "4  REDE PUBLICA  GESTANTE       82.40       24.10        CLINICO  2021-02-21"
            ]
          },
          "metadata": {
            "tags": []
          },
          "execution_count": 54
        }
      ]
    },
    {
      "cell_type": "code",
      "metadata": {
        "id": "nNa06sbxLbso"
      },
      "source": [
        "taxa_ocupacao.columns = ['rede', 'tipo_hospital', 'taxa_geral','taxa_covid', 'tipo_leito','data_coleta']"
      ],
      "execution_count": null,
      "outputs": []
    },
    {
      "cell_type": "code",
      "metadata": {
        "id": "ZWOzu7XSHvh8"
      },
      "source": [
        "taxa_ocupacao['tipo_hospital'] = taxa_ocupacao['tipo_hospital'].str.replace('GESTANTE','MATERNIDADE')"
      ],
      "execution_count": null,
      "outputs": []
    },
    {
      "cell_type": "code",
      "metadata": {
        "id": "ac8AeHO-Lbsp"
      },
      "source": [
        "taxa_ocupacao['rede'] = taxa_ocupacao['rede'].astype('str')\r\n",
        "taxa_ocupacao['tipo_hospital'] = taxa_ocupacao['tipo_hospital'].astype('str')\r\n",
        "taxa_ocupacao['taxa_geral'] = taxa_ocupacao['taxa_geral'].astype('float')\r\n",
        "taxa_ocupacao['taxa_covid'] = taxa_ocupacao['taxa_covid'].astype('float')\r\n",
        "taxa_ocupacao['tipo_leito'] = taxa_ocupacao['tipo_leito'].astype('str')\r\n",
        "taxa_ocupacao['data_coleta'] = [str(x).replace(' ','T')  for x in taxa_ocupacao['data_coleta']]"
      ],
      "execution_count": null,
      "outputs": []
    },
    {
      "cell_type": "code",
      "metadata": {
        "colab": {
          "base_uri": "https://localhost:8080/"
        },
        "id": "mc0XSJ0kLbsq",
        "outputId": "624bbe1f-957d-47b4-a5e7-b4bf08ce3174"
      },
      "source": [
        "taxa_ocupacao.dtypes"
      ],
      "execution_count": null,
      "outputs": [
        {
          "output_type": "execute_result",
          "data": {
            "text/plain": [
              "rede              object\n",
              "tipo_hospital     object\n",
              "taxa_geral       float64\n",
              "taxa_covid       float64\n",
              "tipo_leito        object\n",
              "data_coleta       object\n",
              "dtype: object"
            ]
          },
          "metadata": {
            "tags": []
          },
          "execution_count": 58
        }
      ]
    },
    {
      "cell_type": "code",
      "metadata": {
        "colab": {
          "base_uri": "https://localhost:8080/",
          "height": 204
        },
        "id": "ZAboQ7xXLbsr",
        "outputId": "1f8d7280-a382-4667-df84-7b6b300629f9"
      },
      "source": [
        "taxa_ocupacao.head()"
      ],
      "execution_count": null,
      "outputs": [
        {
          "output_type": "execute_result",
          "data": {
            "text/html": [
              "<div>\n",
              "<style scoped>\n",
              "    .dataframe tbody tr th:only-of-type {\n",
              "        vertical-align: middle;\n",
              "    }\n",
              "\n",
              "    .dataframe tbody tr th {\n",
              "        vertical-align: top;\n",
              "    }\n",
              "\n",
              "    .dataframe thead th {\n",
              "        text-align: right;\n",
              "    }\n",
              "</style>\n",
              "<table border=\"1\" class=\"dataframe\">\n",
              "  <thead>\n",
              "    <tr style=\"text-align: right;\">\n",
              "      <th></th>\n",
              "      <th>rede</th>\n",
              "      <th>tipo_hospital</th>\n",
              "      <th>taxa_geral</th>\n",
              "      <th>taxa_covid</th>\n",
              "      <th>tipo_leito</th>\n",
              "      <th>data_coleta</th>\n",
              "    </tr>\n",
              "  </thead>\n",
              "  <tbody>\n",
              "    <tr>\n",
              "      <th>0</th>\n",
              "      <td>REDE PUBLICA</td>\n",
              "      <td>GERAL</td>\n",
              "      <td>80.00</td>\n",
              "      <td>97.56</td>\n",
              "      <td>UTI</td>\n",
              "      <td>2021-02-21T00:00:00</td>\n",
              "    </tr>\n",
              "    <tr>\n",
              "      <th>1</th>\n",
              "      <td>REDE PUBLICA</td>\n",
              "      <td>GERAL</td>\n",
              "      <td>85.79</td>\n",
              "      <td>85.37</td>\n",
              "      <td>CLINICO</td>\n",
              "      <td>2021-02-21T00:00:00</td>\n",
              "    </tr>\n",
              "    <tr>\n",
              "      <th>2</th>\n",
              "      <td>REDE PUBLICA</td>\n",
              "      <td>GERAL</td>\n",
              "      <td>97.30</td>\n",
              "      <td>75.56</td>\n",
              "      <td>SALA VERMELHA</td>\n",
              "      <td>2021-02-21T00:00:00</td>\n",
              "    </tr>\n",
              "    <tr>\n",
              "      <th>3</th>\n",
              "      <td>REDE PUBLICA</td>\n",
              "      <td>MATERNIDADE</td>\n",
              "      <td>91.80</td>\n",
              "      <td>100.00</td>\n",
              "      <td>UTI</td>\n",
              "      <td>2021-02-21T00:00:00</td>\n",
              "    </tr>\n",
              "    <tr>\n",
              "      <th>4</th>\n",
              "      <td>REDE PUBLICA</td>\n",
              "      <td>MATERNIDADE</td>\n",
              "      <td>82.40</td>\n",
              "      <td>24.10</td>\n",
              "      <td>CLINICO</td>\n",
              "      <td>2021-02-21T00:00:00</td>\n",
              "    </tr>\n",
              "  </tbody>\n",
              "</table>\n",
              "</div>"
            ],
            "text/plain": [
              "           rede tipo_hospital  ...     tipo_leito          data_coleta\n",
              "0  REDE PUBLICA         GERAL  ...            UTI  2021-02-21T00:00:00\n",
              "1  REDE PUBLICA         GERAL  ...        CLINICO  2021-02-21T00:00:00\n",
              "2  REDE PUBLICA         GERAL  ...  SALA VERMELHA  2021-02-21T00:00:00\n",
              "3  REDE PUBLICA   MATERNIDADE  ...            UTI  2021-02-21T00:00:00\n",
              "4  REDE PUBLICA   MATERNIDADE  ...        CLINICO  2021-02-21T00:00:00\n",
              "\n",
              "[5 rows x 6 columns]"
            ]
          },
          "metadata": {
            "tags": []
          },
          "execution_count": 59
        }
      ]
    },
    {
      "cell_type": "code",
      "metadata": {
        "id": "_umN2ZKfLbss"
      },
      "source": [
        "taxa_ocupacao.to_json(f'covid_fvs_leitos_taxa_ocupacao.json',orient=\"records\")"
      ],
      "execution_count": null,
      "outputs": []
    },
    {
      "cell_type": "markdown",
      "metadata": {
        "id": "9qT5MO73Lcu5"
      },
      "source": [
        "###Capacidade Instalada"
      ]
    },
    {
      "cell_type": "code",
      "metadata": {
        "colab": {
          "base_uri": "https://localhost:8080/",
          "height": 204
        },
        "id": "qEmj4BpkLcu6",
        "outputId": "3cac0ef1-c338-4fb8-a973-d22f57eaeb08"
      },
      "source": [
        "capacidade_instalada.head()"
      ],
      "execution_count": null,
      "outputs": [
        {
          "output_type": "execute_result",
          "data": {
            "text/html": [
              "<div>\n",
              "<style scoped>\n",
              "    .dataframe tbody tr th:only-of-type {\n",
              "        vertical-align: middle;\n",
              "    }\n",
              "\n",
              "    .dataframe tbody tr th {\n",
              "        vertical-align: top;\n",
              "    }\n",
              "\n",
              "    .dataframe thead th {\n",
              "        text-align: right;\n",
              "    }\n",
              "</style>\n",
              "<table border=\"1\" class=\"dataframe\">\n",
              "  <thead>\n",
              "    <tr style=\"text-align: right;\">\n",
              "      <th></th>\n",
              "      <th>REDE</th>\n",
              "      <th>CATEGORIA</th>\n",
              "      <th>OCUPADOS</th>\n",
              "      <th>LIVRE</th>\n",
              "      <th>TIPO DE LEITO</th>\n",
              "      <th>CATEGORIA DO LEITO</th>\n",
              "      <th>DATA COLETA</th>\n",
              "    </tr>\n",
              "  </thead>\n",
              "  <tbody>\n",
              "    <tr>\n",
              "      <th>0</th>\n",
              "      <td>REDE PUBLICA</td>\n",
              "      <td>GERAL</td>\n",
              "      <td>28</td>\n",
              "      <td>7</td>\n",
              "      <td>UTI</td>\n",
              "      <td>GERAL</td>\n",
              "      <td>2021-02-21</td>\n",
              "    </tr>\n",
              "    <tr>\n",
              "      <th>1</th>\n",
              "      <td>REDE PUBLICA</td>\n",
              "      <td>GERAL</td>\n",
              "      <td>338</td>\n",
              "      <td>56</td>\n",
              "      <td>CLINICO</td>\n",
              "      <td>GERAL</td>\n",
              "      <td>2021-02-21</td>\n",
              "    </tr>\n",
              "    <tr>\n",
              "      <th>2</th>\n",
              "      <td>REDE PUBLICA</td>\n",
              "      <td>GERAL</td>\n",
              "      <td>72</td>\n",
              "      <td>2</td>\n",
              "      <td>SALA VERMELHA</td>\n",
              "      <td>GERAL</td>\n",
              "      <td>2021-02-21</td>\n",
              "    </tr>\n",
              "    <tr>\n",
              "      <th>3</th>\n",
              "      <td>REDE PUBLICA</td>\n",
              "      <td>GESTANTE</td>\n",
              "      <td>56</td>\n",
              "      <td>5</td>\n",
              "      <td>UTI</td>\n",
              "      <td>GERAL</td>\n",
              "      <td>2021-02-21</td>\n",
              "    </tr>\n",
              "    <tr>\n",
              "      <th>4</th>\n",
              "      <td>REDE PUBLICA</td>\n",
              "      <td>GESTANTE</td>\n",
              "      <td>426</td>\n",
              "      <td>91</td>\n",
              "      <td>CLINICO</td>\n",
              "      <td>GERAL</td>\n",
              "      <td>2021-02-21</td>\n",
              "    </tr>\n",
              "  </tbody>\n",
              "</table>\n",
              "</div>"
            ],
            "text/plain": [
              "           REDE CATEGORIA  ...  CATEGORIA DO LEITO  DATA COLETA\n",
              "0  REDE PUBLICA     GERAL  ...              GERAL    2021-02-21\n",
              "1  REDE PUBLICA     GERAL  ...              GERAL    2021-02-21\n",
              "2  REDE PUBLICA     GERAL  ...              GERAL    2021-02-21\n",
              "3  REDE PUBLICA  GESTANTE  ...              GERAL    2021-02-21\n",
              "4  REDE PUBLICA  GESTANTE  ...              GERAL    2021-02-21\n",
              "\n",
              "[5 rows x 7 columns]"
            ]
          },
          "metadata": {
            "tags": []
          },
          "execution_count": 61
        }
      ]
    },
    {
      "cell_type": "code",
      "metadata": {
        "id": "jqIOUd6dLcu8"
      },
      "source": [
        "capacidade_instalada.columns = ['rede', 'tipo_hospital', 'leitos_ocupados','leitos_livres', 'tipo_leito','categoria_leito','data_coleta']"
      ],
      "execution_count": null,
      "outputs": []
    },
    {
      "cell_type": "code",
      "metadata": {
        "id": "sjPvLRRQH2hF"
      },
      "source": [
        "capacidade_instalada['tipo_hospital'] = capacidade_instalada['tipo_hospital'].str.replace('GESTANTE','MATERNIDADE')"
      ],
      "execution_count": null,
      "outputs": []
    },
    {
      "cell_type": "code",
      "metadata": {
        "id": "eaLs6RYwLcu9"
      },
      "source": [
        "capacidade_instalada['rede'] = capacidade_instalada['rede'].astype('str')\r\n",
        "capacidade_instalada['tipo_hospital'] = capacidade_instalada['tipo_hospital'].astype('str')\r\n",
        "capacidade_instalada['leitos_ocupados'] = capacidade_instalada['leitos_ocupados'].astype('int')\r\n",
        "capacidade_instalada['leitos_livres'] = capacidade_instalada['leitos_livres'].astype('int')\r\n",
        "capacidade_instalada['tipo_leito'] = capacidade_instalada['tipo_leito'].astype('str')\r\n",
        "capacidade_instalada['categoria_leito'] = capacidade_instalada['categoria_leito'].astype('str')\r\n",
        "capacidade_instalada['data_coleta'] = [str(x).replace(' ','T')  for x in capacidade_instalada['data_coleta']]"
      ],
      "execution_count": null,
      "outputs": []
    },
    {
      "cell_type": "code",
      "metadata": {
        "colab": {
          "base_uri": "https://localhost:8080/"
        },
        "id": "5lr9wuQELcu-",
        "outputId": "dac8cb81-af84-4d91-b8dc-cd5ecd72b01f"
      },
      "source": [
        "capacidade_instalada.dtypes"
      ],
      "execution_count": null,
      "outputs": [
        {
          "output_type": "execute_result",
          "data": {
            "text/plain": [
              "rede               object\n",
              "tipo_hospital      object\n",
              "leitos_ocupados     int64\n",
              "leitos_livres       int64\n",
              "tipo_leito         object\n",
              "categoria_leito    object\n",
              "data_coleta        object\n",
              "dtype: object"
            ]
          },
          "metadata": {
            "tags": []
          },
          "execution_count": 65
        }
      ]
    },
    {
      "cell_type": "code",
      "metadata": {
        "id": "0IT5bfkoQ4WJ"
      },
      "source": [
        "capacidade_privado = capacidade_instalada[(capacidade_instalada['rede']=='REDE PRIVADA')]"
      ],
      "execution_count": null,
      "outputs": []
    },
    {
      "cell_type": "code",
      "metadata": {
        "colab": {
          "base_uri": "https://localhost:8080/",
          "height": 235
        },
        "id": "mJ_vLkQ5Q_ce",
        "outputId": "214fda45-83cf-430f-ddbc-41810f9799dc"
      },
      "source": [
        "capacidade_privado"
      ],
      "execution_count": null,
      "outputs": [
        {
          "output_type": "execute_result",
          "data": {
            "text/html": [
              "<div>\n",
              "<style scoped>\n",
              "    .dataframe tbody tr th:only-of-type {\n",
              "        vertical-align: middle;\n",
              "    }\n",
              "\n",
              "    .dataframe tbody tr th {\n",
              "        vertical-align: top;\n",
              "    }\n",
              "\n",
              "    .dataframe thead th {\n",
              "        text-align: right;\n",
              "    }\n",
              "</style>\n",
              "<table border=\"1\" class=\"dataframe\">\n",
              "  <thead>\n",
              "    <tr style=\"text-align: right;\">\n",
              "      <th></th>\n",
              "      <th>rede</th>\n",
              "      <th>tipo_hospital</th>\n",
              "      <th>leitos_ocupados</th>\n",
              "      <th>leitos_livres</th>\n",
              "      <th>tipo_leito</th>\n",
              "      <th>categoria_leito</th>\n",
              "      <th>data_coleta</th>\n",
              "    </tr>\n",
              "  </thead>\n",
              "  <tbody>\n",
              "    <tr>\n",
              "      <th>21</th>\n",
              "      <td>REDE PRIVADA</td>\n",
              "      <td>PRIVADO</td>\n",
              "      <td>83</td>\n",
              "      <td>25</td>\n",
              "      <td>UTI</td>\n",
              "      <td>GERAL</td>\n",
              "      <td>2021-02-21T00:00:00</td>\n",
              "    </tr>\n",
              "    <tr>\n",
              "      <th>22</th>\n",
              "      <td>REDE PRIVADA</td>\n",
              "      <td>PRIVADO</td>\n",
              "      <td>249</td>\n",
              "      <td>122</td>\n",
              "      <td>CLINICO</td>\n",
              "      <td>GERAL</td>\n",
              "      <td>2021-02-21T00:00:00</td>\n",
              "    </tr>\n",
              "    <tr>\n",
              "      <th>23</th>\n",
              "      <td>REDE PRIVADA</td>\n",
              "      <td>PRIVADO</td>\n",
              "      <td>2</td>\n",
              "      <td>4</td>\n",
              "      <td>SALA VERMELHA</td>\n",
              "      <td>GERAL</td>\n",
              "      <td>2021-02-21T00:00:00</td>\n",
              "    </tr>\n",
              "    <tr>\n",
              "      <th>45</th>\n",
              "      <td>REDE PRIVADA</td>\n",
              "      <td>PRIVADO</td>\n",
              "      <td>218</td>\n",
              "      <td>30</td>\n",
              "      <td>UTI</td>\n",
              "      <td>COVID-19</td>\n",
              "      <td>2021-02-21T00:00:00</td>\n",
              "    </tr>\n",
              "    <tr>\n",
              "      <th>46</th>\n",
              "      <td>REDE PRIVADA</td>\n",
              "      <td>PRIVADO</td>\n",
              "      <td>227</td>\n",
              "      <td>97</td>\n",
              "      <td>CLINICO</td>\n",
              "      <td>COVID-19</td>\n",
              "      <td>2021-02-21T00:00:00</td>\n",
              "    </tr>\n",
              "    <tr>\n",
              "      <th>47</th>\n",
              "      <td>REDE PRIVADA</td>\n",
              "      <td>PRIVADO</td>\n",
              "      <td>4</td>\n",
              "      <td>2</td>\n",
              "      <td>SALA VERMELHA</td>\n",
              "      <td>COVID-19</td>\n",
              "      <td>2021-02-21T00:00:00</td>\n",
              "    </tr>\n",
              "  </tbody>\n",
              "</table>\n",
              "</div>"
            ],
            "text/plain": [
              "            rede tipo_hospital  ...  categoria_leito          data_coleta\n",
              "21  REDE PRIVADA       PRIVADO  ...           GERAL   2021-02-21T00:00:00\n",
              "22  REDE PRIVADA       PRIVADO  ...           GERAL   2021-02-21T00:00:00\n",
              "23  REDE PRIVADA       PRIVADO  ...           GERAL   2021-02-21T00:00:00\n",
              "45  REDE PRIVADA       PRIVADO  ...         COVID-19  2021-02-21T00:00:00\n",
              "46  REDE PRIVADA       PRIVADO  ...         COVID-19  2021-02-21T00:00:00\n",
              "47  REDE PRIVADA       PRIVADO  ...         COVID-19  2021-02-21T00:00:00\n",
              "\n",
              "[6 rows x 7 columns]"
            ]
          },
          "metadata": {
            "tags": []
          },
          "execution_count": 67
        }
      ]
    },
    {
      "cell_type": "code",
      "metadata": {
        "colab": {
          "base_uri": "https://localhost:8080/",
          "height": 204
        },
        "id": "ny1-mkefLcu_",
        "outputId": "370e6967-e63b-47e5-daf4-f99bda9e435a"
      },
      "source": [
        "capacidade_instalada.head()"
      ],
      "execution_count": null,
      "outputs": [
        {
          "output_type": "execute_result",
          "data": {
            "text/html": [
              "<div>\n",
              "<style scoped>\n",
              "    .dataframe tbody tr th:only-of-type {\n",
              "        vertical-align: middle;\n",
              "    }\n",
              "\n",
              "    .dataframe tbody tr th {\n",
              "        vertical-align: top;\n",
              "    }\n",
              "\n",
              "    .dataframe thead th {\n",
              "        text-align: right;\n",
              "    }\n",
              "</style>\n",
              "<table border=\"1\" class=\"dataframe\">\n",
              "  <thead>\n",
              "    <tr style=\"text-align: right;\">\n",
              "      <th></th>\n",
              "      <th>rede</th>\n",
              "      <th>tipo_hospital</th>\n",
              "      <th>leitos_ocupados</th>\n",
              "      <th>leitos_livres</th>\n",
              "      <th>tipo_leito</th>\n",
              "      <th>categoria_leito</th>\n",
              "      <th>data_coleta</th>\n",
              "    </tr>\n",
              "  </thead>\n",
              "  <tbody>\n",
              "    <tr>\n",
              "      <th>0</th>\n",
              "      <td>REDE PUBLICA</td>\n",
              "      <td>GERAL</td>\n",
              "      <td>28</td>\n",
              "      <td>7</td>\n",
              "      <td>UTI</td>\n",
              "      <td>GERAL</td>\n",
              "      <td>2021-02-21T00:00:00</td>\n",
              "    </tr>\n",
              "    <tr>\n",
              "      <th>1</th>\n",
              "      <td>REDE PUBLICA</td>\n",
              "      <td>GERAL</td>\n",
              "      <td>338</td>\n",
              "      <td>56</td>\n",
              "      <td>CLINICO</td>\n",
              "      <td>GERAL</td>\n",
              "      <td>2021-02-21T00:00:00</td>\n",
              "    </tr>\n",
              "    <tr>\n",
              "      <th>2</th>\n",
              "      <td>REDE PUBLICA</td>\n",
              "      <td>GERAL</td>\n",
              "      <td>72</td>\n",
              "      <td>2</td>\n",
              "      <td>SALA VERMELHA</td>\n",
              "      <td>GERAL</td>\n",
              "      <td>2021-02-21T00:00:00</td>\n",
              "    </tr>\n",
              "    <tr>\n",
              "      <th>3</th>\n",
              "      <td>REDE PUBLICA</td>\n",
              "      <td>MATERNIDADE</td>\n",
              "      <td>56</td>\n",
              "      <td>5</td>\n",
              "      <td>UTI</td>\n",
              "      <td>GERAL</td>\n",
              "      <td>2021-02-21T00:00:00</td>\n",
              "    </tr>\n",
              "    <tr>\n",
              "      <th>4</th>\n",
              "      <td>REDE PUBLICA</td>\n",
              "      <td>MATERNIDADE</td>\n",
              "      <td>426</td>\n",
              "      <td>91</td>\n",
              "      <td>CLINICO</td>\n",
              "      <td>GERAL</td>\n",
              "      <td>2021-02-21T00:00:00</td>\n",
              "    </tr>\n",
              "  </tbody>\n",
              "</table>\n",
              "</div>"
            ],
            "text/plain": [
              "           rede tipo_hospital  ...  categoria_leito          data_coleta\n",
              "0  REDE PUBLICA         GERAL  ...           GERAL   2021-02-21T00:00:00\n",
              "1  REDE PUBLICA         GERAL  ...           GERAL   2021-02-21T00:00:00\n",
              "2  REDE PUBLICA         GERAL  ...           GERAL   2021-02-21T00:00:00\n",
              "3  REDE PUBLICA   MATERNIDADE  ...           GERAL   2021-02-21T00:00:00\n",
              "4  REDE PUBLICA   MATERNIDADE  ...           GERAL   2021-02-21T00:00:00\n",
              "\n",
              "[5 rows x 7 columns]"
            ]
          },
          "metadata": {
            "tags": []
          },
          "execution_count": 68
        }
      ]
    },
    {
      "cell_type": "code",
      "metadata": {
        "id": "-66DOK3FLcvA"
      },
      "source": [
        "capacidade_instalada.to_json(f'covid_fvs_leitos_capacidade_instalada.json',orient=\"records\")"
      ],
      "execution_count": null,
      "outputs": []
    },
    {
      "cell_type": "markdown",
      "metadata": {
        "id": "oIgoqBITjYAN"
      },
      "source": [
        "##**Predição Casos**"
      ]
    },
    {
      "cell_type": "code",
      "metadata": {
        "colab": {
          "base_uri": "https://localhost:8080/"
        },
        "id": "WMnvBsMBjYAN",
        "outputId": "e6806e4b-f499-4bc7-f3db-8baf6b21eaf1"
      },
      "source": [
        "predicao_casos.head()"
      ],
      "execution_count": null,
      "outputs": [
        {
          "output_type": "execute_result",
          "data": {
            "text/html": [
              "<div>\n",
              "<style scoped>\n",
              "    .dataframe tbody tr th:only-of-type {\n",
              "        vertical-align: middle;\n",
              "    }\n",
              "\n",
              "    .dataframe tbody tr th {\n",
              "        vertical-align: top;\n",
              "    }\n",
              "\n",
              "    .dataframe thead th {\n",
              "        text-align: right;\n",
              "    }\n",
              "</style>\n",
              "<table border=\"1\" class=\"dataframe\">\n",
              "  <thead>\n",
              "    <tr style=\"text-align: right;\">\n",
              "      <th></th>\n",
              "      <th>Unnamed: 0</th>\n",
              "      <th>date</th>\n",
              "      <th>media_movel_casos_prevista</th>\n",
              "    </tr>\n",
              "  </thead>\n",
              "  <tbody>\n",
              "    <tr>\n",
              "      <th>0</th>\n",
              "      <td>0</td>\n",
              "      <td>01/11</td>\n",
              "      <td>321.53537</td>\n",
              "    </tr>\n",
              "    <tr>\n",
              "      <th>1</th>\n",
              "      <td>1</td>\n",
              "      <td>02/11</td>\n",
              "      <td>293.61417</td>\n",
              "    </tr>\n",
              "    <tr>\n",
              "      <th>2</th>\n",
              "      <td>2</td>\n",
              "      <td>03/11</td>\n",
              "      <td>279.36307</td>\n",
              "    </tr>\n",
              "    <tr>\n",
              "      <th>3</th>\n",
              "      <td>3</td>\n",
              "      <td>04/11</td>\n",
              "      <td>260.54446</td>\n",
              "    </tr>\n",
              "    <tr>\n",
              "      <th>4</th>\n",
              "      <td>4</td>\n",
              "      <td>05/11</td>\n",
              "      <td>258.25810</td>\n",
              "    </tr>\n",
              "  </tbody>\n",
              "</table>\n",
              "</div>"
            ],
            "text/plain": [
              "   Unnamed: 0   date  media_movel_casos_prevista\n",
              "0           0  01/11                   321.53537\n",
              "1           1  02/11                   293.61417\n",
              "2           2  03/11                   279.36307\n",
              "3           3  04/11                   260.54446\n",
              "4           4  05/11                   258.25810"
            ]
          },
          "metadata": {
            "tags": []
          },
          "execution_count": 143
        }
      ]
    },
    {
      "cell_type": "code",
      "metadata": {
        "id": "V4ddMrnmkttO"
      },
      "source": [
        "predicao_casos = predicao_casos.drop(columns=['Unnamed: 0'])"
      ],
      "execution_count": null,
      "outputs": []
    },
    {
      "cell_type": "code",
      "metadata": {
        "id": "lFORE8cMjYAO"
      },
      "source": [
        "predicao_casos.columns = ['data', 'media_movel_casos']"
      ],
      "execution_count": null,
      "outputs": []
    },
    {
      "cell_type": "markdown",
      "metadata": {
        "id": "PXTQMOniwwJ8"
      },
      "source": [
        "**Tratamento data**"
      ]
    },
    {
      "cell_type": "code",
      "metadata": {
        "id": "fwN40dN4uDVA"
      },
      "source": [
        "\r\n",
        "predicao_casos[\"data\"] =['{}-2020'.format(x.replace('/','-')) if x[3:6] == '12' or x[3:6] == '11'\r\n",
        "              else '{}-2021'.format(x.replace('/','-'))\r\n",
        "              for x in predicao_casos['data']]"
      ],
      "execution_count": null,
      "outputs": []
    },
    {
      "cell_type": "code",
      "metadata": {
        "id": "bCC6Wn2dCITE"
      },
      "source": [
        "predicao_casos[\"data\"] = [datetime.strptime(x,'%d-%m-%Y').date() for x in predicao_casos[\"data\"]]"
      ],
      "execution_count": null,
      "outputs": []
    },
    {
      "cell_type": "code",
      "metadata": {
        "colab": {
          "base_uri": "https://localhost:8080/"
        },
        "id": "6KIf75SXCDCl",
        "outputId": "7079a165-1149-4220-94eb-0f8b54b0b3a9"
      },
      "source": [
        "predicao_casos.head()"
      ],
      "execution_count": null,
      "outputs": [
        {
          "output_type": "execute_result",
          "data": {
            "text/html": [
              "<div>\n",
              "<style scoped>\n",
              "    .dataframe tbody tr th:only-of-type {\n",
              "        vertical-align: middle;\n",
              "    }\n",
              "\n",
              "    .dataframe tbody tr th {\n",
              "        vertical-align: top;\n",
              "    }\n",
              "\n",
              "    .dataframe thead th {\n",
              "        text-align: right;\n",
              "    }\n",
              "</style>\n",
              "<table border=\"1\" class=\"dataframe\">\n",
              "  <thead>\n",
              "    <tr style=\"text-align: right;\">\n",
              "      <th></th>\n",
              "      <th>data</th>\n",
              "      <th>media_movel_casos</th>\n",
              "    </tr>\n",
              "  </thead>\n",
              "  <tbody>\n",
              "    <tr>\n",
              "      <th>0</th>\n",
              "      <td>2020-11-01</td>\n",
              "      <td>321.53537</td>\n",
              "    </tr>\n",
              "    <tr>\n",
              "      <th>1</th>\n",
              "      <td>2020-11-02</td>\n",
              "      <td>293.61417</td>\n",
              "    </tr>\n",
              "    <tr>\n",
              "      <th>2</th>\n",
              "      <td>2020-11-03</td>\n",
              "      <td>279.36307</td>\n",
              "    </tr>\n",
              "    <tr>\n",
              "      <th>3</th>\n",
              "      <td>2020-11-04</td>\n",
              "      <td>260.54446</td>\n",
              "    </tr>\n",
              "    <tr>\n",
              "      <th>4</th>\n",
              "      <td>2020-11-05</td>\n",
              "      <td>258.25810</td>\n",
              "    </tr>\n",
              "  </tbody>\n",
              "</table>\n",
              "</div>"
            ],
            "text/plain": [
              "         data  media_movel_casos\n",
              "0  2020-11-01          321.53537\n",
              "1  2020-11-02          293.61417\n",
              "2  2020-11-03          279.36307\n",
              "3  2020-11-04          260.54446\n",
              "4  2020-11-05          258.25810"
            ]
          },
          "metadata": {
            "tags": []
          },
          "execution_count": 148
        }
      ]
    },
    {
      "cell_type": "code",
      "metadata": {
        "id": "6ad6pZ2kjYAO"
      },
      "source": [
        "#predicao_casos['media_movel_casos'] = predicao_casos['media_movel_casos'].astype('float')\r\n",
        "predicao_casos['data'] = [str(x) + ' 00:00:00'  for x in predicao_casos['data'] ]"
      ],
      "execution_count": null,
      "outputs": []
    },
    {
      "cell_type": "code",
      "metadata": {
        "id": "igWDctPANEpu"
      },
      "source": [
        "predicao_casos[\"data\"] = [datetime.strptime(x,'%Y-%m-%d %H:%M:%S') for x in predicao_casos[\"data\"]]"
      ],
      "execution_count": null,
      "outputs": []
    },
    {
      "cell_type": "code",
      "metadata": {
        "id": "ex0aCqjmNmpl"
      },
      "source": [
        "predicao_casos[\"data\"] = [str(x).replace(' ','T')  for x in predicao_casos[\"data\"]]"
      ],
      "execution_count": null,
      "outputs": []
    },
    {
      "cell_type": "code",
      "metadata": {
        "id": "db0Oae70HP_3"
      },
      "source": [
        "#predicao_casos[\"data\"] = [datetime.strptime(x, \"%Y-%m-%dT%H:%M:%S.%f\") for x in predicao_casos[\"data\"]]"
      ],
      "execution_count": null,
      "outputs": []
    },
    {
      "cell_type": "code",
      "metadata": {
        "colab": {
          "base_uri": "https://localhost:8080/"
        },
        "id": "ZXxXLwyTjYAO",
        "outputId": "87b267dd-8311-495a-850a-45986aa8a5ed"
      },
      "source": [
        "predicao_casos.dtypes"
      ],
      "execution_count": null,
      "outputs": [
        {
          "output_type": "execute_result",
          "data": {
            "text/plain": [
              "data                  object\n",
              "media_movel_casos    float64\n",
              "dtype: object"
            ]
          },
          "metadata": {
            "tags": []
          },
          "execution_count": 153
        }
      ]
    },
    {
      "cell_type": "code",
      "metadata": {
        "colab": {
          "base_uri": "https://localhost:8080/"
        },
        "id": "_oS8hOubjYAO",
        "outputId": "c08f3d92-80c1-40fa-b520-f85435f48aba"
      },
      "source": [
        "predicao_casos.head()"
      ],
      "execution_count": null,
      "outputs": [
        {
          "output_type": "execute_result",
          "data": {
            "text/html": [
              "<div>\n",
              "<style scoped>\n",
              "    .dataframe tbody tr th:only-of-type {\n",
              "        vertical-align: middle;\n",
              "    }\n",
              "\n",
              "    .dataframe tbody tr th {\n",
              "        vertical-align: top;\n",
              "    }\n",
              "\n",
              "    .dataframe thead th {\n",
              "        text-align: right;\n",
              "    }\n",
              "</style>\n",
              "<table border=\"1\" class=\"dataframe\">\n",
              "  <thead>\n",
              "    <tr style=\"text-align: right;\">\n",
              "      <th></th>\n",
              "      <th>data</th>\n",
              "      <th>media_movel_casos</th>\n",
              "    </tr>\n",
              "  </thead>\n",
              "  <tbody>\n",
              "    <tr>\n",
              "      <th>0</th>\n",
              "      <td>2020-11-01T00:00:00</td>\n",
              "      <td>321.53537</td>\n",
              "    </tr>\n",
              "    <tr>\n",
              "      <th>1</th>\n",
              "      <td>2020-11-02T00:00:00</td>\n",
              "      <td>293.61417</td>\n",
              "    </tr>\n",
              "    <tr>\n",
              "      <th>2</th>\n",
              "      <td>2020-11-03T00:00:00</td>\n",
              "      <td>279.36307</td>\n",
              "    </tr>\n",
              "    <tr>\n",
              "      <th>3</th>\n",
              "      <td>2020-11-04T00:00:00</td>\n",
              "      <td>260.54446</td>\n",
              "    </tr>\n",
              "    <tr>\n",
              "      <th>4</th>\n",
              "      <td>2020-11-05T00:00:00</td>\n",
              "      <td>258.25810</td>\n",
              "    </tr>\n",
              "  </tbody>\n",
              "</table>\n",
              "</div>"
            ],
            "text/plain": [
              "                  data  media_movel_casos\n",
              "0  2020-11-01T00:00:00          321.53537\n",
              "1  2020-11-02T00:00:00          293.61417\n",
              "2  2020-11-03T00:00:00          279.36307\n",
              "3  2020-11-04T00:00:00          260.54446\n",
              "4  2020-11-05T00:00:00          258.25810"
            ]
          },
          "metadata": {
            "tags": []
          },
          "execution_count": 154
        }
      ]
    },
    {
      "cell_type": "code",
      "metadata": {
        "id": "YfWYTMxIjYAP"
      },
      "source": [
        "predicao_casos.to_json(f'covid_predicao_casos.json',orient=\"records\")"
      ],
      "execution_count": null,
      "outputs": []
    },
    {
      "cell_type": "markdown",
      "metadata": {
        "id": "Sl3D3Xt-PEtr"
      },
      "source": [
        "##**Predição Óbitos**"
      ]
    },
    {
      "cell_type": "code",
      "metadata": {
        "colab": {
          "base_uri": "https://localhost:8080/"
        },
        "id": "xte4ww-vPEtx",
        "outputId": "4966ec0b-ff0e-44bc-a46e-11635820d7b5"
      },
      "source": [
        "predicao_obitos.head()"
      ],
      "execution_count": null,
      "outputs": [
        {
          "output_type": "execute_result",
          "data": {
            "text/html": [
              "<div>\n",
              "<style scoped>\n",
              "    .dataframe tbody tr th:only-of-type {\n",
              "        vertical-align: middle;\n",
              "    }\n",
              "\n",
              "    .dataframe tbody tr th {\n",
              "        vertical-align: top;\n",
              "    }\n",
              "\n",
              "    .dataframe thead th {\n",
              "        text-align: right;\n",
              "    }\n",
              "</style>\n",
              "<table border=\"1\" class=\"dataframe\">\n",
              "  <thead>\n",
              "    <tr style=\"text-align: right;\">\n",
              "      <th></th>\n",
              "      <th>Unnamed: 0</th>\n",
              "      <th>date</th>\n",
              "      <th>media_movel_deaths_prevista</th>\n",
              "    </tr>\n",
              "  </thead>\n",
              "  <tbody>\n",
              "    <tr>\n",
              "      <th>0</th>\n",
              "      <td>0</td>\n",
              "      <td>01/11</td>\n",
              "      <td>9.903850</td>\n",
              "    </tr>\n",
              "    <tr>\n",
              "      <th>1</th>\n",
              "      <td>1</td>\n",
              "      <td>02/11</td>\n",
              "      <td>9.981517</td>\n",
              "    </tr>\n",
              "    <tr>\n",
              "      <th>2</th>\n",
              "      <td>2</td>\n",
              "      <td>03/11</td>\n",
              "      <td>10.041626</td>\n",
              "    </tr>\n",
              "    <tr>\n",
              "      <th>3</th>\n",
              "      <td>3</td>\n",
              "      <td>04/11</td>\n",
              "      <td>9.393461</td>\n",
              "    </tr>\n",
              "    <tr>\n",
              "      <th>4</th>\n",
              "      <td>4</td>\n",
              "      <td>05/11</td>\n",
              "      <td>8.992658</td>\n",
              "    </tr>\n",
              "  </tbody>\n",
              "</table>\n",
              "</div>"
            ],
            "text/plain": [
              "   Unnamed: 0   date  media_movel_deaths_prevista\n",
              "0           0  01/11                     9.903850\n",
              "1           1  02/11                     9.981517\n",
              "2           2  03/11                    10.041626\n",
              "3           3  04/11                     9.393461\n",
              "4           4  05/11                     8.992658"
            ]
          },
          "metadata": {
            "tags": []
          },
          "execution_count": 156
        }
      ]
    },
    {
      "cell_type": "code",
      "metadata": {
        "id": "PphdgV20PEtz"
      },
      "source": [
        "predicao_obitos = predicao_obitos.drop(columns=['Unnamed: 0'])"
      ],
      "execution_count": null,
      "outputs": []
    },
    {
      "cell_type": "code",
      "metadata": {
        "id": "Jypcc_EjPEt0"
      },
      "source": [
        "predicao_obitos.columns = ['data', 'media_movel_obitos']"
      ],
      "execution_count": null,
      "outputs": []
    },
    {
      "cell_type": "markdown",
      "metadata": {
        "id": "ch5OQLDBPEt0"
      },
      "source": [
        "**Tratamento data**"
      ]
    },
    {
      "cell_type": "code",
      "metadata": {
        "id": "-vwfK1spPEt1"
      },
      "source": [
        "\r\n",
        "predicao_obitos[\"data\"] =['{}-2020'.format(x.replace('/','-')) if x[3:6] == '12' or x[3:6] == '11'\r\n",
        "              else '{}-2021'.format(x.replace('/','-'))\r\n",
        "              for x in predicao_obitos['data']]"
      ],
      "execution_count": null,
      "outputs": []
    },
    {
      "cell_type": "code",
      "metadata": {
        "id": "yWxeWwI0PEt2"
      },
      "source": [
        "predicao_obitos[\"data\"] = [datetime.strptime(x,'%d-%m-%Y').date() for x in predicao_obitos[\"data\"]]"
      ],
      "execution_count": null,
      "outputs": []
    },
    {
      "cell_type": "code",
      "metadata": {
        "colab": {
          "base_uri": "https://localhost:8080/"
        },
        "id": "va2uJDcZPEt2",
        "outputId": "c2b68184-63c8-49f5-e59f-37273522f76b"
      },
      "source": [
        "predicao_obitos.head()"
      ],
      "execution_count": null,
      "outputs": [
        {
          "output_type": "execute_result",
          "data": {
            "text/html": [
              "<div>\n",
              "<style scoped>\n",
              "    .dataframe tbody tr th:only-of-type {\n",
              "        vertical-align: middle;\n",
              "    }\n",
              "\n",
              "    .dataframe tbody tr th {\n",
              "        vertical-align: top;\n",
              "    }\n",
              "\n",
              "    .dataframe thead th {\n",
              "        text-align: right;\n",
              "    }\n",
              "</style>\n",
              "<table border=\"1\" class=\"dataframe\">\n",
              "  <thead>\n",
              "    <tr style=\"text-align: right;\">\n",
              "      <th></th>\n",
              "      <th>data</th>\n",
              "      <th>media_movel_obitos</th>\n",
              "    </tr>\n",
              "  </thead>\n",
              "  <tbody>\n",
              "    <tr>\n",
              "      <th>0</th>\n",
              "      <td>2020-11-01</td>\n",
              "      <td>9.903850</td>\n",
              "    </tr>\n",
              "    <tr>\n",
              "      <th>1</th>\n",
              "      <td>2020-11-02</td>\n",
              "      <td>9.981517</td>\n",
              "    </tr>\n",
              "    <tr>\n",
              "      <th>2</th>\n",
              "      <td>2020-11-03</td>\n",
              "      <td>10.041626</td>\n",
              "    </tr>\n",
              "    <tr>\n",
              "      <th>3</th>\n",
              "      <td>2020-11-04</td>\n",
              "      <td>9.393461</td>\n",
              "    </tr>\n",
              "    <tr>\n",
              "      <th>4</th>\n",
              "      <td>2020-11-05</td>\n",
              "      <td>8.992658</td>\n",
              "    </tr>\n",
              "  </tbody>\n",
              "</table>\n",
              "</div>"
            ],
            "text/plain": [
              "         data  media_movel_obitos\n",
              "0  2020-11-01            9.903850\n",
              "1  2020-11-02            9.981517\n",
              "2  2020-11-03           10.041626\n",
              "3  2020-11-04            9.393461\n",
              "4  2020-11-05            8.992658"
            ]
          },
          "metadata": {
            "tags": []
          },
          "execution_count": 161
        }
      ]
    },
    {
      "cell_type": "code",
      "metadata": {
        "id": "SA_eLzHjPEt2"
      },
      "source": [
        "#predicao_obitos['media_movel_obitos'] = predicao_obitos['media_movel_obitos'].astype('float')\r\n",
        "predicao_obitos['data'] = [str(x) + ' 00:00:00'  for x in predicao_obitos['data'] ]"
      ],
      "execution_count": null,
      "outputs": []
    },
    {
      "cell_type": "code",
      "metadata": {
        "id": "8fsw90BGPEt3"
      },
      "source": [
        "predicao_obitos[\"data\"] = [datetime.strptime(x,'%Y-%m-%d %H:%M:%S') for x in predicao_obitos[\"data\"]]"
      ],
      "execution_count": null,
      "outputs": []
    },
    {
      "cell_type": "code",
      "metadata": {
        "id": "wAWR-IvbPEt3"
      },
      "source": [
        "predicao_obitos[\"data\"] = [str(x).replace(' ','T')  for x in predicao_obitos[\"data\"]]"
      ],
      "execution_count": null,
      "outputs": []
    },
    {
      "cell_type": "code",
      "metadata": {
        "id": "qWEm765CPEt4"
      },
      "source": [
        "#predicao_casos[\"data\"] = [datetime.strptime(x, \"%Y-%m-%dT%H:%M:%S.%f\") for x in predicao_casos[\"data\"]]"
      ],
      "execution_count": null,
      "outputs": []
    },
    {
      "cell_type": "code",
      "metadata": {
        "colab": {
          "base_uri": "https://localhost:8080/"
        },
        "id": "t4qcDffHPEt4",
        "outputId": "78b80f47-7926-4233-bf0a-b710f462c0ce"
      },
      "source": [
        "predicao_obitos.dtypes"
      ],
      "execution_count": null,
      "outputs": [
        {
          "output_type": "execute_result",
          "data": {
            "text/plain": [
              "data                   object\n",
              "media_movel_obitos    float64\n",
              "dtype: object"
            ]
          },
          "metadata": {
            "tags": []
          },
          "execution_count": 166
        }
      ]
    },
    {
      "cell_type": "code",
      "metadata": {
        "colab": {
          "base_uri": "https://localhost:8080/"
        },
        "id": "lenCsxndPEt5",
        "outputId": "80ec8d82-6a3d-4cc9-9f3a-aedf1c7adcfb"
      },
      "source": [
        "predicao_obitos.head()"
      ],
      "execution_count": null,
      "outputs": [
        {
          "output_type": "execute_result",
          "data": {
            "text/html": [
              "<div>\n",
              "<style scoped>\n",
              "    .dataframe tbody tr th:only-of-type {\n",
              "        vertical-align: middle;\n",
              "    }\n",
              "\n",
              "    .dataframe tbody tr th {\n",
              "        vertical-align: top;\n",
              "    }\n",
              "\n",
              "    .dataframe thead th {\n",
              "        text-align: right;\n",
              "    }\n",
              "</style>\n",
              "<table border=\"1\" class=\"dataframe\">\n",
              "  <thead>\n",
              "    <tr style=\"text-align: right;\">\n",
              "      <th></th>\n",
              "      <th>data</th>\n",
              "      <th>media_movel_obitos</th>\n",
              "    </tr>\n",
              "  </thead>\n",
              "  <tbody>\n",
              "    <tr>\n",
              "      <th>0</th>\n",
              "      <td>2020-11-01T00:00:00</td>\n",
              "      <td>9.903850</td>\n",
              "    </tr>\n",
              "    <tr>\n",
              "      <th>1</th>\n",
              "      <td>2020-11-02T00:00:00</td>\n",
              "      <td>9.981517</td>\n",
              "    </tr>\n",
              "    <tr>\n",
              "      <th>2</th>\n",
              "      <td>2020-11-03T00:00:00</td>\n",
              "      <td>10.041626</td>\n",
              "    </tr>\n",
              "    <tr>\n",
              "      <th>3</th>\n",
              "      <td>2020-11-04T00:00:00</td>\n",
              "      <td>9.393461</td>\n",
              "    </tr>\n",
              "    <tr>\n",
              "      <th>4</th>\n",
              "      <td>2020-11-05T00:00:00</td>\n",
              "      <td>8.992658</td>\n",
              "    </tr>\n",
              "  </tbody>\n",
              "</table>\n",
              "</div>"
            ],
            "text/plain": [
              "                  data  media_movel_obitos\n",
              "0  2020-11-01T00:00:00            9.903850\n",
              "1  2020-11-02T00:00:00            9.981517\n",
              "2  2020-11-03T00:00:00           10.041626\n",
              "3  2020-11-04T00:00:00            9.393461\n",
              "4  2020-11-05T00:00:00            8.992658"
            ]
          },
          "metadata": {
            "tags": []
          },
          "execution_count": 167
        }
      ]
    },
    {
      "cell_type": "code",
      "metadata": {
        "id": "ftrPJGk5PEt5"
      },
      "source": [
        "predicao_obitos.to_json(f'covid_predicao_obitos.json',orient=\"records\")"
      ],
      "execution_count": null,
      "outputs": []
    },
    {
      "cell_type": "markdown",
      "metadata": {
        "id": "mb0sVumhWbgk"
      },
      "source": [
        "#**Envio**"
      ]
    },
    {
      "cell_type": "markdown",
      "metadata": {
        "id": "hXhNrNiWNnpz"
      },
      "source": [
        "##**Casos**"
      ]
    },
    {
      "cell_type": "markdown",
      "metadata": {
        "id": "-yed2W04ZdTz"
      },
      "source": [
        "###**Historica**"
      ]
    },
    {
      "cell_type": "code",
      "metadata": {
        "colab": {
          "base_uri": "https://localhost:8080/"
        },
        "id": "YHZVWZPJtnX-",
        "outputId": "a46ffde9-1001-45ff-e0b5-fca4fa56448e"
      },
      "source": [
        "f = open ('covid_fvs_historico_casos.json', \"r\", encoding = \"utf-8\") \r\n",
        "data = json.loads(f.read())\r\n",
        "itens = []\r\n",
        "cont = 0\r\n",
        "\r\n",
        "for i in data:\r\n",
        "  dict = {\r\n",
        "    '_index': 'covid_fvs_historico_casos',\r\n",
        "    'id': f\"Item{cont}{i['data_coleta']}\",\r\n",
        "    '_source': i\r\n",
        "  }\r\n",
        "\r\n",
        "  itens.append(dict)\r\n",
        "  cont+=1\r\n",
        "\r\n",
        "\r\n",
        "helpers.bulk(es,itens)"
      ],
      "execution_count": 108,
      "outputs": [
        {
          "output_type": "stream",
          "text": [
            "/usr/local/lib/python3.6/dist-packages/urllib3/connectionpool.py:847: InsecureRequestWarning: Unverified HTTPS request is being made. Adding certificate verification is strongly advised. See: https://urllib3.readthedocs.io/en/latest/advanced-usage.html#ssl-warnings\n",
            "  InsecureRequestWarning)\n"
          ],
          "name": "stderr"
        },
        {
          "output_type": "execute_result",
          "data": {
            "text/plain": [
              "(448, [])"
            ]
          },
          "metadata": {
            "tags": []
          },
          "execution_count": 108
        }
      ]
    },
    {
      "cell_type": "markdown",
      "metadata": {
        "id": "dRmewFWqZhr2"
      },
      "source": [
        "###**Diária**"
      ]
    },
    {
      "cell_type": "code",
      "metadata": {
        "colab": {
          "base_uri": "https://localhost:8080/"
        },
        "id": "mA8LQZb0Zb21",
        "outputId": "8f86bd74-e697-4eeb-f00b-57ff2ddf2fc6"
      },
      "source": [
        "f = open ('covid_fvs_casos_por_municipios.json', \"r\", encoding = \"utf-8\") \r\n",
        "data = json.loads(f.read())\r\n",
        "itens = []\r\n",
        "cont = 0\r\n",
        "\r\n",
        "for i in data:\r\n",
        "  dict = {\r\n",
        "    '_index': 'covid_fvs_casos_por_municipios',\r\n",
        "    'id': f\"Item{cont}{i['data_coleta']}\",\r\n",
        "    '_source': i\r\n",
        "  }\r\n",
        "\r\n",
        "  itens.append(dict)\r\n",
        "  cont+=1\r\n",
        "\r\n",
        "\r\n",
        "helpers.bulk(es,itens)"
      ],
      "execution_count": null,
      "outputs": [
        {
          "output_type": "stream",
          "text": [
            "/usr/local/lib/python3.6/dist-packages/urllib3/connectionpool.py:847: InsecureRequestWarning: Unverified HTTPS request is being made. Adding certificate verification is strongly advised. See: https://urllib3.readthedocs.io/en/latest/advanced-usage.html#ssl-warnings\n",
            "  InsecureRequestWarning)\n"
          ],
          "name": "stderr"
        },
        {
          "output_type": "execute_result",
          "data": {
            "text/plain": [
              "(448, [])"
            ]
          },
          "metadata": {
            "tags": []
          },
          "execution_count": 169
        }
      ]
    },
    {
      "cell_type": "markdown",
      "metadata": {
        "id": "d7C08CwVNGTN"
      },
      "source": [
        "##**Vacinados**"
      ]
    },
    {
      "cell_type": "markdown",
      "metadata": {
        "id": "YJu6V1D3Zwqs"
      },
      "source": [
        "###**Diária**"
      ]
    },
    {
      "cell_type": "code",
      "metadata": {
        "colab": {
          "base_uri": "https://localhost:8080/"
        },
        "id": "WTWpY3hHZwqz",
        "outputId": "e45b56ad-6858-4eb0-aa34-9ed426ee675d"
      },
      "source": [
        "f = open ('covid_prefeitura_vacinados_por_dia.json', \"r\", encoding = \"utf-8\") \r\n",
        "data = json.loads(f.read())\r\n",
        "itens = []\r\n",
        "cont = 0\r\n",
        "\r\n",
        "for i in data:\r\n",
        "  dict = {\r\n",
        "    '_index': 'covid_prefeitura_vacinados_por_dia',\r\n",
        "    'id': f\"Item{cont}{i['dia']}\",\r\n",
        "    '_source': i\r\n",
        "  }\r\n",
        "\r\n",
        "  itens.append(dict)\r\n",
        "  cont+=1\r\n",
        "\r\n",
        "\r\n",
        "helpers.bulk(es,itens)"
      ],
      "execution_count": null,
      "outputs": [
        {
          "output_type": "stream",
          "text": [
            "/usr/local/lib/python3.6/dist-packages/urllib3/connectionpool.py:847: InsecureRequestWarning: Unverified HTTPS request is being made. Adding certificate verification is strongly advised. See: https://urllib3.readthedocs.io/en/latest/advanced-usage.html#ssl-warnings\n",
            "  InsecureRequestWarning)\n"
          ],
          "name": "stderr"
        },
        {
          "output_type": "execute_result",
          "data": {
            "text/plain": [
              "(32, [])"
            ]
          },
          "metadata": {
            "tags": []
          },
          "execution_count": 170
        }
      ]
    },
    {
      "cell_type": "code",
      "metadata": {
        "colab": {
          "base_uri": "https://localhost:8080/"
        },
        "id": "s0mP0znwZwq0",
        "outputId": "5f5874b3-2b48-4d02-ae60-d7fe09c39da6"
      },
      "source": [
        "f = open ('covid_prefeitura_vacinados_por_grupo.json', \"r\", encoding = \"utf-8\") \r\n",
        "data = json.loads(f.read())\r\n",
        "itens = []\r\n",
        "cont = 0\r\n",
        "\r\n",
        "for i in data:\r\n",
        "  dict = {\r\n",
        "    '_index': 'covid_prefeitura_vacinados_por_grupo',\r\n",
        "    'id': f\"Item{cont}{i['data_coleta']}\",\r\n",
        "    '_source': i\r\n",
        "  }\r\n",
        "\r\n",
        "  itens.append(dict)\r\n",
        "  cont+=1\r\n",
        "\r\n",
        "\r\n",
        "helpers.bulk(es,itens)"
      ],
      "execution_count": null,
      "outputs": [
        {
          "output_type": "stream",
          "text": [
            "/usr/local/lib/python3.6/dist-packages/urllib3/connectionpool.py:847: InsecureRequestWarning: Unverified HTTPS request is being made. Adding certificate verification is strongly advised. See: https://urllib3.readthedocs.io/en/latest/advanced-usage.html#ssl-warnings\n",
            "  InsecureRequestWarning)\n"
          ],
          "name": "stderr"
        },
        {
          "output_type": "execute_result",
          "data": {
            "text/plain": [
              "(12, [])"
            ]
          },
          "metadata": {
            "tags": []
          },
          "execution_count": 171
        }
      ]
    },
    {
      "cell_type": "code",
      "metadata": {
        "colab": {
          "base_uri": "https://localhost:8080/"
        },
        "id": "Yyn0crh9Zwq0",
        "outputId": "28dc4ee3-7bf0-4bfb-ea87-b0ff473e7414"
      },
      "source": [
        "f = open ('covid_prefeitura_vacinados_por_local.json', \"r\", encoding = \"utf-8\") \r\n",
        "data = json.loads(f.read())\r\n",
        "itens = []\r\n",
        "cont = 0\r\n",
        "\r\n",
        "for i in data:\r\n",
        "  dict = {\r\n",
        "    '_index': 'covid_prefeitura_vacinados_por_local',\r\n",
        "    'id': f\"Item{cont}{i['data_coleta']}\",\r\n",
        "    '_source': i\r\n",
        "  }\r\n",
        "\r\n",
        "  itens.append(dict)\r\n",
        "  cont+=1\r\n",
        "\r\n",
        "\r\n",
        "helpers.bulk(es,itens)"
      ],
      "execution_count": null,
      "outputs": [
        {
          "output_type": "stream",
          "text": [
            "/usr/local/lib/python3.6/dist-packages/urllib3/connectionpool.py:847: InsecureRequestWarning: Unverified HTTPS request is being made. Adding certificate verification is strongly advised. See: https://urllib3.readthedocs.io/en/latest/advanced-usage.html#ssl-warnings\n",
            "  InsecureRequestWarning)\n",
            "/usr/local/lib/python3.6/dist-packages/urllib3/connectionpool.py:847: InsecureRequestWarning: Unverified HTTPS request is being made. Adding certificate verification is strongly advised. See: https://urllib3.readthedocs.io/en/latest/advanced-usage.html#ssl-warnings\n",
            "  InsecureRequestWarning)\n"
          ],
          "name": "stderr"
        },
        {
          "output_type": "execute_result",
          "data": {
            "text/plain": [
              "(981, [])"
            ]
          },
          "metadata": {
            "tags": []
          },
          "execution_count": 172
        }
      ]
    },
    {
      "cell_type": "code",
      "metadata": {
        "colab": {
          "base_uri": "https://localhost:8080/"
        },
        "id": "BmD4BgW2Zwq0",
        "outputId": "c4aceba2-cd20-40f7-ce88-ad209a7ef9c9"
      },
      "source": [
        "f = open ('covid_prefeitura_vacinados_totais.json', \"r\", encoding = \"utf-8\") \r\n",
        "data = json.loads(f.read())\r\n",
        "itens = []\r\n",
        "cont = 0\r\n",
        "\r\n",
        "for i in data:\r\n",
        "  dict = {\r\n",
        "    '_index': 'covid_prefeitura_vacinados_totais',\r\n",
        "    'id': f\"Item{cont}{i['data_coleta']}\",\r\n",
        "    '_source': i\r\n",
        "  }\r\n",
        "\r\n",
        "  itens.append(dict)\r\n",
        "  cont+=1\r\n",
        "\r\n",
        "\r\n",
        "helpers.bulk(es,itens)"
      ],
      "execution_count": null,
      "outputs": [
        {
          "output_type": "stream",
          "text": [
            "/usr/local/lib/python3.6/dist-packages/urllib3/connectionpool.py:847: InsecureRequestWarning: Unverified HTTPS request is being made. Adding certificate verification is strongly advised. See: https://urllib3.readthedocs.io/en/latest/advanced-usage.html#ssl-warnings\n",
            "  InsecureRequestWarning)\n"
          ],
          "name": "stderr"
        },
        {
          "output_type": "execute_result",
          "data": {
            "text/plain": [
              "(5, [])"
            ]
          },
          "metadata": {
            "tags": []
          },
          "execution_count": 173
        }
      ]
    },
    {
      "cell_type": "markdown",
      "metadata": {
        "id": "DVMmyx9uaxAW"
      },
      "source": [
        "##**Sepultamentos**"
      ]
    },
    {
      "cell_type": "code",
      "metadata": {
        "colab": {
          "base_uri": "https://localhost:8080/"
        },
        "id": "rKN9gPP6aki2",
        "outputId": "c694e589-b094-4c2d-9c8d-67f7b27523f5"
      },
      "source": [
        "f = open ('covid_numero_sepultamentos_por_rede.json', \"r\", encoding = \"utf-8\") \r\n",
        "data = json.loads(f.read())\r\n",
        "itens = []\r\n",
        "cont = 0\r\n",
        "\r\n",
        "for i in data:\r\n",
        "  dict = {\r\n",
        "    '_index': 'covid_numero_sepultamentos_por_rede',\r\n",
        "    'id': f\"Item{cont}{i['data_coleta']}\",\r\n",
        "    '_source': i\r\n",
        "  }\r\n",
        "\r\n",
        "  itens.append(dict)\r\n",
        "  cont+=1\r\n",
        "\r\n",
        "\r\n",
        "helpers.bulk(es,itens)"
      ],
      "execution_count": null,
      "outputs": [
        {
          "output_type": "stream",
          "text": [
            "/usr/local/lib/python3.6/dist-packages/urllib3/connectionpool.py:847: InsecureRequestWarning: Unverified HTTPS request is being made. Adding certificate verification is strongly advised. See: https://urllib3.readthedocs.io/en/latest/advanced-usage.html#ssl-warnings\n",
            "  InsecureRequestWarning)\n"
          ],
          "name": "stderr"
        },
        {
          "output_type": "execute_result",
          "data": {
            "text/plain": [
              "(52, [])"
            ]
          },
          "metadata": {
            "tags": []
          },
          "execution_count": 174
        }
      ]
    },
    {
      "cell_type": "markdown",
      "metadata": {
        "id": "TFLi-BidQVW0"
      },
      "source": [
        "##**Leitos**"
      ]
    },
    {
      "cell_type": "code",
      "metadata": {
        "colab": {
          "base_uri": "https://localhost:8080/"
        },
        "id": "OiSQTwzGQVXA",
        "outputId": "01f4306c-47b8-428d-df37-2e1514c0bae0"
      },
      "source": [
        "f = open ('covid_fvs_leitos.json', \"r\", encoding = \"utf-8\") \r\n",
        "data = json.loads(f.read())\r\n",
        "itens = []\r\n",
        "cont = 0\r\n",
        "\r\n",
        "for i in data:\r\n",
        "  dict = {\r\n",
        "    '_index': 'covid_fvs_leitos',\r\n",
        "    'id': f\"Item{cont}{i['data_coleta']}\",\r\n",
        "    '_source': i\r\n",
        "  }\r\n",
        "\r\n",
        "  itens.append(dict)\r\n",
        "  cont+=1\r\n",
        "\r\n",
        "\r\n",
        "helpers.bulk(es,itens)"
      ],
      "execution_count": null,
      "outputs": [
        {
          "output_type": "stream",
          "text": [
            "/usr/local/lib/python3.6/dist-packages/urllib3/connectionpool.py:847: InsecureRequestWarning: Unverified HTTPS request is being made. Adding certificate verification is strongly advised. See: https://urllib3.readthedocs.io/en/latest/advanced-usage.html#ssl-warnings\n",
            "  InsecureRequestWarning)\n"
          ],
          "name": "stderr"
        },
        {
          "output_type": "execute_result",
          "data": {
            "text/plain": [
              "(48, [])"
            ]
          },
          "metadata": {
            "tags": []
          },
          "execution_count": 175
        }
      ]
    },
    {
      "cell_type": "code",
      "metadata": {
        "colab": {
          "base_uri": "https://localhost:8080/"
        },
        "id": "_LFMU7RcQXyk",
        "outputId": "2c4b61ff-074d-4c09-d2a1-ccbfd0a024ed"
      },
      "source": [
        "f = open ('covid_fvs_leitos_taxa_ocupacao.json', \"r\", encoding = \"utf-8\") \r\n",
        "data = json.loads(f.read())\r\n",
        "itens = []\r\n",
        "cont = 0\r\n",
        "\r\n",
        "for i in data:\r\n",
        "  dict = {\r\n",
        "    '_index': 'covid_fvs_leitos_taxa_ocupacao',\r\n",
        "    'id': f\"Item{cont}{i['data_coleta']}\",\r\n",
        "    '_source': i\r\n",
        "  }\r\n",
        "\r\n",
        "  itens.append(dict)\r\n",
        "  cont+=1\r\n",
        "\r\n",
        "\r\n",
        "helpers.bulk(es,itens)"
      ],
      "execution_count": null,
      "outputs": [
        {
          "output_type": "stream",
          "text": [
            "/usr/local/lib/python3.6/dist-packages/urllib3/connectionpool.py:847: InsecureRequestWarning: Unverified HTTPS request is being made. Adding certificate verification is strongly advised. See: https://urllib3.readthedocs.io/en/latest/advanced-usage.html#ssl-warnings\n",
            "  InsecureRequestWarning)\n"
          ],
          "name": "stderr"
        },
        {
          "output_type": "execute_result",
          "data": {
            "text/plain": [
              "(24, [])"
            ]
          },
          "metadata": {
            "tags": []
          },
          "execution_count": 176
        }
      ]
    },
    {
      "cell_type": "code",
      "metadata": {
        "colab": {
          "base_uri": "https://localhost:8080/"
        },
        "id": "QLEGwnTAQZm-",
        "outputId": "1a689d2b-b525-4123-9d3a-9514ee1a19ce"
      },
      "source": [
        "f = open ('covid_fvs_leitos_capacidade_instalada.json', \"r\", encoding = \"utf-8\") \r\n",
        "data = json.loads(f.read())\r\n",
        "itens = []\r\n",
        "cont = 0\r\n",
        "\r\n",
        "for i in data:\r\n",
        "  dict = {\r\n",
        "    '_index': 'covid_fvs_leitos_capacidade_instalada',\r\n",
        "    'id': f\"Item{cont}{i['data_coleta']}\",\r\n",
        "    '_source': i\r\n",
        "  }\r\n",
        "\r\n",
        "  itens.append(dict)\r\n",
        "  cont+=1\r\n",
        "\r\n",
        "\r\n",
        "helpers.bulk(es,itens)"
      ],
      "execution_count": null,
      "outputs": [
        {
          "output_type": "stream",
          "text": [
            "/usr/local/lib/python3.6/dist-packages/urllib3/connectionpool.py:847: InsecureRequestWarning: Unverified HTTPS request is being made. Adding certificate verification is strongly advised. See: https://urllib3.readthedocs.io/en/latest/advanced-usage.html#ssl-warnings\n",
            "  InsecureRequestWarning)\n"
          ],
          "name": "stderr"
        },
        {
          "output_type": "execute_result",
          "data": {
            "text/plain": [
              "(48, [])"
            ]
          },
          "metadata": {
            "tags": []
          },
          "execution_count": 177
        }
      ]
    },
    {
      "cell_type": "markdown",
      "metadata": {
        "id": "qlnHoSX5V7ar"
      },
      "source": [
        "##**Tabelas de Predição**"
      ]
    },
    {
      "cell_type": "markdown",
      "metadata": {
        "id": "zZ1s3pwNY7Fm"
      },
      "source": [
        "###**Predição casos**\r\n"
      ]
    },
    {
      "cell_type": "code",
      "metadata": {
        "colab": {
          "base_uri": "https://localhost:8080/"
        },
        "id": "LfezqQrOV6hQ",
        "outputId": "62fa2c10-6cb8-41f8-8782-8d35592c8b00"
      },
      "source": [
        "f = open ('covid_predicao_casos.json', \"r\", encoding = \"utf-8\") \r\n",
        "data = json.loads(f.read())\r\n",
        "itens = []\r\n",
        "cont = 0\r\n",
        "\r\n",
        "for i in data:\r\n",
        "  dict = {\r\n",
        "    '_index': 'covid_predicao_casos',\r\n",
        "    'id': f\"Item{cont}{i['data']}\",\r\n",
        "    '_source': i\r\n",
        "  }\r\n",
        "\r\n",
        "  itens.append(dict)\r\n",
        "  cont+=1\r\n",
        "\r\n",
        "\r\n",
        "helpers.bulk(es,itens)"
      ],
      "execution_count": null,
      "outputs": [
        {
          "output_type": "stream",
          "text": [
            "/usr/local/lib/python3.6/dist-packages/urllib3/connectionpool.py:847: InsecureRequestWarning: Unverified HTTPS request is being made. Adding certificate verification is strongly advised. See: https://urllib3.readthedocs.io/en/latest/advanced-usage.html#ssl-warnings\n",
            "  InsecureRequestWarning)\n"
          ],
          "name": "stderr"
        },
        {
          "output_type": "execute_result",
          "data": {
            "text/plain": [
              "(121, [])"
            ]
          },
          "metadata": {
            "tags": []
          },
          "execution_count": 178
        }
      ]
    },
    {
      "cell_type": "markdown",
      "metadata": {
        "id": "WrTgp8-SZDig"
      },
      "source": [
        "###**Predição obitos**\r\n"
      ]
    },
    {
      "cell_type": "code",
      "metadata": {
        "colab": {
          "base_uri": "https://localhost:8080/"
        },
        "id": "94hGPlz8WAkK",
        "outputId": "7ad87ab8-5878-45ea-b937-e988ef8c8ff0"
      },
      "source": [
        "f = open ('covid_predicao_obitos.json', \"r\", encoding = \"utf-8\") \r\n",
        "data = json.loads(f.read())\r\n",
        "itens = []\r\n",
        "cont = 0\r\n",
        "\r\n",
        "for i in data:\r\n",
        "  dict = {\r\n",
        "    '_index': 'covid_predicao_obitos',\r\n",
        "    'id': f\"Item{cont}{i['data']}\",\r\n",
        "    '_source': i\r\n",
        "  }\r\n",
        "\r\n",
        "  itens.append(dict)\r\n",
        "  cont+=1\r\n",
        "\r\n",
        "\r\n",
        "helpers.bulk(es,itens)"
      ],
      "execution_count": null,
      "outputs": [
        {
          "output_type": "stream",
          "text": [
            "/usr/local/lib/python3.6/dist-packages/urllib3/connectionpool.py:847: InsecureRequestWarning: Unverified HTTPS request is being made. Adding certificate verification is strongly advised. See: https://urllib3.readthedocs.io/en/latest/advanced-usage.html#ssl-warnings\n",
            "  InsecureRequestWarning)\n"
          ],
          "name": "stderr"
        },
        {
          "output_type": "execute_result",
          "data": {
            "text/plain": [
              "(121, [])"
            ]
          },
          "metadata": {
            "tags": []
          },
          "execution_count": 179
        }
      ]
    },
    {
      "cell_type": "markdown",
      "metadata": {
        "id": "RWQZy_vWpObH"
      },
      "source": [
        "*Não Mexer nessa base*"
      ]
    }
  ]
}